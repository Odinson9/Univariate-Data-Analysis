{
 "cells": [
  {
   "cell_type": "code",
   "execution_count": 14,
   "metadata": {},
   "outputs": [],
   "source": [
    "## IMport libraries\n",
    "\n",
    "import pandas as pd\n",
    "import numpy as np\n",
    "import seaborn as sns\n",
    "import matplotlib.pyplot as plt\n",
    "from pandas import read_excel\n",
    "from pandas import read_csv\n",
    "from numpy import percentile\n",
    "import itertools\n",
    "from matplotlib.backends.backend_pdf import PdfPages\n",
    "# Use seaborn style defaults and set the default figure size\n",
    "sns.set(rc={'figure.figsize':(15, 10)})\n",
    "from scipy import stats\n",
    "from scipy.stats import norm\n",
    "import statistics\n",
    "import warnings\n",
    "warnings.filterwarnings('ignore')\n",
    "import datetime as dt"
   ]
  },
  {
   "cell_type": "code",
   "execution_count": 40,
   "metadata": {},
   "outputs": [],
   "source": [
    "df6=pd.read_csv('Sample_data_lihir.csv',header=0, index_col=0, parse_dates=True, squeeze=True)\n",
    "data7=df6.copy()"
   ]
  },
  {
   "cell_type": "code",
   "execution_count": 41,
   "metadata": {},
   "outputs": [],
   "source": [
    "## Function for changing data type to numric\n",
    "def NumericDtype(dataframe):\n",
    "    columns1=list(dataframe)\n",
    "    for i in columns1:\n",
    "        dataframe[i]=pd.to_numeric(dataframe[i], errors='coerce')\n",
    "        dataframe[i] = dataframe[i].dropna()\n",
    "    return;"
   ]
  },
  {
   "cell_type": "code",
   "execution_count": 42,
   "metadata": {},
   "outputs": [],
   "source": [
    "NumericDtype(data7)"
   ]
  },
  {
   "cell_type": "code",
   "execution_count": 43,
   "metadata": {},
   "outputs": [
    {
     "data": {
      "text/plain": [
       "(150, 70)"
      ]
     },
     "execution_count": 43,
     "metadata": {},
     "output_type": "execute_result"
    }
   ],
   "source": [
    "data7.shape"
   ]
  },
  {
   "cell_type": "code",
   "execution_count": 51,
   "metadata": {},
   "outputs": [],
   "source": [
    "june=data7.loc['2019-04':'2019-06']"
   ]
  },
  {
   "cell_type": "code",
   "execution_count": 7,
   "metadata": {},
   "outputs": [],
   "source": [
    "june.to_csv('GPJ.csv')"
   ]
  },
  {
   "cell_type": "code",
   "execution_count": null,
   "metadata": {},
   "outputs": [],
   "source": [
    "def description(df):\n",
    "    cols=df.columns\n",
    "    records=[]\n",
    "    missing_values=[]\n",
    "    percentage_missing=[]\n",
    "    zero_values=[]\n",
    "    percentage_zeros=[]\n",
    "    empty_values=[]\n",
    "    percentage_empty=[]\n",
    "    skewness_coeff=[]\n",
    "    kurtosis_coeff=[]\n",
    "    variance_value=[]\n",
    "    median_value=[]\n",
    "    outlier_num=[]\n",
    "    outlier_percent=[]\n",
    "    for i in cols:\n",
    "        a=df[i].shape[0]\n",
    "        records.append(a)\n",
    "        b=df[i].isnull().sum()\n",
    "        missing_values.append(b)\n",
    "        percentage_of_missing_values=((b/a)*100)\n",
    "        percentage_missing.append(percentage_of_missing_values)\n",
    "        c=((df[i]==0).sum(axis=0))\n",
    "        zero_values.append(c)\n",
    "        percentage_of_zeros=((c/a)*100)\n",
    "        percentage_zeros.append(percentage_of_zeros)\n",
    "        d=((df[i]=='').sum(axis=0))\n",
    "        empty_values.append(d)\n",
    "        percentage_of_blanks=((d/a)*100)\n",
    "        percentage_empty.append(percentage_of_blanks)\n",
    "        skewness=df[i].skew()\n",
    "        skewness_coeff.append(skewness)\n",
    "        kurtosis=df[i].kurtosis()\n",
    "        kurtosis_coeff.append(kurtosis)\n",
    "        variance=df[i].var()\n",
    "        variance_value.append(variance)\n",
    "        median=df[i].median()\n",
    "        median_value.append(median)\n",
    "        Q1 = df[i].quantile(0.25)\n",
    "        Q3 = df[i].quantile(0.75)\n",
    "        IQR = Q3 - Q1\n",
    "        outlier=((df[i] < (Q1 - 1.5 * IQR)) | (df[i] > (Q3 + 1.5 * IQR))).sum()\n",
    "        outlier_num.append(outlier)\n",
    "        outliers_percentage=(outlier/a)*100\n",
    "        outlier_percent.append(outliers_percentage)\n",
    "    description_dictionary={'Total Records': records,\n",
    "             'Missing Values': missing_values,\n",
    "             'Missing Value %': percentage_missing,\n",
    "             'Zero Values': zero_values,\n",
    "             'Zero value Percentage': percentage_zeros,\n",
    "             'Empty Cells': empty_values,\n",
    "             'Empty Cells %':percentage_empty,\n",
    "             'Skewness':skewness_coeff,\n",
    "             'Kurtosis':kurtosis_coeff,\n",
    "             'Variance':variance_value,\n",
    "             'Median':median_value,\n",
    "             'Outliers':outlier_num,\n",
    "             'Outlier %':outlier_percent}\n",
    "    description_df = pd.DataFrame(description_dictionary)\n",
    "    x=df.describe()\n",
    "    y=x.drop('count')\n",
    "    z=y.transpose()\n",
    "    w=z.reset_index(drop='True')\n",
    "    t_cols=cols.transpose()\n",
    "    list_dataframe=pd.DataFrame(t_cols,columns=['Label'])\n",
    "    data_frames=[list_dataframe,description_df,w]\n",
    "    final_df=pd.concat(data_frames, axis=1)\n",
    "    final_df.to_csv('a.csv')\n",
    "    return(final_df);"
   ]
  },
  {
   "cell_type": "code",
   "execution_count": null,
   "metadata": {},
   "outputs": [],
   "source": [
    "description(a)"
   ]
  },
  {
   "cell_type": "code",
   "execution_count": null,
   "metadata": {},
   "outputs": [],
   "source": [
    "def subplot(df):\n",
    "    cols=df.columns\n",
    "    pp = PdfPages('8_Variables_Plot.pdf')\n",
    "    for i in cols:\n",
    "        fig=plt.figure(i)\n",
    "        #create subplots\n",
    "        ax = plt.subplot2grid((2, 2), (0, 0))\n",
    "        #creating the first plot\n",
    "        # Fit a normal distribution to the data:\n",
    "        mu, std = norm.fit(df[i].dropna().values)\n",
    "        # Plot the histogram.\n",
    "        ax.hist(df[i].dropna().values, bins=20, density=False, alpha=0.6, color='darkorange')\n",
    "        ax.axvline(df[i].mean(),label='Mean', color='red', linestyle='dashed', linewidth=2)\n",
    "        ax.axvline(df[i].median(),label='Median', color='blue', linestyle='dashed', linewidth=2)\n",
    "        title = \"Fit results: mu = %.2f,  std = %.2f\" % (mu, std)\n",
    "        ax.set_title(title,fontsize=15)\n",
    "        ax.set_xlabel(str(i),fontsize=15)\n",
    "        ax.set_ylabel('Count',fontsize=15)\n",
    "        ax.legend(fontsize=15)\n",
    "        #creating the second plot\n",
    "        ax1 = plt.subplot2grid((2, 2), (0, 1))\n",
    "        # Fit a normal distribution to the data:\n",
    "        mu, std = norm.fit(df[i].dropna().values)\n",
    "        #Plot the histogram\n",
    "        ax1.hist(df[i].dropna().values, bins=20, density=True, alpha=0.6, color='aqua')\n",
    "        ax1.axvline(df[i].mean(),label='Mean', color='red', linestyle='dashed', linewidth=2)\n",
    "        ax1.axvline(df[i].median(),label='Median', color='blue', linestyle='dashed', linewidth=2)\n",
    "        # Plot the PDF.\n",
    "        xmin, xmax = ax1.set_xlim()\n",
    "        x = np.linspace(xmin, xmax, 100)\n",
    "        p = norm.pdf(x, mu, std)\n",
    "        ax1.plot(x, p, 'k', linewidth=2)\n",
    "        title = \"Fit results: mu = %.2f,  std = %.2f\" % (mu, std)\n",
    "        ax1.set_title(title,fontsize=15)\n",
    "        ax1.set_xlabel(str(i),fontsize=15)\n",
    "        ax1.set_ylabel('Density',fontsize=15)\n",
    "        ax1.legend(fontsize=15)\n",
    "        #creating the third plot\n",
    "        ax2 = plt.subplot2grid((2, 2), (1, 0))\n",
    "        # Fit a normal distribution to the data:\n",
    "        mu, std = norm.fit(df[i].dropna().values)\n",
    "        a=df[i].median()\n",
    "        boxprops = dict(linestyle='-', linewidth=4, color='k')\n",
    "        medianprops = dict(linestyle='-', linewidth=4, color='k')\n",
    "        df.boxplot(column=i,ax=ax2,grid=True,vert=True,notch=True,showfliers=False, showmeans=True,\n",
    "                boxprops=boxprops,\n",
    "                medianprops=medianprops,patch_artist=True)\n",
    "        title = \"Fit results: median = %.2f,  mean= %.2f\" % (a, mu)\n",
    "        ax2.set_title(title,fontsize=15)\n",
    "        ax2.legend(fontsize=15)\n",
    "        #creating the fourth plot\n",
    "        ax3 = plt.subplot2grid((2, 2), (1, 1))\n",
    "        mu, std = norm.fit(df[i].dropna().values)\n",
    "        description=df[i].describe()\n",
    "        desc=description.drop('count')\n",
    "        color_list = ['b', 'g', 'r', 'c','y','k','m']\n",
    "        ax3 = desc.plot(kind='bar',legend=True, fontsize=15,color=color_list)\n",
    "        title=\"Fit results: mean = %.2f,  std = %.2f\" % (mu, std)\n",
    "        ax3.set_title(title,fontsize=15)\n",
    "        fig.subplots_adjust(left=0.08, right=0.98, bottom=0.05, top=0.9,hspace=0.4, wspace=0.3)\n",
    "        pp.savefig(fig)\n",
    "        plt.show()\n",
    "    pp.close()"
   ]
  },
  {
   "cell_type": "code",
   "execution_count": null,
   "metadata": {},
   "outputs": [],
   "source": [
    "subplot(data7)"
   ]
  },
  {
   "cell_type": "code",
   "execution_count": null,
   "metadata": {},
   "outputs": [],
   "source": [
    "data7.columns"
   ]
  },
  {
   "cell_type": "code",
   "execution_count": null,
   "metadata": {},
   "outputs": [],
   "source": [
    "c=data7[['FGO TK1551 Level Ctr PV - mm', 'FGO TK1552 Level Ctr PV - mm',\n",
    "       'FGO TK1553 Level Ctr PV - mm', 'FGO TK1554 Level Ctr PV - mm',\n",
    "       'FGO TK1555 Level Ctr PV - mm', 'TK1551 Air Blower Flow Loop PV - m3/h',\n",
    "       'TK1552 Air Blower Flow Loop PV - m3/h',\n",
    "       'TK1553 Air Blower Flow Loop PV - m3/h',\n",
    "       'TK1554 Air Blower Flow Loop PV - m3/h',\n",
    "       'TK1555 Air Blower Flow Loop PV - m3/h',\n",
    "       'TK1552 VELOCITY TO AIR CTRL PV - mm/s',\n",
    "       'TK1553 VELOCITY TO AIR CTRL PV - mm/s',\n",
    "       'TK1554 VELOCITY TO AIR CTRL PV - mm/s',\n",
    "       'TK1555 VELOCITY TO AIR CTRL PV - mm/s',\n",
    "       'TK1551 Froth Bubble Diameter - mm',\n",
    "       'TK1552 Froth Bubble Diameter - mm',\n",
    "       'TK1553 Froth Bubble Diameter - mm', 'pH Indication for FGO - PV -  pH',\n",
    "       'FGO FLTS FD TNK DNSTY CONTROL MEAS -  %(PS)',\n",
    "       'Collector Added To TK1550 PV -  m3/h',\n",
    "       'FGO FLTS FD TNK WTR FLW CONTROL MEAS -  m3/hr',\n",
    "       'PAX Flow to TK1552/3 Controller PV -  L/H',\n",
    "       'Total Promoter Flow to FGO Floats PV -  L/h',\n",
    "       'FLOW Collector to FGO TK1550 PV -  L/Hr',\n",
    "       'FROTHER  Flow 1 to TK1551/2 Controller PV -  L/H',\n",
    "       'FROTHER  Flow 2 to TK1551/2 Controller PV -  L/H',\n",
    "       'FROTHER  Flow to TK1551 Controller PV -  L/H',\n",
    "       'PROMOTER  Flow Rate- PV -  G/T', '[OV] CYC Feed Press. Ctrl PV - kPag',\n",
    "       'PU1011 Demand Speed Output - rpm', 'FGO CYCLONE Feed Density (%) - %',\n",
    "       'FGO Cyclone Overflow Density (%) - %',\n",
    "       'FGO CYCLONE O/F Sizing Control PV - % -150',\n",
    "       '[OV] FGO Cyclone Overflow Density Control PV - %',\n",
    "       'FGO Masspull (Cons/(Cons+Tails)) -  %',\n",
    "       'FGO Masspull (Cons/Feed) -  %', 'FGO Masspull (Feed-Tails)/Feed -  %',\n",
    "       'FGO Conc Flow Controller PV -  m3/hr',\n",
    "       'FGO Tails Flow Controller PV -  m3/hr',\n",
    "       'FLOTATION CONCENTRATE DENSITY -  %',\n",
    "       'Flotation Concentrates Solids SG -  kg/m3',\n",
    "       'FGO Flotation Rougher Tails Density  -  kg/m3',\n",
    "       'GT #1 bed level control PV - %', 'GT #2 bed level control PV - %',\n",
    "       'FLOW - m3/h', 'FLOW Collector to FGO Cyclone Under Flow - L/Hr',\n",
    "       'FIT5380 FGO Additional Feed To HGO Flots Flow - m3/h',\n",
    "       'Rougher to Float Flow Ctrl PV - m3/h', 'FLOATS R_Feed Density - kg/m3',\n",
    "       'Rougher to Flotation Feed Density  - %',\n",
    "       'Grinding Thickener 2 underflow  flow.CTRL PV - m3/h',\n",
    "       'Grinding Thickener 1 underflow  flow.CTRL PV - m3/h',\n",
    "       'TOTAL GT1 slurry feed GT1 TANK - T/H',\n",
    "       'TOTAL GT1 flow rate FEED TANK - m3/H',\n",
    "       'TOTAL GT2 slurry feed GT2 TANK - T/H',\n",
    "       'TOTAL GT2 flow rate FEED TANK - m3/H',\n",
    "       'TK2008 GT FEED MIX TANK LEVEL - %',\n",
    "       'TK2011 GT FEED MIX TANK LEVEL - %',\n",
    "       '[OV] FGO Sag Mill Feed Ctrl PV - t/h',\n",
    "       '[OV] FGO Sag Mill Motor Power - kW', '[OV] FGO BM Motor Power - kW',\n",
    "       '[OV] FGO SM Feed Dilution Flow  PV - m3/h', 'PREOX TK04 Level - %',\n",
    "       'PREOX TK05 Level - %', 'PREOX TK06 Level - %',\n",
    "       'TK1004 Underflow Flow loop PV - m3/h', 'TK1004 Level - %',\n",
    "       'TK2004 Pre-Ox Tank Level - %', 'TK2005 Pre-Ox Tank Level - %']]"
   ]
  },
  {
   "cell_type": "code",
   "execution_count": null,
   "metadata": {},
   "outputs": [],
   "source": [
    "corr1 = c.corr(method='pearson')"
   ]
  },
  {
   "cell_type": "code",
   "execution_count": null,
   "metadata": {},
   "outputs": [],
   "source": [
    "corr1.head(1).transpose().to_csv('Pearson_Correlation_30_60_Range_data.csv')"
   ]
  },
  {
   "cell_type": "code",
   "execution_count": null,
   "metadata": {},
   "outputs": [],
   "source": [
    "corr2=c.corr(method='spearman')"
   ]
  },
  {
   "cell_type": "code",
   "execution_count": null,
   "metadata": {},
   "outputs": [],
   "source": [
    "corr2.head(1).transpose().to_csv('Spearman_Correlation_30_60_Range_Data.csv')"
   ]
  },
  {
   "cell_type": "code",
   "execution_count": null,
   "metadata": {},
   "outputs": [],
   "source": []
  },
  {
   "cell_type": "code",
   "execution_count": null,
   "metadata": {},
   "outputs": [],
   "source": []
  },
  {
   "cell_type": "code",
   "execution_count": null,
   "metadata": {},
   "outputs": [],
   "source": []
  },
  {
   "cell_type": "code",
   "execution_count": null,
   "metadata": {},
   "outputs": [],
   "source": [
    "data_week=data7.resample('W').mean()"
   ]
  },
  {
   "cell_type": "code",
   "execution_count": null,
   "metadata": {},
   "outputs": [],
   "source": [
    "data_week.rename(index=lambda x: x.strftime('%U'),inplace=True)"
   ]
  },
  {
   "cell_type": "code",
   "execution_count": null,
   "metadata": {},
   "outputs": [],
   "source": [
    "color_list = ['b','b','b','b','b','b','b','b','b','b','b','b','b',\n",
    "              'g','g','g','g','g','g','g','g','g','g','g','g','g',\n",
    "              'r','r','r','r','r','r','r','r','r','r','r','r','r',\n",
    "              'c','c','c','c','c','c','c','c','c','c','c','c','c','b']\n",
    "ax=data_week['FGO Mass Pull % PV - %'].plot(kind='bar',color=color_list)\n",
    "ax.set(xlabel='Weeks', ylabel='Value')\n",
    "for item in ([ax.title, ax.xaxis.label, ax.yaxis.label] +\n",
    "              ax.get_yticklabels()):\n",
    "        item.set_fontsize(15)\n",
    "ax.tick_params(axis='both', which='minor', labelsize=20)\n",
    "ax.legend(fontsize=15)"
   ]
  },
  {
   "cell_type": "code",
   "execution_count": null,
   "metadata": {},
   "outputs": [],
   "source": [
    "data_month=data7.resample('M').mean()"
   ]
  },
  {
   "cell_type": "code",
   "execution_count": null,
   "metadata": {},
   "outputs": [],
   "source": [
    "data_month.rename(index=lambda x: x.strftime('%B'),inplace=True)"
   ]
  },
  {
   "cell_type": "code",
   "execution_count": null,
   "metadata": {},
   "outputs": [],
   "source": [
    "data_month.head(20)"
   ]
  },
  {
   "cell_type": "code",
   "execution_count": null,
   "metadata": {},
   "outputs": [],
   "source": [
    "color_list = ['b','b','b', 'g','g','g', 'r','r','r', 'c','c','c']\n",
    "ax=data_month['FGO Mass Pull % PV - %'].plot(kind='bar',color=color_list)\n",
    "ax.set(xlabel='Months', ylabel='Value')\n",
    "for item in ([ax.title, ax.xaxis.label, ax.yaxis.label] +\n",
    "              ax.get_yticklabels()):\n",
    "        item.set_fontsize(15)\n",
    "ax.tick_params(axis='both', which='minor', labelsize=20)\n",
    "ax.legend(fontsize=15)"
   ]
  },
  {
   "cell_type": "code",
   "execution_count": null,
   "metadata": {},
   "outputs": [],
   "source": [
    "data_quarter=data7.resample('Q').mean()"
   ]
  },
  {
   "cell_type": "code",
   "execution_count": null,
   "metadata": {},
   "outputs": [],
   "source": [
    "data_quarter.index.to_list()"
   ]
  },
  {
   "cell_type": "code",
   "execution_count": null,
   "metadata": {},
   "outputs": [],
   "source": [
    "data_quarter.rename(index=lambda x: x.strftime('%B'),inplace=True)"
   ]
  },
  {
   "cell_type": "code",
   "execution_count": null,
   "metadata": {},
   "outputs": [],
   "source": [
    "color_list = ['b', 'g', 'r', 'c','y','k','m']\n",
    "ax=data_quarter['FGO Mass Pull % PV - %'].plot(kind='bar',color=color_list)\n",
    "ax.set(xlabel='Quarter', ylabel='Value')\n",
    "for item in ([ax.title, ax.xaxis.label, ax.yaxis.label] +\n",
    "              ax.get_yticklabels()):\n",
    "        item.set_fontsize(15)\n",
    "ax.tick_params(axis='both', which='minor', labelsize=20)\n",
    "ax.legend(fontsize=15)"
   ]
  },
  {
   "cell_type": "markdown",
   "metadata": {},
   "source": [
    "# Distribution"
   ]
  },
  {
   "cell_type": "code",
   "execution_count": null,
   "metadata": {},
   "outputs": [],
   "source": [
    "mu=data_quarter['HGO FLOT MASS PULLRATE CNTRLLR - PV - %'].mean()"
   ]
  },
  {
   "cell_type": "code",
   "execution_count": null,
   "metadata": {},
   "outputs": [],
   "source": [
    "std=data_quarter['HGO FLOT MASS PULLRATE CNTRLLR - PV - %'].std()"
   ]
  },
  {
   "cell_type": "code",
   "execution_count": null,
   "metadata": {},
   "outputs": [],
   "source": [
    "minimum=data_quarter['HGO FLOT MASS PULLRATE CNTRLLR - PV - %'].min()"
   ]
  },
  {
   "cell_type": "code",
   "execution_count": null,
   "metadata": {},
   "outputs": [],
   "source": [
    "maximum=data_quarter['HGO FLOT MASS PULLRATE CNTRLLR - PV - %'].max()"
   ]
  },
  {
   "cell_type": "code",
   "execution_count": null,
   "metadata": {},
   "outputs": [],
   "source": [
    "#create subplots\n",
    "ax = plt.subplot2grid((1, 2), (0, 0))\n",
    "#creating the first plot\n",
    "# Fit a normal distribution to the data:\n",
    "mu, std = norm.fit(data7['FGO Mass Pull % PV - %'].dropna().values)\n",
    "# Plot the histogram.\n",
    "ax.hist(data7.loc['2019-04':'2019-06','FGO Mass Pull % PV - %'].dropna().values, bins=20, density=False, alpha=0.6, color='darkorange')\n",
    "ax.axvline(data7['FGO Mass Pull % PV - %'].mean(),label='Mean', color='red', linestyle='dashed', linewidth=2)\n",
    "ax.axvline(data7['FGO Mass Pull % PV - %'].median(),label='Median', color='blue', linestyle='dashed', linewidth=2)\n",
    "title = \"Fit results: mu = %.2f,  std = %.2f\" % (mu, std)\n",
    "ax.set_title(title,fontsize=15)\n",
    "ax.set_xlabel(str('FGO Mass Pull % PV - %'),fontsize=15)\n",
    "ax.set_ylabel('Count',fontsize=15)\n",
    "ax.legend(fontsize=15)\n",
    "#creating the second plot\n",
    "ax1 = plt.subplot2grid((1, 2), (0, 1))\n",
    "# Fit a normal distribution to the data:\n",
    "mu, std = norm.fit(data7['FGO Mass Pull % PV - %'].dropna().values)\n",
    "#Plot the histogram\n",
    "ax1.hist(data7.loc['2019-04':'2019-06','FGO Mass Pull % PV - %'].dropna().values, bins=20, density=True, alpha=0.6, color='aqua')\n",
    "ax1.axvline(data7['FGO Mass Pull % PV - %'].mean(),label='Mean', color='red', linestyle='dashed', linewidth=2)\n",
    "ax1.axvline(data7['FGO Mass Pull % PV - %'].median(),label='Median', color='blue', linestyle='dashed', linewidth=2)\n",
    "# Plot the PDF.\n",
    "xmin, xmax = ax1.set_xlim()\n",
    "x = np.linspace(xmin, xmax, 100)\n",
    "p = norm.pdf(x, mu, std)\n",
    "ax1.plot(x, p, 'k', linewidth=2)\n",
    "title = \"Fit results: mu = %.2f,  std = %.2f\" % (mu, std)\n",
    "ax1.set_title(title,fontsize=15)\n",
    "ax1.set_xlabel(str('FGO Mass Pull % PV - %'),fontsize=15)\n",
    "ax1.set_ylabel('Density',fontsize=15)\n",
    "ax1.legend(fontsize=15)\n",
    "fig.subplots_adjust(left=0.08, right=0.98, bottom=0.05, top=0.9,hspace=0.4, wspace=0.3)\n",
    "plt.show()"
   ]
  },
  {
   "cell_type": "code",
   "execution_count": null,
   "metadata": {},
   "outputs": [],
   "source": [
    "pos_corr=data7[['FGO Mass Pull % PV - %',\n",
    "                'TK1552 Air Blower Flow Loop PV - m3/h',\n",
    "\n",
    "'pH Indication for FGO - PV -  pH',\n",
    "'Collector Added To TK1550 PV -  m3/h',\n",
    "'PAX Flow to TK1552/3 Controller PV -  L/H',\n",
    "'Total Promoter Flow to FGO Floats PV -  L/h',\n",
    "'FLOW Collector to FGO TK1550 PV -  L/Hr',\n",
    "'PROMOTER  Flow Rate- PV -  G/T',\n",
    "'FGO CYCLONE Feed Density (%) - %',\n",
    "'FGO Cyclone Overflow Density (%) - %',\n",
    "'FGO CYCLONE O/F Sizing Control PV - % -150',\n",
    "'[OV] FGO Cyclone Overflow Density Control PV - %',\n",
    "'FLOTATION CONCENTRATE DENSITY -  %',\n",
    "'FLOW Collector to FGO Cyclone Under Flow - L/Hr',\n",
    "'Rougher to Flotation Feed Density  - %']]"
   ]
  },
  {
   "cell_type": "code",
   "execution_count": null,
   "metadata": {},
   "outputs": [],
   "source": [
    "corr = pos_corr.corr(method='pearson')\n",
    "ax = sns.heatmap(corr, annot = True,annot_kws={\"size\":12}, vmin=-1, vmax=1, \n",
    "                 center= 0, cmap= 'plasma', linewidths=3, linecolor='black',\n",
    "                 square=True)\n",
    "for item in ([ax.title, ax.xaxis.label, ax.yaxis.label] +\n",
    "            ax.get_xticklabels()+ax.get_yticklabels()):\n",
    "    item.set_fontsize(16)\n",
    "ax.tick_params(axis='both', which='minor', labelsize=15)"
   ]
  },
  {
   "cell_type": "code",
   "execution_count": null,
   "metadata": {},
   "outputs": [],
   "source": [
    "c=t.corr()"
   ]
  },
  {
   "cell_type": "code",
   "execution_count": null,
   "metadata": {},
   "outputs": [],
   "source": [
    "t=data7[['FGO Mass Pull % PV - %',]]"
   ]
  },
  {
   "cell_type": "code",
   "execution_count": null,
   "metadata": {},
   "outputs": [],
   "source": [
    "c[:1].to_csv('Correlation1.csv')"
   ]
  },
  {
   "cell_type": "code",
   "execution_count": null,
   "metadata": {},
   "outputs": [],
   "source": [
    "c=data7[['FGO Mass Pull % PV - %',\n",
    "'FLOW Collector to FGO TK1550 PV -  L/Hr',\n",
    "'FROTHER  Flow 2 to TK1551/2 Controller PV -  L/H',\n",
    "'FLOW Collector to FGO Cyclone Under Flow - L/Hr',\n",
    "'Total Promoter Flow to FGO Floats PV -  L/h',\n",
    "'FGO CYCLONE O/F Sizing Control PV - % -150',\n",
    "'FGO TK1555 Level Ctr PV - mm',\n",
    "'TK1554 VELOCITY TO AIR CTRL PV - mm/s',\n",
    "'TK1553 VELOCITY TO AIR CTRL PV - mm/s',\n",
    "'[OV] FGO SM Feed Dilution Flow  PV - m3/h',\n",
    "'TOTAL GT1 slurry feed GT1 TANK - T/H',\n",
    "'Rougher to Flotation Feed Density  - %',\n",
    "'FLOATS R_Feed Density - kg/m3'\n",
    "]]"
   ]
  },
  {
   "cell_type": "code",
   "execution_count": null,
   "metadata": {},
   "outputs": [],
   "source": [
    "class StatsModelsSettings():\n",
    "    \"\"\"\n",
    "    This class contains settings for the statsmodels package, settings include,\n",
    "    * exponent:int - when equal to one this is a straight line, when >1 this is a curve\n",
    "    * confidence:boolean - specifies whether confidence lines should be calculated and plotted\n",
    "    \"\"\"\n",
    "    exponent = 1\n",
    "    confidence = False\n",
    "\n",
    "    def __init__(self, exponent=1, confidence=False):\n",
    "        \"\"\"\n",
    "        This initialization method constructs a new StatsModelSettings object\n",
    "        \"\"\"\n",
    "        self.exponent = exponent\n",
    "        self.confidence = confidence\n",
    "        pass\n"
   ]
  },
  {
   "cell_type": "code",
   "execution_count": null,
   "metadata": {},
   "outputs": [],
   "source": [
    "def run_ordinary_least_squares(ols_dates, ols_data, statsmodels_settings):\n",
    "        \"\"\"\n",
    "        This method receives the dates and prices of a Quandl data-set as well as settings for the StatsModels package,\n",
    "        it then calculates the regression lines and / or the confidence lines are returns the objects\n",
    "        \"\"\"\n",
    "        intercept = np.column_stack((ols_dates, ols_dates ** statsmodels_settings.exponent))\n",
    "        constant = sm.add_constant(intercept)\n",
    "        statsmodel_regression = sm.OLS(ols_prices, constant).fit()\n",
    "        print(statsmodel_regression.summary())\n",
    "        if statsmodels_settings.confidence:\n",
    "            prstd, lower, upper = wls_prediction_std(statsmodel_regression)\n",
    "            return statsmodel_regression, lower, upper\n",
    "        else:\n",
    "            return statsmodel_regression\n"
   ]
  },
  {
   "cell_type": "code",
   "execution_count": null,
   "metadata": {},
   "outputs": [],
   "source": [
    "data7.columns"
   ]
  },
  {
   "cell_type": "code",
   "execution_count": null,
   "metadata": {},
   "outputs": [],
   "source": [
    "import numpy as np\n",
    "import statsmodels.api as sm\n",
    "import matplotlib.pyplot as plt\n",
    "from statsmodels.sandbox.regression.predstd import wls_prediction_std"
   ]
  },
  {
   "cell_type": "code",
   "execution_count": null,
   "metadata": {},
   "outputs": [],
   "source": [
    "y=data7['FGO Mass Pull % PV - %']"
   ]
  },
  {
   "cell_type": "code",
   "execution_count": null,
   "metadata": {},
   "outputs": [],
   "source": [
    "y.head()"
   ]
  },
  {
   "cell_type": "code",
   "execution_count": null,
   "metadata": {},
   "outputs": [],
   "source": [
    "data7=data7.drop('FGO Mass Pull % PV - %',inplace=True,axis=1)"
   ]
  },
  {
   "cell_type": "code",
   "execution_count": null,
   "metadata": {},
   "outputs": [],
   "source": [
    "data7.shape"
   ]
  },
  {
   "cell_type": "code",
   "execution_count": null,
   "metadata": {},
   "outputs": [],
   "source": [
    "X=data7"
   ]
  },
  {
   "cell_type": "code",
   "execution_count": null,
   "metadata": {},
   "outputs": [],
   "source": [
    "c.head()"
   ]
  },
  {
   "cell_type": "code",
   "execution_count": null,
   "metadata": {},
   "outputs": [],
   "source": [
    "model = sm.OLS(y, c)\n",
    "results = model.fit()\n",
    "print(results.summary())"
   ]
  },
  {
   "cell_type": "code",
   "execution_count": null,
   "metadata": {},
   "outputs": [],
   "source": [
    "c.corr().transpose().to_csv('Important_Correlation.csv')"
   ]
  },
  {
   "cell_type": "code",
   "execution_count": null,
   "metadata": {},
   "outputs": [],
   "source": [
    "c.head()"
   ]
  },
  {
   "cell_type": "code",
   "execution_count": null,
   "metadata": {},
   "outputs": [],
   "source": [
    "c.to_csv('D3.csv')"
   ]
  },
  {
   "cell_type": "code",
   "execution_count": null,
   "metadata": {},
   "outputs": [],
   "source": [
    "a=data7[['FGO Mass Pull % PV - %',\n",
    "'FLOW Collector to FGO TK1550 PV -  L/Hr',\n",
    "'FROTHER  Flow 2 to TK1551/2 Controller PV -  L/H',\n",
    "'FGO CYCLONE O/F Sizing Control PV - % -150',\n",
    "'FGO TK1555 Level Ctr PV - mm',\n",
    "'[OV] FGO SM Feed Dilution Flow  PV - m3/h',\n",
    "'TOTAL GT1 slurry feed GT1 TANK - T/H',\n",
    "'Rougher to Flotation Feed Density  - %',\n",
    "'FLOATS R_Feed Density - kg/m3']]"
   ]
  },
  {
   "cell_type": "code",
   "execution_count": null,
   "metadata": {},
   "outputs": [],
   "source": [
    "a.corr().head(1).transpose().to_csv('CH.csv')"
   ]
  },
  {
   "cell_type": "code",
   "execution_count": null,
   "metadata": {},
   "outputs": [],
   "source": [
    "data7."
   ]
  },
  {
   "cell_type": "code",
   "execution_count": 29,
   "metadata": {},
   "outputs": [],
   "source": [
    "a=data7[['FGO TK1551 Level Ctr PV - mm', 'FGO TK1552 Level Ctr PV - mm',\n",
    "       'FGO TK1553 Level Ctr PV - mm', 'FGO TK1554 Level Ctr PV - mm',\n",
    "       'FGO TK1555 Level Ctr PV - mm']]"
   ]
  },
  {
   "cell_type": "code",
   "execution_count": 36,
   "metadata": {},
   "outputs": [
    {
     "data": {
      "text/plain": [
       "<matplotlib.axes._subplots.AxesSubplot at 0x2af617fcda0>"
      ]
     },
     "execution_count": 36,
     "metadata": {},
     "output_type": "execute_result"
    },
    {
     "data": {
      "image/png": "[encoded data removed]",
      "text/plain": [
       "<Figure size 1080x720 with 1 Axes>"
      ]
     },
     "metadata": {},
     "output_type": "display_data"
    }
   ],
   "source": [
    "props = dict(boxes=\"Purple\", whiskers=\"DarkOrange\", medians=\"Yellow\", caps=\"Gray\")\n",
    "boxprops = dict(linestyle='-', linewidth=4, color='k')\n",
    "medianprops = dict(linestyle='-', linewidth=4, color='k')\n",
    "d.plot.box(patch_artist=True,color=props, grid = False,showfliers=False, showmeans=True,boxprops=boxprops,\n",
    "                medianprops=medianprops,rot=90)"
   ]
  },
  {
   "cell_type": "code",
   "execution_count": 31,
   "metadata": {},
   "outputs": [],
   "source": [
    "b=data7[['TK1551 Air Blower Flow Loop PV - m3/h',\n",
    "       'TK1552 Air Blower Flow Loop PV - m3/h',\n",
    "       'TK1553 Air Blower Flow Loop PV - m3/h',\n",
    "       'TK1554 Air Blower Flow Loop PV - m3/h',\n",
    "       'TK1555 Air Blower Flow Loop PV - m3/h',]]"
   ]
  },
  {
   "cell_type": "code",
   "execution_count": 33,
   "metadata": {},
   "outputs": [],
   "source": [
    "c=data7[['TK1552 VELOCITY TO AIR CTRL PV - mm/s',\n",
    "       'TK1553 VELOCITY TO AIR CTRL PV - mm/s',\n",
    "       'TK1554 VELOCITY TO AIR CTRL PV - mm/s',\n",
    "       'TK1555 VELOCITY TO AIR CTRL PV - mm/s']]"
   ]
  },
  {
   "cell_type": "code",
   "execution_count": 35,
   "metadata": {},
   "outputs": [],
   "source": [
    "d=data7[['TK1551 Froth Bubble Diameter - mm',\n",
    "       'TK1552 Froth Bubble Diameter - mm',\n",
    "       'TK1553 Froth Bubble Diameter - mm']]"
   ]
  },
  {
   "cell_type": "code",
   "execution_count": 52,
   "metadata": {},
   "outputs": [],
   "source": [
    "e=june[['FGO TK1552 Level Ctr PV - mm','TK1552 Air Blower Flow Loop PV - m3/h','TK1552 VELOCITY TO AIR CTRL PV - mm/s','TK1552 Froth Bubble Diameter - mm']]"
   ]
  },
  {
   "cell_type": "code",
   "execution_count": 53,
   "metadata": {},
   "outputs": [],
   "source": [
    "f=e.resample('M').mean()"
   ]
  },
  {
   "cell_type": "code",
   "execution_count": 54,
   "metadata": {},
   "outputs": [
    {
     "data": {
      "image/png": "[encoded data removed]",
      "text/plain": [
       "<Figure size 1080x720 with 1 Axes>"
      ]
     },
     "metadata": {},
     "output_type": "display_data"
    }
   ],
   "source": [
    "line=f.plot(kind='line', grid = False,rot=90)"
   ]
  },
  {
   "cell_type": "code",
   "execution_count": null,
   "metadata": {},
   "outputs": [],
   "source": []
  }
 ],
 "metadata": {
  "kernelspec": {
   "display_name": "Python 3",
   "language": "python",
   "name": "python3"
  },
  "language_info": {
   "codemirror_mode": {
    "name": "ipython",
    "version": 3
   },
   "file_extension": ".py",
   "mimetype": "text/x-python",
   "name": "python",
   "nbconvert_exporter": "python",
   "pygments_lexer": "ipython3",
   "version": "3.7.3"
  }
 },
 "nbformat": 4,
 "nbformat_minor": 2
}
