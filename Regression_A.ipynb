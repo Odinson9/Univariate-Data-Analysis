{
 "cells": [
  {
   "cell_type": "code",
   "execution_count": 188,
   "metadata": {},
   "outputs": [],
   "source": [
    "## IMport libraries\n",
    "\n",
    "import pandas as pd\n",
    "import numpy as np\n",
    "import seaborn as sns\n",
    "import matplotlib.pyplot as plt\n",
    "from pandas import read_excel\n",
    "from pandas import read_csv\n",
    "from numpy import percentile\n",
    "import itertools\n",
    "from matplotlib.backends.backend_pdf import PdfPages\n",
    "# Use seaborn style defaults and set the default figure size\n",
    "sns.set(rc={'figure.figsize':(15, 10)})\n",
    "from scipy import stats\n",
    "from scipy.stats import norm\n",
    "import statistics\n",
    "import warnings\n",
    "warnings.filterwarnings('ignore')\n",
    "import datetime as dt"
   ]
  },
  {
   "cell_type": "code",
   "execution_count": 2,
   "metadata": {},
   "outputs": [],
   "source": [
    "df=pd.read_csv('Combined_data_All_variable_clean_Hourly.csv',header=0, index_col=0, parse_dates=True, squeeze=True)\n",
    "data=df.copy()"
   ]
  },
  {
   "cell_type": "code",
   "execution_count": 3,
   "metadata": {},
   "outputs": [],
   "source": [
    "## Function for changing data type to numric\n",
    "def NumericDtype(dataframe):\n",
    "    columns1=list(dataframe)\n",
    "    for i in columns1:\n",
    "        dataframe[i]=pd.to_numeric(dataframe[i], errors='coerce')\n",
    "        dataframe[i] = dataframe[i].dropna()\n",
    "    return;"
   ]
  },
  {
   "cell_type": "code",
   "execution_count": 4,
   "metadata": {},
   "outputs": [],
   "source": [
    "NumericDtype(data)"
   ]
  },
  {
   "cell_type": "code",
   "execution_count": 5,
   "metadata": {},
   "outputs": [
    {
     "data": {
      "text/plain": [
       "FGO TK1551 Level Ctr PV - mm                             8723\n",
       "FGO TK1552 Level Ctr PV - mm                             9084\n",
       "FGO TK1553 Level Ctr PV - mm                             8737\n",
       "FGO TK1554 Level Ctr PV - mm                             8723\n",
       "FGO TK1555 Level Ctr PV - mm                             8775\n",
       "TK1551 Air Blower Flow Loop PV - m3/h                    9542\n",
       "TK1552 Air Blower Flow Loop PV - m3/h                    9521\n",
       "TK1553 Air Blower Flow Loop PV - m3/h                    9527\n",
       "TK1554 Air Blower Flow Loop PV - m3/h                    9527\n",
       "TK1555 Air Blower Flow Loop PV - m3/h                    9528\n",
       "FGO Mass Pull % PV - %                                  10448\n",
       "TK1551 VELOCITY TO AIR CTRL PV - m3/hr                   9976\n",
       "TK1552 VELOCITY TO AIR CTRL PV - mm/s                    9973\n",
       "TK1553 VELOCITY TO AIR CTRL PV - mm/s                   10004\n",
       "TK1554 VELOCITY TO AIR CTRL PV - mm/s                   10053\n",
       "TK1555 VELOCITY TO AIR CTRL PV - mm/s                    9985\n",
       "TK1551 Froth Bubble Diameter - mm                        9066\n",
       "TK1552 Froth Bubble Diameter - mm                        9058\n",
       "TK1553 Froth Bubble Diameter - mm                        9210\n",
       "pH Indication for FGO - PV -  pH                         8931\n",
       "FGO FLTS FD TNK DNSTY CONTROL MEAS -  %(PS)             10197\n",
       "Collector Added To TK1550 PV -  m3/h                     8723\n",
       "FGO FLTS FD TNK WTR FLW CONTROL MEAS -  m3/hr            9376\n",
       "PAX Flow to TK1552/3 Controller PV -  L/H               12589\n",
       "Total Promoter Flow to FGO Floats PV -  L/h             16495\n",
       "FLOW Collector to FGO TK1550 PV -  L/Hr                 10515\n",
       "FROTHER  Flow 1 to TK1551/2 Controller PV -  L/H         9260\n",
       "FROTHER  Flow 2 to TK1551/2 Controller PV -  L/H         9944\n",
       "FROTHER  Flow to TK1551 Controller PV -  L/H             9977\n",
       "PROMOTER  Flow Rate- PV -  G/T                           9248\n",
       "                                                        ...  \n",
       "FLOTATION CONCENTRATE DENSITY -  %                      10279\n",
       "Flotation Concentrates Solids SG -  kg/m3               14527\n",
       "FGO Flotation Rougher Tails Density  -  kg/m3            9008\n",
       "GT #1 bed level control PV - %                          12983\n",
       "GT #2 bed level control PV - %                           9483\n",
       "FLOW - m3/h                                             11650\n",
       "FLOW Collector to FGO Cyclone Under Flow - L/Hr         10616\n",
       "FIT5380 FGO Additional Feed To HGO Flots Flow - m3/h    12736\n",
       "Rougher to Float Flow Ctrl PV - m3/h                     9467\n",
       "FLOATS R_Feed Density - kg/m3                           10456\n",
       "Rougher to Flotation Feed Density  - %                  10177\n",
       "Grinding Thickener 2 underflow  flow.CTRL PV - m3/h      8802\n",
       "Grinding Thickener 1 underflow  flow.CTRL PV - m3/h     10870\n",
       "TOTAL GT1 slurry feed GT1 TANK - T/H                    12126\n",
       "TOTAL GT1 flow rate FEED TANK - m3/H                     9470\n",
       "TOTAL GT2 slurry feed GT2 TANK - T/H                     9214\n",
       "TOTAL GT2 flow rate FEED TANK - m3/H                     8736\n",
       "TK2008 GT FEED MIX TANK LEVEL - %                       10853\n",
       "TK2011 GT FEED MIX TANK LEVEL - %                        9421\n",
       "[OV] FGO Sag Mill Feed Ctrl PV - t/h                    10081\n",
       "[OV] FGO Sag Mill Motor Power - kW                       9937\n",
       "[OV] FGO BM Motor Power - kW                             9921\n",
       "[OV] FGO SM Feed Dilution Flow  PV - m3/h               10041\n",
       "PREOX TK04 Level - %                                     8151\n",
       "PREOX TK05 Level - %                                     8134\n",
       "PREOX TK06 Level - %                                    10156\n",
       "TK1004 Underflow Flow loop PV - m3/h                    13996\n",
       "TK1004 Level - %                                         8286\n",
       "TK2004 Pre-Ox Tank Level - %                             8992\n",
       "TK2005 Pre-Ox Tank Level - %                             8925\n",
       "Length: 71, dtype: int64"
      ]
     },
     "execution_count": 5,
     "metadata": {},
     "output_type": "execute_result"
    }
   ],
   "source": [
    "data.isnull().sum()"
   ]
  },
  {
   "cell_type": "code",
   "execution_count": 6,
   "metadata": {},
   "outputs": [
    {
     "name": "stdout",
     "output_type": "stream",
     "text": [
      "<class 'pandas.core.frame.DataFrame'>\n",
      "DatetimeIndex: 16760 entries, 2018-01-10 16:00:00 to 2019-12-09 23:00:00\n",
      "Data columns (total 71 columns):\n",
      "FGO TK1551 Level Ctr PV - mm                            8037 non-null float64\n",
      "FGO TK1552 Level Ctr PV - mm                            7676 non-null float64\n",
      "FGO TK1553 Level Ctr PV - mm                            8023 non-null float64\n",
      "FGO TK1554 Level Ctr PV - mm                            8037 non-null float64\n",
      "FGO TK1555 Level Ctr PV - mm                            7985 non-null float64\n",
      "TK1551 Air Blower Flow Loop PV - m3/h                   7218 non-null float64\n",
      "TK1552 Air Blower Flow Loop PV - m3/h                   7239 non-null float64\n",
      "TK1553 Air Blower Flow Loop PV - m3/h                   7233 non-null float64\n",
      "TK1554 Air Blower Flow Loop PV - m3/h                   7233 non-null float64\n",
      "TK1555 Air Blower Flow Loop PV - m3/h                   7232 non-null float64\n",
      "FGO Mass Pull % PV - %                                  6312 non-null float64\n",
      "TK1551 VELOCITY TO AIR CTRL PV - m3/hr                  6784 non-null float64\n",
      "TK1552 VELOCITY TO AIR CTRL PV - mm/s                   6787 non-null float64\n",
      "TK1553 VELOCITY TO AIR CTRL PV - mm/s                   6756 non-null float64\n",
      "TK1554 VELOCITY TO AIR CTRL PV - mm/s                   6707 non-null float64\n",
      "TK1555 VELOCITY TO AIR CTRL PV - mm/s                   6775 non-null float64\n",
      "TK1551 Froth Bubble Diameter - mm                       7694 non-null float64\n",
      "TK1552 Froth Bubble Diameter - mm                       7702 non-null float64\n",
      "TK1553 Froth Bubble Diameter - mm                       7550 non-null float64\n",
      "pH Indication for FGO - PV -  pH                        7829 non-null float64\n",
      "FGO FLTS FD TNK DNSTY CONTROL MEAS -  %(PS)             6563 non-null float64\n",
      "Collector Added To TK1550 PV -  m3/h                    8037 non-null float64\n",
      "FGO FLTS FD TNK WTR FLW CONTROL MEAS -  m3/hr           7384 non-null float64\n",
      "PAX Flow to TK1552/3 Controller PV -  L/H               4171 non-null float64\n",
      "Total Promoter Flow to FGO Floats PV -  L/h             265 non-null float64\n",
      "FLOW Collector to FGO TK1550 PV -  L/Hr                 6245 non-null float64\n",
      "FROTHER  Flow 1 to TK1551/2 Controller PV -  L/H        7500 non-null float64\n",
      "FROTHER  Flow 2 to TK1551/2 Controller PV -  L/H        6816 non-null float64\n",
      "FROTHER  Flow to TK1551 Controller PV -  L/H            6783 non-null float64\n",
      "PROMOTER  Flow Rate- PV -  G/T                          7512 non-null float64\n",
      "[OV] CYC Feed Press. Ctrl PV - kPag                     6821 non-null float64\n",
      "PU1011 Demand Speed Output - rpm                        6865 non-null float64\n",
      "FGO CYCLONE Feed Density (%) - %                        6830 non-null float64\n",
      "FGO Cyclone Overflow Density (%) - %                    7257 non-null float64\n",
      "FGO CYCLONE O/F Sizing Control PV - % -150              7919 non-null float64\n",
      "[OV] FGO Cyclone Overflow Density Control PV - %        6812 non-null float64\n",
      "FGO Masspull (Cons/(Cons+Tails)) -  %                   3526 non-null float64\n",
      "FGO Masspull (Cons/Feed) -  %                           3526 non-null float64\n",
      "FGO Masspull (Feed-Tails)/Feed -  %                     3526 non-null float64\n",
      "FGO Conc Flow Controller PV -  m3/hr                    7248 non-null float64\n",
      "FGO Tails Flow Controller PV -  m3/hr                   7110 non-null float64\n",
      "FLOTATION CONCENTRATE DENSITY -  %                      6481 non-null float64\n",
      "Flotation Concentrates Solids SG -  kg/m3               2233 non-null float64\n",
      "FGO Flotation Rougher Tails Density  -  kg/m3           7752 non-null float64\n",
      "GT #1 bed level control PV - %                          3777 non-null float64\n",
      "GT #2 bed level control PV - %                          7277 non-null float64\n",
      "FLOW - m3/h                                             5110 non-null float64\n",
      "FLOW Collector to FGO Cyclone Under Flow - L/Hr         6144 non-null float64\n",
      "FIT5380 FGO Additional Feed To HGO Flots Flow - m3/h    4024 non-null float64\n",
      "Rougher to Float Flow Ctrl PV - m3/h                    7293 non-null float64\n",
      "FLOATS R_Feed Density - kg/m3                           6304 non-null float64\n",
      "Rougher to Flotation Feed Density  - %                  6583 non-null float64\n",
      "Grinding Thickener 2 underflow  flow.CTRL PV - m3/h     7958 non-null float64\n",
      "Grinding Thickener 1 underflow  flow.CTRL PV - m3/h     5890 non-null float64\n",
      "TOTAL GT1 slurry feed GT1 TANK - T/H                    4634 non-null float64\n",
      "TOTAL GT1 flow rate FEED TANK - m3/H                    7290 non-null float64\n",
      "TOTAL GT2 slurry feed GT2 TANK - T/H                    7546 non-null float64\n",
      "TOTAL GT2 flow rate FEED TANK - m3/H                    8024 non-null float64\n",
      "TK2008 GT FEED MIX TANK LEVEL - %                       5907 non-null float64\n",
      "TK2011 GT FEED MIX TANK LEVEL - %                       7339 non-null float64\n",
      "[OV] FGO Sag Mill Feed Ctrl PV - t/h                    6679 non-null float64\n",
      "[OV] FGO Sag Mill Motor Power - kW                      6823 non-null float64\n",
      "[OV] FGO BM Motor Power - kW                            6839 non-null float64\n",
      "[OV] FGO SM Feed Dilution Flow  PV - m3/h               6719 non-null float64\n",
      "PREOX TK04 Level - %                                    8609 non-null float64\n",
      "PREOX TK05 Level - %                                    8626 non-null float64\n",
      "PREOX TK06 Level - %                                    6604 non-null float64\n",
      "TK1004 Underflow Flow loop PV - m3/h                    2764 non-null float64\n",
      "TK1004 Level - %                                        8474 non-null float64\n",
      "TK2004 Pre-Ox Tank Level - %                            7768 non-null float64\n",
      "TK2005 Pre-Ox Tank Level - %                            7835 non-null float64\n",
      "dtypes: float64(71)\n",
      "memory usage: 9.2 MB\n"
     ]
    }
   ],
   "source": [
    "data.info()"
   ]
  },
  {
   "cell_type": "code",
   "execution_count": 7,
   "metadata": {},
   "outputs": [
    {
     "data": {
      "text/plain": [
       "Index(['FGO TK1551 Level Ctr PV - mm', 'FGO TK1552 Level Ctr PV - mm',\n",
       "       'FGO TK1553 Level Ctr PV - mm', 'FGO TK1554 Level Ctr PV - mm',\n",
       "       'FGO TK1555 Level Ctr PV - mm', 'TK1551 Air Blower Flow Loop PV - m3/h',\n",
       "       'TK1552 Air Blower Flow Loop PV - m3/h',\n",
       "       'TK1553 Air Blower Flow Loop PV - m3/h',\n",
       "       'TK1554 Air Blower Flow Loop PV - m3/h',\n",
       "       'TK1555 Air Blower Flow Loop PV - m3/h', 'FGO Mass Pull % PV - %',\n",
       "       'TK1551 VELOCITY TO AIR CTRL PV - m3/hr',\n",
       "       'TK1552 VELOCITY TO AIR CTRL PV - mm/s',\n",
       "       'TK1553 VELOCITY TO AIR CTRL PV - mm/s',\n",
       "       'TK1554 VELOCITY TO AIR CTRL PV - mm/s',\n",
       "       'TK1555 VELOCITY TO AIR CTRL PV - mm/s',\n",
       "       'TK1551 Froth Bubble Diameter - mm',\n",
       "       'TK1552 Froth Bubble Diameter - mm',\n",
       "       'TK1553 Froth Bubble Diameter - mm', 'pH Indication for FGO - PV -  pH',\n",
       "       'FGO FLTS FD TNK DNSTY CONTROL MEAS -  %(PS)',\n",
       "       'Collector Added To TK1550 PV -  m3/h',\n",
       "       'FGO FLTS FD TNK WTR FLW CONTROL MEAS -  m3/hr',\n",
       "       'PAX Flow to TK1552/3 Controller PV -  L/H',\n",
       "       'Total Promoter Flow to FGO Floats PV -  L/h',\n",
       "       'FLOW Collector to FGO TK1550 PV -  L/Hr',\n",
       "       'FROTHER  Flow 1 to TK1551/2 Controller PV -  L/H',\n",
       "       'FROTHER  Flow 2 to TK1551/2 Controller PV -  L/H',\n",
       "       'FROTHER  Flow to TK1551 Controller PV -  L/H',\n",
       "       'PROMOTER  Flow Rate- PV -  G/T', '[OV] CYC Feed Press. Ctrl PV - kPag',\n",
       "       'PU1011 Demand Speed Output - rpm', 'FGO CYCLONE Feed Density (%) - %',\n",
       "       'FGO Cyclone Overflow Density (%) - %',\n",
       "       'FGO CYCLONE O/F Sizing Control PV - % -150',\n",
       "       '[OV] FGO Cyclone Overflow Density Control PV - %',\n",
       "       'FGO Masspull (Cons/(Cons+Tails)) -  %',\n",
       "       'FGO Masspull (Cons/Feed) -  %', 'FGO Masspull (Feed-Tails)/Feed -  %',\n",
       "       'FGO Conc Flow Controller PV -  m3/hr',\n",
       "       'FGO Tails Flow Controller PV -  m3/hr',\n",
       "       'FLOTATION CONCENTRATE DENSITY -  %',\n",
       "       'Flotation Concentrates Solids SG -  kg/m3',\n",
       "       'FGO Flotation Rougher Tails Density  -  kg/m3',\n",
       "       'GT #1 bed level control PV - %', 'GT #2 bed level control PV - %',\n",
       "       'FLOW - m3/h', 'FLOW Collector to FGO Cyclone Under Flow - L/Hr',\n",
       "       'FIT5380 FGO Additional Feed To HGO Flots Flow - m3/h',\n",
       "       'Rougher to Float Flow Ctrl PV - m3/h', 'FLOATS R_Feed Density - kg/m3',\n",
       "       'Rougher to Flotation Feed Density  - %',\n",
       "       'Grinding Thickener 2 underflow  flow.CTRL PV - m3/h',\n",
       "       'Grinding Thickener 1 underflow  flow.CTRL PV - m3/h',\n",
       "       'TOTAL GT1 slurry feed GT1 TANK - T/H',\n",
       "       'TOTAL GT1 flow rate FEED TANK - m3/H',\n",
       "       'TOTAL GT2 slurry feed GT2 TANK - T/H',\n",
       "       'TOTAL GT2 flow rate FEED TANK - m3/H',\n",
       "       'TK2008 GT FEED MIX TANK LEVEL - %',\n",
       "       'TK2011 GT FEED MIX TANK LEVEL - %',\n",
       "       '[OV] FGO Sag Mill Feed Ctrl PV - t/h',\n",
       "       '[OV] FGO Sag Mill Motor Power - kW', '[OV] FGO BM Motor Power - kW',\n",
       "       '[OV] FGO SM Feed Dilution Flow  PV - m3/h', 'PREOX TK04 Level - %',\n",
       "       'PREOX TK05 Level - %', 'PREOX TK06 Level - %',\n",
       "       'TK1004 Underflow Flow loop PV - m3/h', 'TK1004 Level - %',\n",
       "       'TK2004 Pre-Ox Tank Level - %', 'TK2005 Pre-Ox Tank Level - %'],\n",
       "      dtype='object')"
      ]
     },
     "execution_count": 7,
     "metadata": {},
     "output_type": "execute_result"
    }
   ],
   "source": [
    "data.columns"
   ]
  },
  {
   "cell_type": "code",
   "execution_count": 8,
   "metadata": {},
   "outputs": [],
   "source": [
    "X1=data[['FGO TK1551 Level Ctr PV - mm', 'FGO TK1552 Level Ctr PV - mm',\n",
    "       'FGO TK1553 Level Ctr PV - mm', 'FGO TK1554 Level Ctr PV - mm',\n",
    "       'FGO TK1555 Level Ctr PV - mm']]"
   ]
  },
  {
   "cell_type": "code",
   "execution_count": 9,
   "metadata": {},
   "outputs": [],
   "source": [
    "y=data[['FGO Conc Flow Controller PV -  m3/hr']]"
   ]
  },
  {
   "cell_type": "code",
   "execution_count": 10,
   "metadata": {},
   "outputs": [
    {
     "data": {
      "text/plain": [
       "(16760, 1)"
      ]
     },
     "execution_count": 10,
     "metadata": {},
     "output_type": "execute_result"
    }
   ],
   "source": [
    "y.shape"
   ]
  },
  {
   "cell_type": "code",
   "execution_count": 11,
   "metadata": {},
   "outputs": [],
   "source": [
    "import statsmodels.regression.linear_model as sm"
   ]
  },
  {
   "cell_type": "code",
   "execution_count": 12,
   "metadata": {},
   "outputs": [],
   "source": [
    "result1 = sm.OLS(y,X1,missing='drop').fit()"
   ]
  },
  {
   "cell_type": "code",
   "execution_count": 13,
   "metadata": {},
   "outputs": [
    {
     "data": {
      "text/html": [
       "<table class=\"simpletable\">\n",
       "<caption>OLS Regression Results</caption>\n",
       "<tr>\n",
       "  <th>Dep. Variable:</th>    <td>FGO Conc Flow Controller PV -  m3/hr</td> <th>  R-squared (uncentered):</th>      <td>   0.813</td> \n",
       "</tr>\n",
       "<tr>\n",
       "  <th>Model:</th>                             <td>OLS</td>                 <th>  Adj. R-squared (uncentered):</th> <td>   0.813</td> \n",
       "</tr>\n",
       "<tr>\n",
       "  <th>Method:</th>                       <td>Least Squares</td>            <th>  F-statistic:       </th>          <td>   5937.</td> \n",
       "</tr>\n",
       "<tr>\n",
       "  <th>Date:</th>                       <td>Mon, 20 Jan 2020</td>           <th>  Prob (F-statistic):</th>           <td>  0.00</td>  \n",
       "</tr>\n",
       "<tr>\n",
       "  <th>Time:</th>                           <td>18:07:00</td>               <th>  Log-Likelihood:    </th>          <td> -49229.</td> \n",
       "</tr>\n",
       "<tr>\n",
       "  <th>No. Observations:</th>                <td>  6827</td>                <th>  AIC:               </th>          <td>9.847e+04</td>\n",
       "</tr>\n",
       "<tr>\n",
       "  <th>Df Residuals:</th>                    <td>  6822</td>                <th>  BIC:               </th>          <td>9.850e+04</td>\n",
       "</tr>\n",
       "<tr>\n",
       "  <th>Df Model:</th>                        <td>     5</td>                <th>                     </th>              <td> </td>    \n",
       "</tr>\n",
       "<tr>\n",
       "  <th>Covariance Type:</th>                <td>nonrobust</td>              <th>                     </th>              <td> </td>    \n",
       "</tr>\n",
       "</table>\n",
       "<table class=\"simpletable\">\n",
       "<tr>\n",
       "                <td></td>                  <th>coef</th>     <th>std err</th>      <th>t</th>      <th>P>|t|</th>  <th>[0.025</th>    <th>0.975]</th>  \n",
       "</tr>\n",
       "<tr>\n",
       "  <th>FGO TK1551 Level Ctr PV - mm</th> <td>   -0.0759</td> <td>    0.073</td> <td>   -1.046</td> <td> 0.296</td> <td>   -0.218</td> <td>    0.066</td>\n",
       "</tr>\n",
       "<tr>\n",
       "  <th>FGO TK1552 Level Ctr PV - mm</th> <td>    2.3924</td> <td>    0.095</td> <td>   25.107</td> <td> 0.000</td> <td>    2.206</td> <td>    2.579</td>\n",
       "</tr>\n",
       "<tr>\n",
       "  <th>FGO TK1553 Level Ctr PV - mm</th> <td>    0.6029</td> <td>    0.086</td> <td>    7.017</td> <td> 0.000</td> <td>    0.434</td> <td>    0.771</td>\n",
       "</tr>\n",
       "<tr>\n",
       "  <th>FGO TK1554 Level Ctr PV - mm</th> <td>    0.8508</td> <td>    0.084</td> <td>   10.100</td> <td> 0.000</td> <td>    0.686</td> <td>    1.016</td>\n",
       "</tr>\n",
       "<tr>\n",
       "  <th>FGO TK1555 Level Ctr PV - mm</th> <td>   -1.5621</td> <td>    0.072</td> <td>  -21.738</td> <td> 0.000</td> <td>   -1.703</td> <td>   -1.421</td>\n",
       "</tr>\n",
       "</table>\n",
       "<table class=\"simpletable\">\n",
       "<tr>\n",
       "  <th>Omnibus:</th>       <td>188.056</td> <th>  Durbin-Watson:     </th> <td>   0.294</td>\n",
       "</tr>\n",
       "<tr>\n",
       "  <th>Prob(Omnibus):</th> <td> 0.000</td>  <th>  Jarque-Bera (JB):  </th> <td> 104.861</td>\n",
       "</tr>\n",
       "<tr>\n",
       "  <th>Skew:</th>          <td> 0.130</td>  <th>  Prob(JB):          </th> <td>1.70e-23</td>\n",
       "</tr>\n",
       "<tr>\n",
       "  <th>Kurtosis:</th>      <td> 2.451</td>  <th>  Cond. No.          </th> <td>    14.4</td>\n",
       "</tr>\n",
       "</table><br/><br/>Warnings:<br/>[1] Standard Errors assume that the covariance matrix of the errors is correctly specified."
      ],
      "text/plain": [
       "<class 'statsmodels.iolib.summary.Summary'>\n",
       "\"\"\"\n",
       "                                          OLS Regression Results                                         \n",
       "=========================================================================================================\n",
       "Dep. Variable:     FGO Conc Flow Controller PV -  m3/hr   R-squared (uncentered):                   0.813\n",
       "Model:                                              OLS   Adj. R-squared (uncentered):              0.813\n",
       "Method:                                   Least Squares   F-statistic:                              5937.\n",
       "Date:                                  Mon, 20 Jan 2020   Prob (F-statistic):                        0.00\n",
       "Time:                                          18:07:00   Log-Likelihood:                         -49229.\n",
       "No. Observations:                                  6827   AIC:                                  9.847e+04\n",
       "Df Residuals:                                      6822   BIC:                                  9.850e+04\n",
       "Df Model:                                             5                                                  \n",
       "Covariance Type:                              nonrobust                                                  \n",
       "================================================================================================\n",
       "                                   coef    std err          t      P>|t|      [0.025      0.975]\n",
       "------------------------------------------------------------------------------------------------\n",
       "FGO TK1551 Level Ctr PV - mm    -0.0759      0.073     -1.046      0.296      -0.218       0.066\n",
       "FGO TK1552 Level Ctr PV - mm     2.3924      0.095     25.107      0.000       2.206       2.579\n",
       "FGO TK1553 Level Ctr PV - mm     0.6029      0.086      7.017      0.000       0.434       0.771\n",
       "FGO TK1554 Level Ctr PV - mm     0.8508      0.084     10.100      0.000       0.686       1.016\n",
       "FGO TK1555 Level Ctr PV - mm    -1.5621      0.072    -21.738      0.000      -1.703      -1.421\n",
       "==============================================================================\n",
       "Omnibus:                      188.056   Durbin-Watson:                   0.294\n",
       "Prob(Omnibus):                  0.000   Jarque-Bera (JB):              104.861\n",
       "Skew:                           0.130   Prob(JB):                     1.70e-23\n",
       "Kurtosis:                       2.451   Cond. No.                         14.4\n",
       "==============================================================================\n",
       "\n",
       "Warnings:\n",
       "[1] Standard Errors assume that the covariance matrix of the errors is correctly specified.\n",
       "\"\"\""
      ]
     },
     "execution_count": 13,
     "metadata": {},
     "output_type": "execute_result"
    }
   ],
   "source": [
    "result1.summary()"
   ]
  },
  {
   "cell_type": "code",
   "execution_count": 14,
   "metadata": {},
   "outputs": [],
   "source": [
    "X2=data[['TK1551 Air Blower Flow Loop PV - m3/h',\n",
    "       'TK1552 Air Blower Flow Loop PV - m3/h',\n",
    "       'TK1553 Air Blower Flow Loop PV - m3/h',\n",
    "       'TK1554 Air Blower Flow Loop PV - m3/h',\n",
    "       'TK1555 Air Blower Flow Loop PV - m3/h']]"
   ]
  },
  {
   "cell_type": "code",
   "execution_count": 15,
   "metadata": {},
   "outputs": [],
   "source": [
    "result2 = sm.OLS(y,X2,missing='drop').fit()"
   ]
  },
  {
   "cell_type": "code",
   "execution_count": 16,
   "metadata": {},
   "outputs": [
    {
     "data": {
      "text/html": [
       "<table class=\"simpletable\">\n",
       "<caption>OLS Regression Results</caption>\n",
       "<tr>\n",
       "  <th>Dep. Variable:</th>    <td>FGO Conc Flow Controller PV -  m3/hr</td> <th>  R-squared (uncentered):</th>      <td>   0.882</td> \n",
       "</tr>\n",
       "<tr>\n",
       "  <th>Model:</th>                             <td>OLS</td>                 <th>  Adj. R-squared (uncentered):</th> <td>   0.882</td> \n",
       "</tr>\n",
       "<tr>\n",
       "  <th>Method:</th>                       <td>Least Squares</td>            <th>  F-statistic:       </th>          <td>1.013e+04</td>\n",
       "</tr>\n",
       "<tr>\n",
       "  <th>Date:</th>                       <td>Mon, 20 Jan 2020</td>           <th>  Prob (F-statistic):</th>           <td>  0.00</td>  \n",
       "</tr>\n",
       "<tr>\n",
       "  <th>Time:</th>                           <td>18:07:00</td>               <th>  Log-Likelihood:    </th>          <td> -47169.</td> \n",
       "</tr>\n",
       "<tr>\n",
       "  <th>No. Observations:</th>                <td>  6755</td>                <th>  AIC:               </th>          <td>9.435e+04</td>\n",
       "</tr>\n",
       "<tr>\n",
       "  <th>Df Residuals:</th>                    <td>  6750</td>                <th>  BIC:               </th>          <td>9.438e+04</td>\n",
       "</tr>\n",
       "<tr>\n",
       "  <th>Df Model:</th>                        <td>     5</td>                <th>                     </th>              <td> </td>    \n",
       "</tr>\n",
       "<tr>\n",
       "  <th>Covariance Type:</th>                <td>nonrobust</td>              <th>                     </th>              <td> </td>    \n",
       "</tr>\n",
       "</table>\n",
       "<table class=\"simpletable\">\n",
       "<tr>\n",
       "                    <td></td>                       <th>coef</th>     <th>std err</th>      <th>t</th>      <th>P>|t|</th>  <th>[0.025</th>    <th>0.975]</th>  \n",
       "</tr>\n",
       "<tr>\n",
       "  <th>TK1551 Air Blower Flow Loop PV - m3/h</th> <td>    0.5708</td> <td>    0.033</td> <td>   17.312</td> <td> 0.000</td> <td>    0.506</td> <td>    0.635</td>\n",
       "</tr>\n",
       "<tr>\n",
       "  <th>TK1552 Air Blower Flow Loop PV - m3/h</th> <td>   -0.0099</td> <td>    0.026</td> <td>   -0.379</td> <td> 0.705</td> <td>   -0.061</td> <td>    0.041</td>\n",
       "</tr>\n",
       "<tr>\n",
       "  <th>TK1553 Air Blower Flow Loop PV - m3/h</th> <td>    0.5539</td> <td>    0.037</td> <td>   14.953</td> <td> 0.000</td> <td>    0.481</td> <td>    0.627</td>\n",
       "</tr>\n",
       "<tr>\n",
       "  <th>TK1554 Air Blower Flow Loop PV - m3/h</th> <td>   -0.4884</td> <td>    0.034</td> <td>  -14.176</td> <td> 0.000</td> <td>   -0.556</td> <td>   -0.421</td>\n",
       "</tr>\n",
       "<tr>\n",
       "  <th>TK1555 Air Blower Flow Loop PV - m3/h</th> <td>    0.3515</td> <td>    0.029</td> <td>   12.287</td> <td> 0.000</td> <td>    0.295</td> <td>    0.408</td>\n",
       "</tr>\n",
       "</table>\n",
       "<table class=\"simpletable\">\n",
       "<tr>\n",
       "  <th>Omnibus:</th>       <td>68.667</td> <th>  Durbin-Watson:     </th> <td>   0.381</td>\n",
       "</tr>\n",
       "<tr>\n",
       "  <th>Prob(Omnibus):</th> <td> 0.000</td> <th>  Jarque-Bera (JB):  </th> <td>  61.611</td>\n",
       "</tr>\n",
       "<tr>\n",
       "  <th>Skew:</th>          <td>-0.187</td> <th>  Prob(JB):          </th> <td>4.18e-14</td>\n",
       "</tr>\n",
       "<tr>\n",
       "  <th>Kurtosis:</th>      <td> 2.719</td> <th>  Cond. No.          </th> <td>    24.0</td>\n",
       "</tr>\n",
       "</table><br/><br/>Warnings:<br/>[1] Standard Errors assume that the covariance matrix of the errors is correctly specified."
      ],
      "text/plain": [
       "<class 'statsmodels.iolib.summary.Summary'>\n",
       "\"\"\"\n",
       "                                          OLS Regression Results                                         \n",
       "=========================================================================================================\n",
       "Dep. Variable:     FGO Conc Flow Controller PV -  m3/hr   R-squared (uncentered):                   0.882\n",
       "Model:                                              OLS   Adj. R-squared (uncentered):              0.882\n",
       "Method:                                   Least Squares   F-statistic:                          1.013e+04\n",
       "Date:                                  Mon, 20 Jan 2020   Prob (F-statistic):                        0.00\n",
       "Time:                                          18:07:00   Log-Likelihood:                         -47169.\n",
       "No. Observations:                                  6755   AIC:                                  9.435e+04\n",
       "Df Residuals:                                      6750   BIC:                                  9.438e+04\n",
       "Df Model:                                             5                                                  \n",
       "Covariance Type:                              nonrobust                                                  \n",
       "=========================================================================================================\n",
       "                                            coef    std err          t      P>|t|      [0.025      0.975]\n",
       "---------------------------------------------------------------------------------------------------------\n",
       "TK1551 Air Blower Flow Loop PV - m3/h     0.5708      0.033     17.312      0.000       0.506       0.635\n",
       "TK1552 Air Blower Flow Loop PV - m3/h    -0.0099      0.026     -0.379      0.705      -0.061       0.041\n",
       "TK1553 Air Blower Flow Loop PV - m3/h     0.5539      0.037     14.953      0.000       0.481       0.627\n",
       "TK1554 Air Blower Flow Loop PV - m3/h    -0.4884      0.034    -14.176      0.000      -0.556      -0.421\n",
       "TK1555 Air Blower Flow Loop PV - m3/h     0.3515      0.029     12.287      0.000       0.295       0.408\n",
       "==============================================================================\n",
       "Omnibus:                       68.667   Durbin-Watson:                   0.381\n",
       "Prob(Omnibus):                  0.000   Jarque-Bera (JB):               61.611\n",
       "Skew:                          -0.187   Prob(JB):                     4.18e-14\n",
       "Kurtosis:                       2.719   Cond. No.                         24.0\n",
       "==============================================================================\n",
       "\n",
       "Warnings:\n",
       "[1] Standard Errors assume that the covariance matrix of the errors is correctly specified.\n",
       "\"\"\""
      ]
     },
     "execution_count": 16,
     "metadata": {},
     "output_type": "execute_result"
    }
   ],
   "source": [
    "result2.summary()"
   ]
  },
  {
   "cell_type": "code",
   "execution_count": 17,
   "metadata": {},
   "outputs": [],
   "source": [
    "X3=data[['TK1551 VELOCITY TO AIR CTRL PV - m3/hr',\n",
    "       'TK1552 VELOCITY TO AIR CTRL PV - mm/s',\n",
    "       'TK1553 VELOCITY TO AIR CTRL PV - mm/s',\n",
    "       'TK1554 VELOCITY TO AIR CTRL PV - mm/s',\n",
    "       'TK1555 VELOCITY TO AIR CTRL PV - mm/s']]"
   ]
  },
  {
   "cell_type": "code",
   "execution_count": 18,
   "metadata": {},
   "outputs": [],
   "source": [
    "result3 = sm.OLS(y,X3,missing='drop').fit()"
   ]
  },
  {
   "cell_type": "code",
   "execution_count": 19,
   "metadata": {},
   "outputs": [
    {
     "data": {
      "text/html": [
       "<table class=\"simpletable\">\n",
       "<caption>OLS Regression Results</caption>\n",
       "<tr>\n",
       "  <th>Dep. Variable:</th>    <td>FGO Conc Flow Controller PV -  m3/hr</td> <th>  R-squared (uncentered):</th>      <td>   0.921</td> \n",
       "</tr>\n",
       "<tr>\n",
       "  <th>Model:</th>                             <td>OLS</td>                 <th>  Adj. R-squared (uncentered):</th> <td>   0.921</td> \n",
       "</tr>\n",
       "<tr>\n",
       "  <th>Method:</th>                       <td>Least Squares</td>            <th>  F-statistic:       </th>          <td>1.174e+04</td>\n",
       "</tr>\n",
       "<tr>\n",
       "  <th>Date:</th>                       <td>Mon, 20 Jan 2020</td>           <th>  Prob (F-statistic):</th>           <td>  0.00</td>  \n",
       "</tr>\n",
       "<tr>\n",
       "  <th>Time:</th>                           <td>18:07:00</td>               <th>  Log-Likelihood:    </th>          <td> -34311.</td> \n",
       "</tr>\n",
       "<tr>\n",
       "  <th>No. Observations:</th>                <td>  5038</td>                <th>  AIC:               </th>          <td>6.863e+04</td>\n",
       "</tr>\n",
       "<tr>\n",
       "  <th>Df Residuals:</th>                    <td>  5033</td>                <th>  BIC:               </th>          <td>6.866e+04</td>\n",
       "</tr>\n",
       "<tr>\n",
       "  <th>Df Model:</th>                        <td>     5</td>                <th>                     </th>              <td> </td>    \n",
       "</tr>\n",
       "<tr>\n",
       "  <th>Covariance Type:</th>                <td>nonrobust</td>              <th>                     </th>              <td> </td>    \n",
       "</tr>\n",
       "</table>\n",
       "<table class=\"simpletable\">\n",
       "<tr>\n",
       "                     <td></td>                       <th>coef</th>     <th>std err</th>      <th>t</th>      <th>P>|t|</th>  <th>[0.025</th>    <th>0.975]</th>  \n",
       "</tr>\n",
       "<tr>\n",
       "  <th>TK1551 VELOCITY TO AIR CTRL PV - m3/hr</th> <td>    1.6489</td> <td>    0.136</td> <td>   12.162</td> <td> 0.000</td> <td>    1.383</td> <td>    1.915</td>\n",
       "</tr>\n",
       "<tr>\n",
       "  <th>TK1552 VELOCITY TO AIR CTRL PV - mm/s</th>  <td>    0.3939</td> <td>    0.172</td> <td>    2.287</td> <td> 0.022</td> <td>    0.056</td> <td>    0.732</td>\n",
       "</tr>\n",
       "<tr>\n",
       "  <th>TK1553 VELOCITY TO AIR CTRL PV - mm/s</th>  <td>    2.3923</td> <td>    0.183</td> <td>   13.084</td> <td> 0.000</td> <td>    2.034</td> <td>    2.751</td>\n",
       "</tr>\n",
       "<tr>\n",
       "  <th>TK1554 VELOCITY TO AIR CTRL PV - mm/s</th>  <td>    3.5247</td> <td>    0.248</td> <td>   14.216</td> <td> 0.000</td> <td>    3.039</td> <td>    4.011</td>\n",
       "</tr>\n",
       "<tr>\n",
       "  <th>TK1555 VELOCITY TO AIR CTRL PV - mm/s</th>  <td>    2.2652</td> <td>    0.209</td> <td>   10.856</td> <td> 0.000</td> <td>    1.856</td> <td>    2.674</td>\n",
       "</tr>\n",
       "</table>\n",
       "<table class=\"simpletable\">\n",
       "<tr>\n",
       "  <th>Omnibus:</th>       <td>32.620</td> <th>  Durbin-Watson:     </th> <td>   0.347</td>\n",
       "</tr>\n",
       "<tr>\n",
       "  <th>Prob(Omnibus):</th> <td> 0.000</td> <th>  Jarque-Bera (JB):  </th> <td>  39.876</td>\n",
       "</tr>\n",
       "<tr>\n",
       "  <th>Skew:</th>          <td> 0.119</td> <th>  Prob(JB):          </th> <td>2.19e-09</td>\n",
       "</tr>\n",
       "<tr>\n",
       "  <th>Kurtosis:</th>      <td> 3.365</td> <th>  Cond. No.          </th> <td>    17.0</td>\n",
       "</tr>\n",
       "</table><br/><br/>Warnings:<br/>[1] Standard Errors assume that the covariance matrix of the errors is correctly specified."
      ],
      "text/plain": [
       "<class 'statsmodels.iolib.summary.Summary'>\n",
       "\"\"\"\n",
       "                                          OLS Regression Results                                         \n",
       "=========================================================================================================\n",
       "Dep. Variable:     FGO Conc Flow Controller PV -  m3/hr   R-squared (uncentered):                   0.921\n",
       "Model:                                              OLS   Adj. R-squared (uncentered):              0.921\n",
       "Method:                                   Least Squares   F-statistic:                          1.174e+04\n",
       "Date:                                  Mon, 20 Jan 2020   Prob (F-statistic):                        0.00\n",
       "Time:                                          18:07:00   Log-Likelihood:                         -34311.\n",
       "No. Observations:                                  5038   AIC:                                  6.863e+04\n",
       "Df Residuals:                                      5033   BIC:                                  6.866e+04\n",
       "Df Model:                                             5                                                  \n",
       "Covariance Type:                              nonrobust                                                  \n",
       "==========================================================================================================\n",
       "                                             coef    std err          t      P>|t|      [0.025      0.975]\n",
       "----------------------------------------------------------------------------------------------------------\n",
       "TK1551 VELOCITY TO AIR CTRL PV - m3/hr     1.6489      0.136     12.162      0.000       1.383       1.915\n",
       "TK1552 VELOCITY TO AIR CTRL PV - mm/s      0.3939      0.172      2.287      0.022       0.056       0.732\n",
       "TK1553 VELOCITY TO AIR CTRL PV - mm/s      2.3923      0.183     13.084      0.000       2.034       2.751\n",
       "TK1554 VELOCITY TO AIR CTRL PV - mm/s      3.5247      0.248     14.216      0.000       3.039       4.011\n",
       "TK1555 VELOCITY TO AIR CTRL PV - mm/s      2.2652      0.209     10.856      0.000       1.856       2.674\n",
       "==============================================================================\n",
       "Omnibus:                       32.620   Durbin-Watson:                   0.347\n",
       "Prob(Omnibus):                  0.000   Jarque-Bera (JB):               39.876\n",
       "Skew:                           0.119   Prob(JB):                     2.19e-09\n",
       "Kurtosis:                       3.365   Cond. No.                         17.0\n",
       "==============================================================================\n",
       "\n",
       "Warnings:\n",
       "[1] Standard Errors assume that the covariance matrix of the errors is correctly specified.\n",
       "\"\"\""
      ]
     },
     "execution_count": 19,
     "metadata": {},
     "output_type": "execute_result"
    }
   ],
   "source": [
    "result3.summary()"
   ]
  },
  {
   "cell_type": "code",
   "execution_count": 20,
   "metadata": {},
   "outputs": [],
   "source": [
    "X4=data[['TK1551 Froth Bubble Diameter - mm',\n",
    "       'TK1552 Froth Bubble Diameter - mm',\n",
    "       'TK1553 Froth Bubble Diameter - mm']]"
   ]
  },
  {
   "cell_type": "code",
   "execution_count": 21,
   "metadata": {},
   "outputs": [],
   "source": [
    "result4 = sm.OLS(y,X4,missing='drop').fit()"
   ]
  },
  {
   "cell_type": "code",
   "execution_count": 22,
   "metadata": {},
   "outputs": [
    {
     "data": {
      "text/html": [
       "<table class=\"simpletable\">\n",
       "<caption>OLS Regression Results</caption>\n",
       "<tr>\n",
       "  <th>Dep. Variable:</th>    <td>FGO Conc Flow Controller PV -  m3/hr</td> <th>  R-squared (uncentered):</th>      <td>   0.843</td> \n",
       "</tr>\n",
       "<tr>\n",
       "  <th>Model:</th>                             <td>OLS</td>                 <th>  Adj. R-squared (uncentered):</th> <td>   0.843</td> \n",
       "</tr>\n",
       "<tr>\n",
       "  <th>Method:</th>                       <td>Least Squares</td>            <th>  F-statistic:       </th>          <td>1.008e+04</td>\n",
       "</tr>\n",
       "<tr>\n",
       "  <th>Date:</th>                       <td>Mon, 20 Jan 2020</td>           <th>  Prob (F-statistic):</th>           <td>  0.00</td>  \n",
       "</tr>\n",
       "<tr>\n",
       "  <th>Time:</th>                           <td>18:07:00</td>               <th>  Log-Likelihood:    </th>          <td> -40198.</td> \n",
       "</tr>\n",
       "<tr>\n",
       "  <th>No. Observations:</th>                <td>  5640</td>                <th>  AIC:               </th>          <td>8.040e+04</td>\n",
       "</tr>\n",
       "<tr>\n",
       "  <th>Df Residuals:</th>                    <td>  5637</td>                <th>  BIC:               </th>          <td>8.042e+04</td>\n",
       "</tr>\n",
       "<tr>\n",
       "  <th>Df Model:</th>                        <td>     3</td>                <th>                     </th>              <td> </td>    \n",
       "</tr>\n",
       "<tr>\n",
       "  <th>Covariance Type:</th>                <td>nonrobust</td>              <th>                     </th>              <td> </td>    \n",
       "</tr>\n",
       "</table>\n",
       "<table class=\"simpletable\">\n",
       "<tr>\n",
       "                  <td></td>                     <th>coef</th>     <th>std err</th>      <th>t</th>      <th>P>|t|</th>  <th>[0.025</th>    <th>0.975]</th>  \n",
       "</tr>\n",
       "<tr>\n",
       "  <th>TK1551 Froth Bubble Diameter - mm</th> <td>   25.3133</td> <td>    1.146</td> <td>   22.087</td> <td> 0.000</td> <td>   23.067</td> <td>   27.560</td>\n",
       "</tr>\n",
       "<tr>\n",
       "  <th>TK1552 Froth Bubble Diameter - mm</th> <td>    9.5184</td> <td>    1.118</td> <td>    8.517</td> <td> 0.000</td> <td>    7.328</td> <td>   11.709</td>\n",
       "</tr>\n",
       "<tr>\n",
       "  <th>TK1553 Froth Bubble Diameter - mm</th> <td>    4.2554</td> <td>    1.129</td> <td>    3.770</td> <td> 0.000</td> <td>    2.042</td> <td>    6.468</td>\n",
       "</tr>\n",
       "</table>\n",
       "<table class=\"simpletable\">\n",
       "<tr>\n",
       "  <th>Omnibus:</th>       <td>231.314</td> <th>  Durbin-Watson:     </th> <td>   0.365</td>\n",
       "</tr>\n",
       "<tr>\n",
       "  <th>Prob(Omnibus):</th> <td> 0.000</td>  <th>  Jarque-Bera (JB):  </th> <td> 100.446</td>\n",
       "</tr>\n",
       "<tr>\n",
       "  <th>Skew:</th>          <td> 0.046</td>  <th>  Prob(JB):          </th> <td>1.54e-22</td>\n",
       "</tr>\n",
       "<tr>\n",
       "  <th>Kurtosis:</th>      <td> 2.353</td>  <th>  Cond. No.          </th> <td>    11.3</td>\n",
       "</tr>\n",
       "</table><br/><br/>Warnings:<br/>[1] Standard Errors assume that the covariance matrix of the errors is correctly specified."
      ],
      "text/plain": [
       "<class 'statsmodels.iolib.summary.Summary'>\n",
       "\"\"\"\n",
       "                                          OLS Regression Results                                         \n",
       "=========================================================================================================\n",
       "Dep. Variable:     FGO Conc Flow Controller PV -  m3/hr   R-squared (uncentered):                   0.843\n",
       "Model:                                              OLS   Adj. R-squared (uncentered):              0.843\n",
       "Method:                                   Least Squares   F-statistic:                          1.008e+04\n",
       "Date:                                  Mon, 20 Jan 2020   Prob (F-statistic):                        0.00\n",
       "Time:                                          18:07:00   Log-Likelihood:                         -40198.\n",
       "No. Observations:                                  5640   AIC:                                  8.040e+04\n",
       "Df Residuals:                                      5637   BIC:                                  8.042e+04\n",
       "Df Model:                                             3                                                  \n",
       "Covariance Type:                              nonrobust                                                  \n",
       "=====================================================================================================\n",
       "                                        coef    std err          t      P>|t|      [0.025      0.975]\n",
       "-----------------------------------------------------------------------------------------------------\n",
       "TK1551 Froth Bubble Diameter - mm    25.3133      1.146     22.087      0.000      23.067      27.560\n",
       "TK1552 Froth Bubble Diameter - mm     9.5184      1.118      8.517      0.000       7.328      11.709\n",
       "TK1553 Froth Bubble Diameter - mm     4.2554      1.129      3.770      0.000       2.042       6.468\n",
       "==============================================================================\n",
       "Omnibus:                      231.314   Durbin-Watson:                   0.365\n",
       "Prob(Omnibus):                  0.000   Jarque-Bera (JB):              100.446\n",
       "Skew:                           0.046   Prob(JB):                     1.54e-22\n",
       "Kurtosis:                       2.353   Cond. No.                         11.3\n",
       "==============================================================================\n",
       "\n",
       "Warnings:\n",
       "[1] Standard Errors assume that the covariance matrix of the errors is correctly specified.\n",
       "\"\"\""
      ]
     },
     "execution_count": 22,
     "metadata": {},
     "output_type": "execute_result"
    }
   ],
   "source": [
    "result4.summary()"
   ]
  },
  {
   "cell_type": "code",
   "execution_count": 23,
   "metadata": {},
   "outputs": [
    {
     "name": "stdout",
     "output_type": "stream",
     "text": [
      "                                          OLS Regression Results                                         \n",
      "=========================================================================================================\n",
      "Dep. Variable:     FGO Conc Flow Controller PV -  m3/hr   R-squared (uncentered):                   0.813\n",
      "Model:                                              OLS   Adj. R-squared (uncentered):              0.813\n",
      "Method:                                   Least Squares   F-statistic:                              5937.\n",
      "Date:                                  Mon, 20 Jan 2020   Prob (F-statistic):                        0.00\n",
      "Time:                                          18:07:00   Log-Likelihood:                         -49229.\n",
      "No. Observations:                                  6827   AIC:                                  9.847e+04\n",
      "Df Residuals:                                      6822   BIC:                                  9.850e+04\n",
      "Df Model:                                             5                                                  \n",
      "Covariance Type:                              nonrobust                                                  \n",
      "================================================================================================\n",
      "                                   coef    std err          t      P>|t|      [0.025      0.975]\n",
      "------------------------------------------------------------------------------------------------\n",
      "FGO TK1551 Level Ctr PV - mm    -0.0759      0.073     -1.046      0.296      -0.218       0.066\n",
      "FGO TK1552 Level Ctr PV - mm     2.3924      0.095     25.107      0.000       2.206       2.579\n",
      "FGO TK1553 Level Ctr PV - mm     0.6029      0.086      7.017      0.000       0.434       0.771\n",
      "FGO TK1554 Level Ctr PV - mm     0.8508      0.084     10.100      0.000       0.686       1.016\n",
      "FGO TK1555 Level Ctr PV - mm    -1.5621      0.072    -21.738      0.000      -1.703      -1.421\n",
      "==============================================================================\n",
      "Omnibus:                      188.056   Durbin-Watson:                   0.294\n",
      "Prob(Omnibus):                  0.000   Jarque-Bera (JB):              104.861\n",
      "Skew:                           0.130   Prob(JB):                     1.70e-23\n",
      "Kurtosis:                       2.451   Cond. No.                         14.4\n",
      "==============================================================================\n",
      "\n",
      "Warnings:\n",
      "[1] Standard Errors assume that the covariance matrix of the errors is correctly specified.\n"
     ]
    },
    {
     "ename": "AttributeError",
     "evalue": "'NoneType' object has no attribute 'to_csv'",
     "output_type": "error",
     "traceback": [
      "\u001b[1;31m---------------------------------------------------------------------------\u001b[0m",
      "\u001b[1;31mAttributeError\u001b[0m                            Traceback (most recent call last)",
      "\u001b[1;32m<ipython-input-23-31f1468e3f2d>\u001b[0m in \u001b[0;36m<module>\u001b[1;34m\u001b[0m\n\u001b[0;32m      1\u001b[0m \u001b[0ma\u001b[0m\u001b[1;33m=\u001b[0m\u001b[0mprint\u001b[0m\u001b[1;33m(\u001b[0m\u001b[0mresult1\u001b[0m\u001b[1;33m.\u001b[0m\u001b[0msummary\u001b[0m\u001b[1;33m(\u001b[0m\u001b[1;33m)\u001b[0m\u001b[1;33m)\u001b[0m\u001b[1;33m\u001b[0m\u001b[1;33m\u001b[0m\u001b[0m\n\u001b[1;32m----> 2\u001b[1;33m \u001b[0ma\u001b[0m\u001b[1;33m.\u001b[0m\u001b[0mto_csv\u001b[0m\u001b[1;33m(\u001b[0m\u001b[1;34m'Tank_Regression_Analysis.csv'\u001b[0m\u001b[1;33m)\u001b[0m\u001b[1;33m\u001b[0m\u001b[1;33m\u001b[0m\u001b[0m\n\u001b[0m\u001b[0;32m      3\u001b[0m \u001b[0mb\u001b[0m\u001b[1;33m=\u001b[0m\u001b[0mprint\u001b[0m\u001b[1;33m(\u001b[0m\u001b[0mresult2\u001b[0m\u001b[1;33m.\u001b[0m\u001b[0msummary\u001b[0m\u001b[1;33m(\u001b[0m\u001b[1;33m)\u001b[0m\u001b[1;33m)\u001b[0m\u001b[1;33m\u001b[0m\u001b[1;33m\u001b[0m\u001b[0m\n\u001b[0;32m      4\u001b[0m \u001b[0mb\u001b[0m\u001b[1;33m.\u001b[0m\u001b[0mto_csv\u001b[0m\u001b[1;33m(\u001b[0m\u001b[1;34m'Air_Blower_Regression_Tanks.csv'\u001b[0m\u001b[1;33m)\u001b[0m\u001b[1;33m\u001b[0m\u001b[1;33m\u001b[0m\u001b[0m\n\u001b[0;32m      5\u001b[0m \u001b[0mc\u001b[0m\u001b[1;33m=\u001b[0m\u001b[0mprint\u001b[0m\u001b[1;33m(\u001b[0m\u001b[0mresult3\u001b[0m\u001b[1;33m.\u001b[0m\u001b[0msummary\u001b[0m\u001b[1;33m(\u001b[0m\u001b[1;33m)\u001b[0m\u001b[1;33m)\u001b[0m\u001b[1;33m\u001b[0m\u001b[1;33m\u001b[0m\u001b[0m\n",
      "\u001b[1;31mAttributeError\u001b[0m: 'NoneType' object has no attribute 'to_csv'"
     ]
    }
   ],
   "source": [
    "a=print(result1.summary())\n",
    "a.to_csv('Tank_Regression_Analysis.csv')\n",
    "b=print(result2.summary())\n",
    "b.to_csv('Air_Blower_Regression_Tanks.csv')\n",
    "c=print(result3.summary())\n",
    "c.to_csv('V2A_Regression_Tanks.csv')\n",
    "d=print(result4.summary())\n",
    "d.to_csv('FrothBD_Regression_Tanks.csv')"
   ]
  },
  {
   "cell_type": "markdown",
   "metadata": {},
   "source": [
    "# Tank 1 Optimization"
   ]
  },
  {
   "cell_type": "code",
   "execution_count": 85,
   "metadata": {},
   "outputs": [],
   "source": [
    "X1=data[['FGO TK1551 Level Ctr PV - mm','TK1551 Air Blower Flow Loop PV - m3/h','TK1551 Froth Bubble Diameter - mm']]"
   ]
  },
  {
   "cell_type": "code",
   "execution_count": 86,
   "metadata": {},
   "outputs": [],
   "source": [
    "y=data[['TK1551 VELOCITY TO AIR CTRL PV - m3/hr']]"
   ]
  },
  {
   "cell_type": "code",
   "execution_count": 87,
   "metadata": {},
   "outputs": [],
   "source": [
    "result5 = sm.OLS(y,X1,missing='drop').fit()"
   ]
  },
  {
   "cell_type": "code",
   "execution_count": 88,
   "metadata": {},
   "outputs": [
    {
     "data": {
      "text/html": [
       "<table class=\"simpletable\">\n",
       "<caption>OLS Regression Results</caption>\n",
       "<tr>\n",
       "  <th>Dep. Variable:</th>    <td>TK1551 VELOCITY TO AIR CTRL PV - m3/hr</td> <th>  R-squared (uncentered):</th>      <td>   0.898</td> \n",
       "</tr>\n",
       "<tr>\n",
       "  <th>Model:</th>                              <td>OLS</td>                  <th>  Adj. R-squared (uncentered):</th> <td>   0.898</td> \n",
       "</tr>\n",
       "<tr>\n",
       "  <th>Method:</th>                        <td>Least Squares</td>             <th>  F-statistic:       </th>          <td>1.588e+04</td>\n",
       "</tr>\n",
       "<tr>\n",
       "  <th>Date:</th>                        <td>Tue, 21 Jan 2020</td>            <th>  Prob (F-statistic):</th>           <td>  0.00</td>  \n",
       "</tr>\n",
       "<tr>\n",
       "  <th>Time:</th>                            <td>15:08:05</td>                <th>  Log-Likelihood:    </th>          <td> -26062.</td> \n",
       "</tr>\n",
       "<tr>\n",
       "  <th>No. Observations:</th>                 <td>  5427</td>                 <th>  AIC:               </th>          <td>5.213e+04</td>\n",
       "</tr>\n",
       "<tr>\n",
       "  <th>Df Residuals:</th>                     <td>  5424</td>                 <th>  BIC:               </th>          <td>5.215e+04</td>\n",
       "</tr>\n",
       "<tr>\n",
       "  <th>Df Model:</th>                         <td>     3</td>                 <th>                     </th>              <td> </td>    \n",
       "</tr>\n",
       "<tr>\n",
       "  <th>Covariance Type:</th>                 <td>nonrobust</td>               <th>                     </th>              <td> </td>    \n",
       "</tr>\n",
       "</table>\n",
       "<table class=\"simpletable\">\n",
       "<tr>\n",
       "                    <td></td>                       <th>coef</th>     <th>std err</th>      <th>t</th>      <th>P>|t|</th>  <th>[0.025</th>    <th>0.975]</th>  \n",
       "</tr>\n",
       "<tr>\n",
       "  <th>FGO TK1551 Level Ctr PV - mm</th>          <td>    0.1206</td> <td>    0.006</td> <td>   20.596</td> <td> 0.000</td> <td>    0.109</td> <td>    0.132</td>\n",
       "</tr>\n",
       "<tr>\n",
       "  <th>TK1551 Air Blower Flow Loop PV - m3/h</th> <td>    0.0847</td> <td>    0.002</td> <td>   35.997</td> <td> 0.000</td> <td>    0.080</td> <td>    0.089</td>\n",
       "</tr>\n",
       "<tr>\n",
       "  <th>TK1551 Froth Bubble Diameter - mm</th>     <td>    0.6024</td> <td>    0.093</td> <td>    6.449</td> <td> 0.000</td> <td>    0.419</td> <td>    0.786</td>\n",
       "</tr>\n",
       "</table>\n",
       "<table class=\"simpletable\">\n",
       "<tr>\n",
       "  <th>Omnibus:</th>       <td>78.510</td> <th>  Durbin-Watson:     </th> <td>   0.296</td>\n",
       "</tr>\n",
       "<tr>\n",
       "  <th>Prob(Omnibus):</th> <td> 0.000</td> <th>  Jarque-Bera (JB):  </th> <td>  79.276</td>\n",
       "</tr>\n",
       "<tr>\n",
       "  <th>Skew:</th>          <td>-0.280</td> <th>  Prob(JB):          </th> <td>6.10e-18</td>\n",
       "</tr>\n",
       "<tr>\n",
       "  <th>Kurtosis:</th>      <td> 2.807</td> <th>  Cond. No.          </th> <td>    172.</td>\n",
       "</tr>\n",
       "</table><br/><br/>Warnings:<br/>[1] Standard Errors assume that the covariance matrix of the errors is correctly specified."
      ],
      "text/plain": [
       "<class 'statsmodels.iolib.summary.Summary'>\n",
       "\"\"\"\n",
       "                                           OLS Regression Results                                          \n",
       "===========================================================================================================\n",
       "Dep. Variable:     TK1551 VELOCITY TO AIR CTRL PV - m3/hr   R-squared (uncentered):                   0.898\n",
       "Model:                                                OLS   Adj. R-squared (uncentered):              0.898\n",
       "Method:                                     Least Squares   F-statistic:                          1.588e+04\n",
       "Date:                                    Tue, 21 Jan 2020   Prob (F-statistic):                        0.00\n",
       "Time:                                            15:08:05   Log-Likelihood:                         -26062.\n",
       "No. Observations:                                    5427   AIC:                                  5.213e+04\n",
       "Df Residuals:                                        5424   BIC:                                  5.215e+04\n",
       "Df Model:                                               3                                                  \n",
       "Covariance Type:                                nonrobust                                                  \n",
       "=========================================================================================================\n",
       "                                            coef    std err          t      P>|t|      [0.025      0.975]\n",
       "---------------------------------------------------------------------------------------------------------\n",
       "FGO TK1551 Level Ctr PV - mm              0.1206      0.006     20.596      0.000       0.109       0.132\n",
       "TK1551 Air Blower Flow Loop PV - m3/h     0.0847      0.002     35.997      0.000       0.080       0.089\n",
       "TK1551 Froth Bubble Diameter - mm         0.6024      0.093      6.449      0.000       0.419       0.786\n",
       "==============================================================================\n",
       "Omnibus:                       78.510   Durbin-Watson:                   0.296\n",
       "Prob(Omnibus):                  0.000   Jarque-Bera (JB):               79.276\n",
       "Skew:                          -0.280   Prob(JB):                     6.10e-18\n",
       "Kurtosis:                       2.807   Cond. No.                         172.\n",
       "==============================================================================\n",
       "\n",
       "Warnings:\n",
       "[1] Standard Errors assume that the covariance matrix of the errors is correctly specified.\n",
       "\"\"\""
      ]
     },
     "execution_count": 88,
     "metadata": {},
     "output_type": "execute_result"
    }
   ],
   "source": [
    "result5.summary()"
   ]
  },
  {
   "cell_type": "code",
   "execution_count": 105,
   "metadata": {},
   "outputs": [],
   "source": [
    "data['FGO TK1551 Level Ctr PV - mm']=0.1206*data['FGO TK1551 Level Ctr PV - mm']"
   ]
  },
  {
   "cell_type": "code",
   "execution_count": 107,
   "metadata": {},
   "outputs": [],
   "source": [
    "data['TK1551 Air Blower Flow Loop PV - m3/h']=0.0847*data['TK1551 Air Blower Flow Loop PV - m3/h']"
   ]
  },
  {
   "cell_type": "code",
   "execution_count": 108,
   "metadata": {},
   "outputs": [],
   "source": [
    "data['TK1551 Froth Bubble Diameter - mm']=0.6024*data['TK1551 Froth Bubble Diameter - mm']"
   ]
  },
  {
   "cell_type": "code",
   "execution_count": 109,
   "metadata": {},
   "outputs": [],
   "source": [
    "data['TK1551 VELOCITY TO AIR CTRL PV - m3/hr']=data['FGO TK1551 Level Ctr PV - mm']+data['TK1551 Air Blower Flow Loop PV - m3/h']+data['TK1551 Froth Bubble Diameter - mm']"
   ]
  },
  {
   "cell_type": "code",
   "execution_count": 113,
   "metadata": {},
   "outputs": [
    {
     "data": {
      "text/plain": [
       "(16760,)"
      ]
     },
     "execution_count": 113,
     "metadata": {},
     "output_type": "execute_result"
    }
   ],
   "source": [
    "data['TK1551 VELOCITY TO AIR CTRL PV - m3/hr']"
   ]
  },
  {
   "cell_type": "code",
   "execution_count": 114,
   "metadata": {},
   "outputs": [],
   "source": [
    "y1=data['TK1551 VELOCITY TO AIR CTRL PV - m3/hr']"
   ]
  },
  {
   "cell_type": "markdown",
   "metadata": {},
   "source": [
    "# Tank 2 Optimization"
   ]
  },
  {
   "cell_type": "code",
   "execution_count": 115,
   "metadata": {},
   "outputs": [],
   "source": [
    "X2=data[['FGO TK1552 Level Ctr PV - mm','TK1552 Air Blower Flow Loop PV - m3/h','TK1552 Froth Bubble Diameter - mm']]"
   ]
  },
  {
   "cell_type": "code",
   "execution_count": 116,
   "metadata": {},
   "outputs": [],
   "source": [
    "y=data[['TK1552 VELOCITY TO AIR CTRL PV - mm/s']]"
   ]
  },
  {
   "cell_type": "code",
   "execution_count": 117,
   "metadata": {},
   "outputs": [
    {
     "data": {
      "text/html": [
       "<table class=\"simpletable\">\n",
       "<caption>OLS Regression Results</caption>\n",
       "<tr>\n",
       "  <th>Dep. Variable:</th>    <td>TK1552 VELOCITY TO AIR CTRL PV - mm/s</td> <th>  R-squared (uncentered):</th>      <td>   0.929</td> \n",
       "</tr>\n",
       "<tr>\n",
       "  <th>Model:</th>                             <td>OLS</td>                  <th>  Adj. R-squared (uncentered):</th> <td>   0.929</td> \n",
       "</tr>\n",
       "<tr>\n",
       "  <th>Method:</th>                       <td>Least Squares</td>             <th>  F-statistic:       </th>          <td>2.232e+04</td>\n",
       "</tr>\n",
       "<tr>\n",
       "  <th>Date:</th>                       <td>Tue, 21 Jan 2020</td>            <th>  Prob (F-statistic):</th>           <td>  0.00</td>  \n",
       "</tr>\n",
       "<tr>\n",
       "  <th>Time:</th>                           <td>15:24:24</td>                <th>  Log-Likelihood:    </th>          <td> -23856.</td> \n",
       "</tr>\n",
       "<tr>\n",
       "  <th>No. Observations:</th>                <td>  5118</td>                 <th>  AIC:               </th>          <td>4.772e+04</td>\n",
       "</tr>\n",
       "<tr>\n",
       "  <th>Df Residuals:</th>                    <td>  5115</td>                 <th>  BIC:               </th>          <td>4.774e+04</td>\n",
       "</tr>\n",
       "<tr>\n",
       "  <th>Df Model:</th>                        <td>     3</td>                 <th>                     </th>              <td> </td>    \n",
       "</tr>\n",
       "<tr>\n",
       "  <th>Covariance Type:</th>                <td>nonrobust</td>               <th>                     </th>              <td> </td>    \n",
       "</tr>\n",
       "</table>\n",
       "<table class=\"simpletable\">\n",
       "<tr>\n",
       "                    <td></td>                       <th>coef</th>     <th>std err</th>      <th>t</th>      <th>P>|t|</th>  <th>[0.025</th>    <th>0.975]</th>  \n",
       "</tr>\n",
       "<tr>\n",
       "  <th>FGO TK1552 Level Ctr PV - mm</th>          <td>    0.0874</td> <td>    0.004</td> <td>   19.679</td> <td> 0.000</td> <td>    0.079</td> <td>    0.096</td>\n",
       "</tr>\n",
       "<tr>\n",
       "  <th>TK1552 Air Blower Flow Loop PV - m3/h</th> <td>    0.0634</td> <td>    0.002</td> <td>   34.071</td> <td> 0.000</td> <td>    0.060</td> <td>    0.067</td>\n",
       "</tr>\n",
       "<tr>\n",
       "  <th>TK1552 Froth Bubble Diameter - mm</th>     <td>    1.4748</td> <td>    0.063</td> <td>   23.478</td> <td> 0.000</td> <td>    1.352</td> <td>    1.598</td>\n",
       "</tr>\n",
       "</table>\n",
       "<table class=\"simpletable\">\n",
       "<tr>\n",
       "  <th>Omnibus:</th>       <td>95.491</td> <th>  Durbin-Watson:     </th> <td>   0.516</td>\n",
       "</tr>\n",
       "<tr>\n",
       "  <th>Prob(Omnibus):</th> <td> 0.000</td> <th>  Jarque-Bera (JB):  </th> <td> 100.466</td>\n",
       "</tr>\n",
       "<tr>\n",
       "  <th>Skew:</th>          <td>-0.337</td> <th>  Prob(JB):          </th> <td>1.53e-22</td>\n",
       "</tr>\n",
       "<tr>\n",
       "  <th>Kurtosis:</th>      <td> 3.127</td> <th>  Cond. No.          </th> <td>    126.</td>\n",
       "</tr>\n",
       "</table><br/><br/>Warnings:<br/>[1] Standard Errors assume that the covariance matrix of the errors is correctly specified."
      ],
      "text/plain": [
       "<class 'statsmodels.iolib.summary.Summary'>\n",
       "\"\"\"\n",
       "                                          OLS Regression Results                                          \n",
       "==========================================================================================================\n",
       "Dep. Variable:     TK1552 VELOCITY TO AIR CTRL PV - mm/s   R-squared (uncentered):                   0.929\n",
       "Model:                                               OLS   Adj. R-squared (uncentered):              0.929\n",
       "Method:                                    Least Squares   F-statistic:                          2.232e+04\n",
       "Date:                                   Tue, 21 Jan 2020   Prob (F-statistic):                        0.00\n",
       "Time:                                           15:24:24   Log-Likelihood:                         -23856.\n",
       "No. Observations:                                   5118   AIC:                                  4.772e+04\n",
       "Df Residuals:                                       5115   BIC:                                  4.774e+04\n",
       "Df Model:                                              3                                                  \n",
       "Covariance Type:                               nonrobust                                                  \n",
       "=========================================================================================================\n",
       "                                            coef    std err          t      P>|t|      [0.025      0.975]\n",
       "---------------------------------------------------------------------------------------------------------\n",
       "FGO TK1552 Level Ctr PV - mm              0.0874      0.004     19.679      0.000       0.079       0.096\n",
       "TK1552 Air Blower Flow Loop PV - m3/h     0.0634      0.002     34.071      0.000       0.060       0.067\n",
       "TK1552 Froth Bubble Diameter - mm         1.4748      0.063     23.478      0.000       1.352       1.598\n",
       "==============================================================================\n",
       "Omnibus:                       95.491   Durbin-Watson:                   0.516\n",
       "Prob(Omnibus):                  0.000   Jarque-Bera (JB):              100.466\n",
       "Skew:                          -0.337   Prob(JB):                     1.53e-22\n",
       "Kurtosis:                       3.127   Cond. No.                         126.\n",
       "==============================================================================\n",
       "\n",
       "Warnings:\n",
       "[1] Standard Errors assume that the covariance matrix of the errors is correctly specified.\n",
       "\"\"\""
      ]
     },
     "execution_count": 117,
     "metadata": {},
     "output_type": "execute_result"
    }
   ],
   "source": [
    "result7 = sm.OLS(y,X2,missing='drop').fit()\n",
    "result7.summary()"
   ]
  },
  {
   "cell_type": "code",
   "execution_count": 118,
   "metadata": {},
   "outputs": [],
   "source": [
    "data['FGO TK1552 Level Ctr PV - mm']=0.0874*data['FGO TK1552 Level Ctr PV - mm']"
   ]
  },
  {
   "cell_type": "code",
   "execution_count": 119,
   "metadata": {},
   "outputs": [],
   "source": [
    "data['TK1552 Air Blower Flow Loop PV - m3/h']=0.0634*data['TK1552 Air Blower Flow Loop PV - m3/h']"
   ]
  },
  {
   "cell_type": "code",
   "execution_count": 120,
   "metadata": {},
   "outputs": [],
   "source": [
    "data['TK1552 Froth Bubble Diameter - mm']=1.4784*data['TK1552 Froth Bubble Diameter - mm']"
   ]
  },
  {
   "cell_type": "code",
   "execution_count": 122,
   "metadata": {},
   "outputs": [],
   "source": [
    "data['TK1552 VELOCITY TO AIR CTRL PV - mm/s']=data['FGO TK1552 Level Ctr PV - mm']+data['TK1552 Air Blower Flow Loop PV - m3/h']+data['TK1552 Froth Bubble Diameter - mm']"
   ]
  },
  {
   "cell_type": "code",
   "execution_count": 123,
   "metadata": {},
   "outputs": [],
   "source": [
    "y2=data['TK1552 VELOCITY TO AIR CTRL PV - mm/s']"
   ]
  },
  {
   "cell_type": "markdown",
   "metadata": {},
   "source": [
    "# Tank 3 optimization"
   ]
  },
  {
   "cell_type": "code",
   "execution_count": 124,
   "metadata": {},
   "outputs": [],
   "source": [
    "X3=data[['FGO TK1553 Level Ctr PV - mm','TK1553 Air Blower Flow Loop PV - m3/h','TK1553 Froth Bubble Diameter - mm']]"
   ]
  },
  {
   "cell_type": "code",
   "execution_count": 125,
   "metadata": {},
   "outputs": [],
   "source": [
    "y=data[['TK1553 VELOCITY TO AIR CTRL PV - mm/s']]"
   ]
  },
  {
   "cell_type": "code",
   "execution_count": 126,
   "metadata": {},
   "outputs": [
    {
     "data": {
      "text/html": [
       "<table class=\"simpletable\">\n",
       "<caption>OLS Regression Results</caption>\n",
       "<tr>\n",
       "  <th>Dep. Variable:</th>    <td>TK1553 VELOCITY TO AIR CTRL PV - mm/s</td> <th>  R-squared (uncentered):</th>      <td>   0.926</td> \n",
       "</tr>\n",
       "<tr>\n",
       "  <th>Model:</th>                             <td>OLS</td>                  <th>  Adj. R-squared (uncentered):</th> <td>   0.926</td> \n",
       "</tr>\n",
       "<tr>\n",
       "  <th>Method:</th>                       <td>Least Squares</td>             <th>  F-statistic:       </th>          <td>2.257e+04</td>\n",
       "</tr>\n",
       "<tr>\n",
       "  <th>Date:</th>                       <td>Tue, 21 Jan 2020</td>            <th>  Prob (F-statistic):</th>           <td>  0.00</td>  \n",
       "</tr>\n",
       "<tr>\n",
       "  <th>Time:</th>                           <td>15:39:02</td>                <th>  Log-Likelihood:    </th>          <td> -24636.</td> \n",
       "</tr>\n",
       "<tr>\n",
       "  <th>No. Observations:</th>                <td>  5412</td>                 <th>  AIC:               </th>          <td>4.928e+04</td>\n",
       "</tr>\n",
       "<tr>\n",
       "  <th>Df Residuals:</th>                    <td>  5409</td>                 <th>  BIC:               </th>          <td>4.930e+04</td>\n",
       "</tr>\n",
       "<tr>\n",
       "  <th>Df Model:</th>                        <td>     3</td>                 <th>                     </th>              <td> </td>    \n",
       "</tr>\n",
       "<tr>\n",
       "  <th>Covariance Type:</th>                <td>nonrobust</td>               <th>                     </th>              <td> </td>    \n",
       "</tr>\n",
       "</table>\n",
       "<table class=\"simpletable\">\n",
       "<tr>\n",
       "                    <td></td>                       <th>coef</th>     <th>std err</th>      <th>t</th>      <th>P>|t|</th>  <th>[0.025</th>    <th>0.975]</th>  \n",
       "</tr>\n",
       "<tr>\n",
       "  <th>FGO TK1553 Level Ctr PV - mm</th>          <td>    0.0089</td> <td>    0.004</td> <td>    2.440</td> <td> 0.015</td> <td>    0.002</td> <td>    0.016</td>\n",
       "</tr>\n",
       "<tr>\n",
       "  <th>TK1553 Air Blower Flow Loop PV - m3/h</th> <td>    0.0943</td> <td>    0.002</td> <td>   54.419</td> <td> 0.000</td> <td>    0.091</td> <td>    0.098</td>\n",
       "</tr>\n",
       "<tr>\n",
       "  <th>TK1553 Froth Bubble Diameter - mm</th>     <td>    0.4020</td> <td>    0.068</td> <td>    5.950</td> <td> 0.000</td> <td>    0.270</td> <td>    0.534</td>\n",
       "</tr>\n",
       "</table>\n",
       "<table class=\"simpletable\">\n",
       "<tr>\n",
       "  <th>Omnibus:</th>       <td>169.101</td> <th>  Durbin-Watson:     </th> <td>   0.497</td>\n",
       "</tr>\n",
       "<tr>\n",
       "  <th>Prob(Omnibus):</th> <td> 0.000</td>  <th>  Jarque-Bera (JB):  </th> <td> 188.253</td>\n",
       "</tr>\n",
       "<tr>\n",
       "  <th>Skew:</th>          <td>-0.421</td>  <th>  Prob(JB):          </th> <td>1.32e-41</td>\n",
       "</tr>\n",
       "<tr>\n",
       "  <th>Kurtosis:</th>      <td> 3.354</td>  <th>  Cond. No.          </th> <td>    173.</td>\n",
       "</tr>\n",
       "</table><br/><br/>Warnings:<br/>[1] Standard Errors assume that the covariance matrix of the errors is correctly specified."
      ],
      "text/plain": [
       "<class 'statsmodels.iolib.summary.Summary'>\n",
       "\"\"\"\n",
       "                                          OLS Regression Results                                          \n",
       "==========================================================================================================\n",
       "Dep. Variable:     TK1553 VELOCITY TO AIR CTRL PV - mm/s   R-squared (uncentered):                   0.926\n",
       "Model:                                               OLS   Adj. R-squared (uncentered):              0.926\n",
       "Method:                                    Least Squares   F-statistic:                          2.257e+04\n",
       "Date:                                   Tue, 21 Jan 2020   Prob (F-statistic):                        0.00\n",
       "Time:                                           15:39:02   Log-Likelihood:                         -24636.\n",
       "No. Observations:                                   5412   AIC:                                  4.928e+04\n",
       "Df Residuals:                                       5409   BIC:                                  4.930e+04\n",
       "Df Model:                                              3                                                  \n",
       "Covariance Type:                               nonrobust                                                  \n",
       "=========================================================================================================\n",
       "                                            coef    std err          t      P>|t|      [0.025      0.975]\n",
       "---------------------------------------------------------------------------------------------------------\n",
       "FGO TK1553 Level Ctr PV - mm              0.0089      0.004      2.440      0.015       0.002       0.016\n",
       "TK1553 Air Blower Flow Loop PV - m3/h     0.0943      0.002     54.419      0.000       0.091       0.098\n",
       "TK1553 Froth Bubble Diameter - mm         0.4020      0.068      5.950      0.000       0.270       0.534\n",
       "==============================================================================\n",
       "Omnibus:                      169.101   Durbin-Watson:                   0.497\n",
       "Prob(Omnibus):                  0.000   Jarque-Bera (JB):              188.253\n",
       "Skew:                          -0.421   Prob(JB):                     1.32e-41\n",
       "Kurtosis:                       3.354   Cond. No.                         173.\n",
       "==============================================================================\n",
       "\n",
       "Warnings:\n",
       "[1] Standard Errors assume that the covariance matrix of the errors is correctly specified.\n",
       "\"\"\""
      ]
     },
     "execution_count": 126,
     "metadata": {},
     "output_type": "execute_result"
    }
   ],
   "source": [
    "result8 = sm.OLS(y,X3,missing='drop').fit()\n",
    "result8.summary()"
   ]
  },
  {
   "cell_type": "markdown",
   "metadata": {},
   "source": [
    "Here also all the variables are statistically significant."
   ]
  },
  {
   "cell_type": "code",
   "execution_count": 127,
   "metadata": {},
   "outputs": [],
   "source": [
    "data['FGO TK1553 Level Ctr PV - mm']=0.0089*data['FGO TK1553 Level Ctr PV - mm']"
   ]
  },
  {
   "cell_type": "code",
   "execution_count": 128,
   "metadata": {},
   "outputs": [],
   "source": [
    "data['TK1553 Air Blower Flow Loop PV - m3/h']=0.0943*data['TK1553 Air Blower Flow Loop PV - m3/h']"
   ]
  },
  {
   "cell_type": "code",
   "execution_count": 129,
   "metadata": {},
   "outputs": [],
   "source": [
    "data['TK1553 Froth Bubble Diameter - mm']=0.4020*data['TK1553 Froth Bubble Diameter - mm']"
   ]
  },
  {
   "cell_type": "code",
   "execution_count": 130,
   "metadata": {},
   "outputs": [],
   "source": [
    "data['TK1553 VELOCITY TO AIR CTRL PV - mm/s']=data['FGO TK1553 Level Ctr PV - mm']+data['TK1553 Air Blower Flow Loop PV - m3/h']+data['TK1553 Froth Bubble Diameter - mm']"
   ]
  },
  {
   "cell_type": "code",
   "execution_count": 131,
   "metadata": {},
   "outputs": [],
   "source": [
    "y3=data['TK1553 VELOCITY TO AIR CTRL PV - mm/s']"
   ]
  },
  {
   "cell_type": "markdown",
   "metadata": {},
   "source": [
    "# Tank 4 optimization"
   ]
  },
  {
   "cell_type": "code",
   "execution_count": 132,
   "metadata": {},
   "outputs": [],
   "source": [
    "X4=data[['FGO TK1554 Level Ctr PV - mm','TK1554 Air Blower Flow Loop PV - m3/h']]"
   ]
  },
  {
   "cell_type": "code",
   "execution_count": 133,
   "metadata": {},
   "outputs": [],
   "source": [
    "y=data[['TK1554 VELOCITY TO AIR CTRL PV - mm/s']]"
   ]
  },
  {
   "cell_type": "code",
   "execution_count": 134,
   "metadata": {},
   "outputs": [
    {
     "data": {
      "text/html": [
       "<table class=\"simpletable\">\n",
       "<caption>OLS Regression Results</caption>\n",
       "<tr>\n",
       "  <th>Dep. Variable:</th>    <td>TK1554 VELOCITY TO AIR CTRL PV - mm/s</td> <th>  R-squared (uncentered):</th>      <td>   0.889</td> \n",
       "</tr>\n",
       "<tr>\n",
       "  <th>Model:</th>                             <td>OLS</td>                  <th>  Adj. R-squared (uncentered):</th> <td>   0.889</td> \n",
       "</tr>\n",
       "<tr>\n",
       "  <th>Method:</th>                       <td>Least Squares</td>             <th>  F-statistic:       </th>          <td>2.153e+04</td>\n",
       "</tr>\n",
       "<tr>\n",
       "  <th>Date:</th>                       <td>Tue, 21 Jan 2020</td>            <th>  Prob (F-statistic):</th>           <td>  0.00</td>  \n",
       "</tr>\n",
       "<tr>\n",
       "  <th>Time:</th>                           <td>15:45:43</td>                <th>  Log-Likelihood:    </th>          <td> -23875.</td> \n",
       "</tr>\n",
       "<tr>\n",
       "  <th>No. Observations:</th>                <td>  5374</td>                 <th>  AIC:               </th>          <td>4.775e+04</td>\n",
       "</tr>\n",
       "<tr>\n",
       "  <th>Df Residuals:</th>                    <td>  5372</td>                 <th>  BIC:               </th>          <td>4.777e+04</td>\n",
       "</tr>\n",
       "<tr>\n",
       "  <th>Df Model:</th>                        <td>     2</td>                 <th>                     </th>              <td> </td>    \n",
       "</tr>\n",
       "<tr>\n",
       "  <th>Covariance Type:</th>                <td>nonrobust</td>               <th>                     </th>              <td> </td>    \n",
       "</tr>\n",
       "</table>\n",
       "<table class=\"simpletable\">\n",
       "<tr>\n",
       "                    <td></td>                       <th>coef</th>     <th>std err</th>      <th>t</th>      <th>P>|t|</th>  <th>[0.025</th>    <th>0.975]</th>  \n",
       "</tr>\n",
       "<tr>\n",
       "  <th>FGO TK1554 Level Ctr PV - mm</th>          <td>    0.0360</td> <td>    0.004</td> <td>   10.093</td> <td> 0.000</td> <td>    0.029</td> <td>    0.043</td>\n",
       "</tr>\n",
       "<tr>\n",
       "  <th>TK1554 Air Blower Flow Loop PV - m3/h</th> <td>    0.0727</td> <td>    0.001</td> <td>   65.264</td> <td> 0.000</td> <td>    0.070</td> <td>    0.075</td>\n",
       "</tr>\n",
       "</table>\n",
       "<table class=\"simpletable\">\n",
       "<tr>\n",
       "  <th>Omnibus:</th>       <td>80.904</td> <th>  Durbin-Watson:     </th> <td>   0.391</td>\n",
       "</tr>\n",
       "<tr>\n",
       "  <th>Prob(Omnibus):</th> <td> 0.000</td> <th>  Jarque-Bera (JB):  </th> <td>  78.129</td>\n",
       "</tr>\n",
       "<tr>\n",
       "  <th>Skew:</th>          <td>-0.265</td> <th>  Prob(JB):          </th> <td>1.08e-17</td>\n",
       "</tr>\n",
       "<tr>\n",
       "  <th>Kurtosis:</th>      <td> 2.739</td> <th>  Cond. No.          </th> <td>    9.66</td>\n",
       "</tr>\n",
       "</table><br/><br/>Warnings:<br/>[1] Standard Errors assume that the covariance matrix of the errors is correctly specified."
      ],
      "text/plain": [
       "<class 'statsmodels.iolib.summary.Summary'>\n",
       "\"\"\"\n",
       "                                          OLS Regression Results                                          \n",
       "==========================================================================================================\n",
       "Dep. Variable:     TK1554 VELOCITY TO AIR CTRL PV - mm/s   R-squared (uncentered):                   0.889\n",
       "Model:                                               OLS   Adj. R-squared (uncentered):              0.889\n",
       "Method:                                    Least Squares   F-statistic:                          2.153e+04\n",
       "Date:                                   Tue, 21 Jan 2020   Prob (F-statistic):                        0.00\n",
       "Time:                                           15:45:43   Log-Likelihood:                         -23875.\n",
       "No. Observations:                                   5374   AIC:                                  4.775e+04\n",
       "Df Residuals:                                       5372   BIC:                                  4.777e+04\n",
       "Df Model:                                              2                                                  \n",
       "Covariance Type:                               nonrobust                                                  \n",
       "=========================================================================================================\n",
       "                                            coef    std err          t      P>|t|      [0.025      0.975]\n",
       "---------------------------------------------------------------------------------------------------------\n",
       "FGO TK1554 Level Ctr PV - mm              0.0360      0.004     10.093      0.000       0.029       0.043\n",
       "TK1554 Air Blower Flow Loop PV - m3/h     0.0727      0.001     65.264      0.000       0.070       0.075\n",
       "==============================================================================\n",
       "Omnibus:                       80.904   Durbin-Watson:                   0.391\n",
       "Prob(Omnibus):                  0.000   Jarque-Bera (JB):               78.129\n",
       "Skew:                          -0.265   Prob(JB):                     1.08e-17\n",
       "Kurtosis:                       2.739   Cond. No.                         9.66\n",
       "==============================================================================\n",
       "\n",
       "Warnings:\n",
       "[1] Standard Errors assume that the covariance matrix of the errors is correctly specified.\n",
       "\"\"\""
      ]
     },
     "execution_count": 134,
     "metadata": {},
     "output_type": "execute_result"
    }
   ],
   "source": [
    "result9 = sm.OLS(y,X4,missing='drop').fit()\n",
    "result9.summary()"
   ]
  },
  {
   "cell_type": "markdown",
   "metadata": {},
   "source": [
    "Here also all the variables are statistically significant."
   ]
  },
  {
   "cell_type": "code",
   "execution_count": 135,
   "metadata": {},
   "outputs": [],
   "source": [
    "data['FGO TK1554 Level Ctr PV - mm']=0.0360*data['FGO TK1554 Level Ctr PV - mm']"
   ]
  },
  {
   "cell_type": "code",
   "execution_count": 136,
   "metadata": {},
   "outputs": [],
   "source": [
    "data['TK1554 Air Blower Flow Loop PV - m3/h']=0.0727*data['TK1554 Air Blower Flow Loop PV - m3/h']"
   ]
  },
  {
   "cell_type": "code",
   "execution_count": 137,
   "metadata": {},
   "outputs": [],
   "source": [
    "data['TK1554 VELOCITY TO AIR CTRL PV - mm/s']=data['FGO TK1554 Level Ctr PV - mm']+data['TK1554 Air Blower Flow Loop PV - m3/h']"
   ]
  },
  {
   "cell_type": "code",
   "execution_count": 138,
   "metadata": {},
   "outputs": [],
   "source": [
    "y4=data['TK1554 VELOCITY TO AIR CTRL PV - mm/s']"
   ]
  },
  {
   "cell_type": "markdown",
   "metadata": {},
   "source": [
    "# Tank 5 optimization"
   ]
  },
  {
   "cell_type": "code",
   "execution_count": 139,
   "metadata": {},
   "outputs": [],
   "source": [
    "X5=data[['FGO TK1555 Level Ctr PV - mm','TK1555 Air Blower Flow Loop PV - m3/h']]"
   ]
  },
  {
   "cell_type": "code",
   "execution_count": 140,
   "metadata": {},
   "outputs": [],
   "source": [
    "y=data[['TK1555 VELOCITY TO AIR CTRL PV - mm/s']]"
   ]
  },
  {
   "cell_type": "code",
   "execution_count": 141,
   "metadata": {},
   "outputs": [
    {
     "data": {
      "text/html": [
       "<table class=\"simpletable\">\n",
       "<caption>OLS Regression Results</caption>\n",
       "<tr>\n",
       "  <th>Dep. Variable:</th>    <td>TK1555 VELOCITY TO AIR CTRL PV - mm/s</td> <th>  R-squared (uncentered):</th>      <td>   0.891</td> \n",
       "</tr>\n",
       "<tr>\n",
       "  <th>Model:</th>                             <td>OLS</td>                  <th>  Adj. R-squared (uncentered):</th> <td>   0.891</td> \n",
       "</tr>\n",
       "<tr>\n",
       "  <th>Method:</th>                       <td>Least Squares</td>             <th>  F-statistic:       </th>          <td>2.218e+04</td>\n",
       "</tr>\n",
       "<tr>\n",
       "  <th>Date:</th>                       <td>Tue, 21 Jan 2020</td>            <th>  Prob (F-statistic):</th>           <td>  0.00</td>  \n",
       "</tr>\n",
       "<tr>\n",
       "  <th>Time:</th>                           <td>15:47:22</td>                <th>  Log-Likelihood:    </th>          <td> -23965.</td> \n",
       "</tr>\n",
       "<tr>\n",
       "  <th>No. Observations:</th>                <td>  5406</td>                 <th>  AIC:               </th>          <td>4.793e+04</td>\n",
       "</tr>\n",
       "<tr>\n",
       "  <th>Df Residuals:</th>                    <td>  5404</td>                 <th>  BIC:               </th>          <td>4.795e+04</td>\n",
       "</tr>\n",
       "<tr>\n",
       "  <th>Df Model:</th>                        <td>     2</td>                 <th>                     </th>              <td> </td>    \n",
       "</tr>\n",
       "<tr>\n",
       "  <th>Covariance Type:</th>                <td>nonrobust</td>               <th>                     </th>              <td> </td>    \n",
       "</tr>\n",
       "</table>\n",
       "<table class=\"simpletable\">\n",
       "<tr>\n",
       "                    <td></td>                       <th>coef</th>     <th>std err</th>      <th>t</th>      <th>P>|t|</th>  <th>[0.025</th>    <th>0.975]</th>  \n",
       "</tr>\n",
       "<tr>\n",
       "  <th>FGO TK1555 Level Ctr PV - mm</th>          <td>    0.0362</td> <td>    0.003</td> <td>   11.193</td> <td> 0.000</td> <td>    0.030</td> <td>    0.043</td>\n",
       "</tr>\n",
       "<tr>\n",
       "  <th>TK1555 Air Blower Flow Loop PV - m3/h</th> <td>    0.0829</td> <td>    0.001</td> <td>  101.320</td> <td> 0.000</td> <td>    0.081</td> <td>    0.084</td>\n",
       "</tr>\n",
       "</table>\n",
       "<table class=\"simpletable\">\n",
       "<tr>\n",
       "  <th>Omnibus:</th>       <td>40.172</td> <th>  Durbin-Watson:     </th> <td>   0.419</td>\n",
       "</tr>\n",
       "<tr>\n",
       "  <th>Prob(Omnibus):</th> <td> 0.000</td> <th>  Jarque-Bera (JB):  </th> <td>  41.630</td>\n",
       "</tr>\n",
       "<tr>\n",
       "  <th>Skew:</th>          <td>-0.194</td> <th>  Prob(JB):          </th> <td>9.12e-10</td>\n",
       "</tr>\n",
       "<tr>\n",
       "  <th>Kurtosis:</th>      <td> 3.184</td> <th>  Cond. No.          </th> <td>    7.87</td>\n",
       "</tr>\n",
       "</table><br/><br/>Warnings:<br/>[1] Standard Errors assume that the covariance matrix of the errors is correctly specified."
      ],
      "text/plain": [
       "<class 'statsmodels.iolib.summary.Summary'>\n",
       "\"\"\"\n",
       "                                          OLS Regression Results                                          \n",
       "==========================================================================================================\n",
       "Dep. Variable:     TK1555 VELOCITY TO AIR CTRL PV - mm/s   R-squared (uncentered):                   0.891\n",
       "Model:                                               OLS   Adj. R-squared (uncentered):              0.891\n",
       "Method:                                    Least Squares   F-statistic:                          2.218e+04\n",
       "Date:                                   Tue, 21 Jan 2020   Prob (F-statistic):                        0.00\n",
       "Time:                                           15:47:22   Log-Likelihood:                         -23965.\n",
       "No. Observations:                                   5406   AIC:                                  4.793e+04\n",
       "Df Residuals:                                       5404   BIC:                                  4.795e+04\n",
       "Df Model:                                              2                                                  \n",
       "Covariance Type:                               nonrobust                                                  \n",
       "=========================================================================================================\n",
       "                                            coef    std err          t      P>|t|      [0.025      0.975]\n",
       "---------------------------------------------------------------------------------------------------------\n",
       "FGO TK1555 Level Ctr PV - mm              0.0362      0.003     11.193      0.000       0.030       0.043\n",
       "TK1555 Air Blower Flow Loop PV - m3/h     0.0829      0.001    101.320      0.000       0.081       0.084\n",
       "==============================================================================\n",
       "Omnibus:                       40.172   Durbin-Watson:                   0.419\n",
       "Prob(Omnibus):                  0.000   Jarque-Bera (JB):               41.630\n",
       "Skew:                          -0.194   Prob(JB):                     9.12e-10\n",
       "Kurtosis:                       3.184   Cond. No.                         7.87\n",
       "==============================================================================\n",
       "\n",
       "Warnings:\n",
       "[1] Standard Errors assume that the covariance matrix of the errors is correctly specified.\n",
       "\"\"\""
      ]
     },
     "execution_count": 141,
     "metadata": {},
     "output_type": "execute_result"
    }
   ],
   "source": [
    "result10 = sm.OLS(y,X5,missing='drop').fit()\n",
    "result10.summary()"
   ]
  },
  {
   "cell_type": "markdown",
   "metadata": {},
   "source": [
    "Here also all the variables are significant."
   ]
  },
  {
   "cell_type": "code",
   "execution_count": 142,
   "metadata": {},
   "outputs": [],
   "source": [
    "data['FGO TK1555 Level Ctr PV - mm']=0.0362*data['FGO TK1555 Level Ctr PV - mm']"
   ]
  },
  {
   "cell_type": "code",
   "execution_count": 143,
   "metadata": {},
   "outputs": [],
   "source": [
    "data['TK1555 Air Blower Flow Loop PV - m3/h']=0.0829*data['TK1555 Air Blower Flow Loop PV - m3/h']"
   ]
  },
  {
   "cell_type": "code",
   "execution_count": 144,
   "metadata": {},
   "outputs": [],
   "source": [
    "data['TK1555 VELOCITY TO AIR CTRL PV - mm/s']=data['FGO TK1555 Level Ctr PV - mm']+data['TK1555 Air Blower Flow Loop PV - m3/h']"
   ]
  },
  {
   "cell_type": "code",
   "execution_count": 145,
   "metadata": {},
   "outputs": [],
   "source": [
    "y5=data['TK1555 VELOCITY TO AIR CTRL PV - mm/s']"
   ]
  },
  {
   "cell_type": "code",
   "execution_count": 163,
   "metadata": {},
   "outputs": [],
   "source": [
    "final_dataset = pd.concat([y1,y2,y3,y4,y5,data['FGO Conc Flow Controller PV -  m3/hr']], ignore_index=False, axis=1)"
   ]
  },
  {
   "cell_type": "code",
   "execution_count": 166,
   "metadata": {},
   "outputs": [
    {
     "data": {
      "text/plain": [
       "Index(['TK1551 VELOCITY TO AIR CTRL PV - m3/hr',\n",
       "       'TK1552 VELOCITY TO AIR CTRL PV - mm/s',\n",
       "       'TK1553 VELOCITY TO AIR CTRL PV - mm/s',\n",
       "       'TK1554 VELOCITY TO AIR CTRL PV - mm/s',\n",
       "       'TK1555 VELOCITY TO AIR CTRL PV - mm/s',\n",
       "       'FGO Conc Flow Controller PV -  m3/hr'],\n",
       "      dtype='object')"
      ]
     },
     "execution_count": 166,
     "metadata": {},
     "output_type": "execute_result"
    }
   ],
   "source": [
    "final_dataset.columns"
   ]
  },
  {
   "cell_type": "code",
   "execution_count": 165,
   "metadata": {},
   "outputs": [
    {
     "data": {
      "text/plain": [
       "TK1551 VELOCITY TO AIR CTRL PV - m3/hr    10823\n",
       "TK1552 VELOCITY TO AIR CTRL PV - mm/s     11092\n",
       "TK1553 VELOCITY TO AIR CTRL PV - mm/s     10827\n",
       "TK1554 VELOCITY TO AIR CTRL PV - mm/s      9527\n",
       "TK1555 VELOCITY TO AIR CTRL PV - mm/s      9580\n",
       "FGO Conc Flow Controller PV -  m3/hr       9512\n",
       "dtype: int64"
      ]
     },
     "execution_count": 165,
     "metadata": {},
     "output_type": "execute_result"
    }
   ],
   "source": [
    "final_dataset.isnull().sum()"
   ]
  },
  {
   "cell_type": "code",
   "execution_count": 167,
   "metadata": {},
   "outputs": [],
   "source": [
    "X_final=final_dataset[['TK1551 VELOCITY TO AIR CTRL PV - m3/hr',\n",
    "       'TK1552 VELOCITY TO AIR CTRL PV - mm/s',\n",
    "       'TK1553 VELOCITY TO AIR CTRL PV - mm/s',\n",
    "       'TK1554 VELOCITY TO AIR CTRL PV - mm/s',\n",
    "       'TK1555 VELOCITY TO AIR CTRL PV - mm/s']]"
   ]
  },
  {
   "cell_type": "code",
   "execution_count": 169,
   "metadata": {},
   "outputs": [],
   "source": [
    "y_response=final_dataset[['FGO Conc Flow Controller PV -  m3/hr']]"
   ]
  },
  {
   "cell_type": "code",
   "execution_count": 219,
   "metadata": {},
   "outputs": [
    {
     "data": {
      "text/html": [
       "<table class=\"simpletable\">\n",
       "<caption>OLS Regression Results</caption>\n",
       "<tr>\n",
       "  <th>Dep. Variable:</th>    <td>FGO Conc Flow Controller PV -  m3/hr</td> <th>  R-squared (uncentered):</th>      <td>   0.877</td> \n",
       "</tr>\n",
       "<tr>\n",
       "  <th>Model:</th>                             <td>OLS</td>                 <th>  Adj. R-squared (uncentered):</th> <td>   0.876</td> \n",
       "</tr>\n",
       "<tr>\n",
       "  <th>Method:</th>                       <td>Least Squares</td>            <th>  F-statistic:       </th>          <td>   7228.</td> \n",
       "</tr>\n",
       "<tr>\n",
       "  <th>Date:</th>                       <td>Wed, 22 Jan 2020</td>           <th>  Prob (F-statistic):</th>           <td>  0.00</td>  \n",
       "</tr>\n",
       "<tr>\n",
       "  <th>Time:</th>                           <td>14:36:06</td>               <th>  Log-Likelihood:    </th>          <td> -35725.</td> \n",
       "</tr>\n",
       "<tr>\n",
       "  <th>No. Observations:</th>                <td>  5096</td>                <th>  AIC:               </th>          <td>7.146e+04</td>\n",
       "</tr>\n",
       "<tr>\n",
       "  <th>Df Residuals:</th>                    <td>  5091</td>                <th>  BIC:               </th>          <td>7.149e+04</td>\n",
       "</tr>\n",
       "<tr>\n",
       "  <th>Df Model:</th>                        <td>     5</td>                <th>                     </th>              <td> </td>    \n",
       "</tr>\n",
       "<tr>\n",
       "  <th>Covariance Type:</th>                <td>nonrobust</td>              <th>                     </th>              <td> </td>    \n",
       "</tr>\n",
       "</table>\n",
       "<table class=\"simpletable\">\n",
       "<tr>\n",
       "                     <td></td>                       <th>coef</th>     <th>std err</th>      <th>t</th>      <th>P>|t|</th>  <th>[0.025</th>    <th>0.975]</th>  \n",
       "</tr>\n",
       "<tr>\n",
       "  <th>TK1551 VELOCITY TO AIR CTRL PV - m3/hr</th> <td>    2.4895</td> <td>    0.340</td> <td>    7.321</td> <td> 0.000</td> <td>    1.823</td> <td>    3.156</td>\n",
       "</tr>\n",
       "<tr>\n",
       "  <th>TK1552 VELOCITY TO AIR CTRL PV - mm/s</th>  <td>    0.8247</td> <td>    0.355</td> <td>    2.325</td> <td> 0.020</td> <td>    0.129</td> <td>    1.520</td>\n",
       "</tr>\n",
       "<tr>\n",
       "  <th>TK1553 VELOCITY TO AIR CTRL PV - mm/s</th>  <td>    7.0269</td> <td>    0.461</td> <td>   15.243</td> <td> 0.000</td> <td>    6.123</td> <td>    7.931</td>\n",
       "</tr>\n",
       "<tr>\n",
       "  <th>TK1554 VELOCITY TO AIR CTRL PV - mm/s</th>  <td>   -6.4843</td> <td>    0.555</td> <td>  -11.676</td> <td> 0.000</td> <td>   -7.573</td> <td>   -5.396</td>\n",
       "</tr>\n",
       "<tr>\n",
       "  <th>TK1555 VELOCITY TO AIR CTRL PV - mm/s</th>  <td>    3.9953</td> <td>    0.428</td> <td>    9.340</td> <td> 0.000</td> <td>    3.157</td> <td>    4.834</td>\n",
       "</tr>\n",
       "</table>\n",
       "<table class=\"simpletable\">\n",
       "<tr>\n",
       "  <th>Omnibus:</th>       <td>74.307</td> <th>  Durbin-Watson:     </th> <td>   0.401</td>\n",
       "</tr>\n",
       "<tr>\n",
       "  <th>Prob(Omnibus):</th> <td> 0.000</td> <th>  Jarque-Bera (JB):  </th> <td>  55.861</td>\n",
       "</tr>\n",
       "<tr>\n",
       "  <th>Skew:</th>          <td>-0.164</td> <th>  Prob(JB):          </th> <td>7.41e-13</td>\n",
       "</tr>\n",
       "<tr>\n",
       "  <th>Kurtosis:</th>      <td> 2.605</td> <th>  Cond. No.          </th> <td>    31.0</td>\n",
       "</tr>\n",
       "</table><br/><br/>Warnings:<br/>[1] Standard Errors assume that the covariance matrix of the errors is correctly specified."
      ],
      "text/plain": [
       "<class 'statsmodels.iolib.summary.Summary'>\n",
       "\"\"\"\n",
       "                                          OLS Regression Results                                         \n",
       "=========================================================================================================\n",
       "Dep. Variable:     FGO Conc Flow Controller PV -  m3/hr   R-squared (uncentered):                   0.877\n",
       "Model:                                              OLS   Adj. R-squared (uncentered):              0.876\n",
       "Method:                                   Least Squares   F-statistic:                              7228.\n",
       "Date:                                  Wed, 22 Jan 2020   Prob (F-statistic):                        0.00\n",
       "Time:                                          14:36:06   Log-Likelihood:                         -35725.\n",
       "No. Observations:                                  5096   AIC:                                  7.146e+04\n",
       "Df Residuals:                                      5091   BIC:                                  7.149e+04\n",
       "Df Model:                                             5                                                  \n",
       "Covariance Type:                              nonrobust                                                  \n",
       "==========================================================================================================\n",
       "                                             coef    std err          t      P>|t|      [0.025      0.975]\n",
       "----------------------------------------------------------------------------------------------------------\n",
       "TK1551 VELOCITY TO AIR CTRL PV - m3/hr     2.4895      0.340      7.321      0.000       1.823       3.156\n",
       "TK1552 VELOCITY TO AIR CTRL PV - mm/s      0.8247      0.355      2.325      0.020       0.129       1.520\n",
       "TK1553 VELOCITY TO AIR CTRL PV - mm/s      7.0269      0.461     15.243      0.000       6.123       7.931\n",
       "TK1554 VELOCITY TO AIR CTRL PV - mm/s     -6.4843      0.555    -11.676      0.000      -7.573      -5.396\n",
       "TK1555 VELOCITY TO AIR CTRL PV - mm/s      3.9953      0.428      9.340      0.000       3.157       4.834\n",
       "==============================================================================\n",
       "Omnibus:                       74.307   Durbin-Watson:                   0.401\n",
       "Prob(Omnibus):                  0.000   Jarque-Bera (JB):               55.861\n",
       "Skew:                          -0.164   Prob(JB):                     7.41e-13\n",
       "Kurtosis:                       2.605   Cond. No.                         31.0\n",
       "==============================================================================\n",
       "\n",
       "Warnings:\n",
       "[1] Standard Errors assume that the covariance matrix of the errors is correctly specified.\n",
       "\"\"\""
      ]
     },
     "execution_count": 219,
     "metadata": {},
     "output_type": "execute_result"
    }
   ],
   "source": [
    "results = sm.OLS(y_response,X_final,missing='drop').fit()\n",
    "results.summary()"
   ]
  },
  {
   "cell_type": "code",
   "execution_count": 190,
   "metadata": {},
   "outputs": [],
   "source": [
    "final_dataset['TK1551 VELOCITY TO AIR CTRL PV - m3/hr']=final_dataset['TK1551 VELOCITY TO AIR CTRL PV - m3/hr']/2.4895\n",
    "final_dataset['TK1553 VELOCITY TO AIR CTRL PV - mm/s']=final_dataset['TK1553 VELOCITY TO AIR CTRL PV - mm/s']/7.0269\n",
    "final_dataset['TK1554 VELOCITY TO AIR CTRL PV - mm/s']=final_dataset['TK1554 VELOCITY TO AIR CTRL PV - mm/s']/(-6.4843)\n",
    "final_dataset['TK1555 VELOCITY TO AIR CTRL PV - mm/s']=final_dataset['TK1555 VELOCITY TO AIR CTRL PV - mm/s']/3.9953\n",
    "final_dataset['TK1552 VELOCITY TO AIR CTRL PV - mm/s']=final_dataset['TK1552 VELOCITY TO AIR CTRL PV - mm/s']/0.8247"
   ]
  },
  {
   "cell_type": "code",
   "execution_count": 191,
   "metadata": {},
   "outputs": [],
   "source": [
    "final_dataset['predicted_equation']=(final_dataset['area']*final_dataset['TK1551 VELOCITY TO AIR CTRL PV - m3/hr'])+final_dataset['TK1553 VELOCITY TO AIR CTRL PV - mm/s']+final_dataset['TK1554 VELOCITY TO AIR CTRL PV - mm/s']+final_dataset['TK1555 VELOCITY TO AIR CTRL PV - mm/s']+final_dataset['TK1552 VELOCITY TO AIR CTRL PV - mm/s']"
   ]
  },
  {
   "cell_type": "code",
   "execution_count": 181,
   "metadata": {},
   "outputs": [],
   "source": [
    "error=(final_dataset['FGO Conc Flow Controller PV -  m3/hr']-final_dataset['predicted_equation'])/final_dataset['FGO Conc Flow Controller PV -  m3/hr']"
   ]
  },
  {
   "cell_type": "code",
   "execution_count": 184,
   "metadata": {},
   "outputs": [
    {
     "data": {
      "text/plain": [
       "2018-01-10 16:00:00   NaN\n",
       "2018-01-10 17:00:00   NaN\n",
       "2018-01-10 18:00:00   NaN\n",
       "2018-01-10 19:00:00   NaN\n",
       "2018-01-10 20:00:00   NaN\n",
       "2018-01-10 21:00:00   NaN\n",
       "2018-01-10 22:00:00   NaN\n",
       "2018-01-10 23:00:00   NaN\n",
       "2018-01-11 00:00:00   NaN\n",
       "2018-01-11 01:00:00   NaN\n",
       "2018-01-11 02:00:00   NaN\n",
       "2018-01-11 03:00:00   NaN\n",
       "2018-01-11 04:00:00   NaN\n",
       "2018-01-11 05:00:00   NaN\n",
       "2018-01-11 06:00:00   NaN\n",
       "2018-01-11 07:00:00   NaN\n",
       "2018-01-11 08:00:00   NaN\n",
       "2018-01-11 09:00:00   NaN\n",
       "2018-01-11 10:00:00   NaN\n",
       "2018-01-11 11:00:00   NaN\n",
       "2018-01-11 12:00:00   NaN\n",
       "2018-01-11 13:00:00   NaN\n",
       "2018-01-11 14:00:00   NaN\n",
       "2018-01-11 15:00:00   NaN\n",
       "2018-01-11 16:00:00   NaN\n",
       "2018-01-11 17:00:00   NaN\n",
       "2018-01-11 18:00:00   NaN\n",
       "2018-01-11 19:00:00   NaN\n",
       "2018-01-11 20:00:00   NaN\n",
       "2018-01-11 21:00:00   NaN\n",
       "                       ..\n",
       "2019-12-08 18:00:00   NaN\n",
       "2019-12-08 19:00:00   NaN\n",
       "2019-12-08 20:00:00   NaN\n",
       "2019-12-08 21:00:00   NaN\n",
       "2019-12-08 22:00:00   NaN\n",
       "2019-12-08 23:00:00   NaN\n",
       "2019-12-09 00:00:00   NaN\n",
       "2019-12-09 01:00:00   NaN\n",
       "2019-12-09 02:00:00   NaN\n",
       "2019-12-09 03:00:00   NaN\n",
       "2019-12-09 04:00:00   NaN\n",
       "2019-12-09 05:00:00   NaN\n",
       "2019-12-09 06:00:00   NaN\n",
       "2019-12-09 07:00:00   NaN\n",
       "2019-12-09 08:00:00   NaN\n",
       "2019-12-09 09:00:00   NaN\n",
       "2019-12-09 10:00:00   NaN\n",
       "2019-12-09 11:00:00   NaN\n",
       "2019-12-09 12:00:00   NaN\n",
       "2019-12-09 13:00:00   NaN\n",
       "2019-12-09 14:00:00   NaN\n",
       "2019-12-09 15:00:00   NaN\n",
       "2019-12-09 16:00:00   NaN\n",
       "2019-12-09 17:00:00   NaN\n",
       "2019-12-09 18:00:00   NaN\n",
       "2019-12-09 19:00:00   NaN\n",
       "2019-12-09 20:00:00   NaN\n",
       "2019-12-09 21:00:00   NaN\n",
       "2019-12-09 22:00:00   NaN\n",
       "2019-12-09 23:00:00   NaN\n",
       "Length: 16760, dtype: float64"
      ]
     },
     "execution_count": 184,
     "metadata": {},
     "output_type": "execute_result"
    }
   ],
   "source": [
    "error*100"
   ]
  },
  {
   "cell_type": "code",
   "execution_count": 185,
   "metadata": {},
   "outputs": [],
   "source": [
    "final_dataset['Error']=error"
   ]
  },
  {
   "cell_type": "code",
   "execution_count": 186,
   "metadata": {},
   "outputs": [],
   "source": [
    "final_dataset.to_csv('Linear_Optimization_Regression.csv')"
   ]
  },
  {
   "cell_type": "code",
   "execution_count": 189,
   "metadata": {},
   "outputs": [
    {
     "data": {
      "text/plain": [
       "<matplotlib.collections.PathCollection at 0x2800a884be0>"
      ]
     },
     "execution_count": 189,
     "metadata": {},
     "output_type": "execute_result"
    },
    {
     "data": {
      "image/png": "[encoded data removed]",
      "text/plain": [
       "<Figure size 1080x720 with 1 Axes>"
      ]
     },
     "metadata": {},
     "output_type": "display_data"
    }
   ],
   "source": [
    "plt.scatter(final_dataset['predicted_equation'],final_dataset['FGO Conc Flow Controller PV -  m3/hr'])"
   ]
  },
  {
   "cell_type": "code",
   "execution_count": 193,
   "metadata": {},
   "outputs": [],
   "source": [
    "final_dataset['area']=(final_dataset['FGO Conc Flow Controller PV -  m3/hr']/(final_dataset['velocity_sum']*3.6))"
   ]
  },
  {
   "cell_type": "code",
   "execution_count": 212,
   "metadata": {},
   "outputs": [
    {
     "data": {
      "text/plain": [
       "count    5096.000000\n",
       "mean        0.392199\n",
       "std         0.154687\n",
       "min         0.012138\n",
       "25%         0.286987\n",
       "50%         0.384824\n",
       "75%         0.510413\n",
       "max         0.848383\n",
       "Name: area, dtype: float64"
      ]
     },
     "execution_count": 212,
     "metadata": {},
     "output_type": "execute_result"
    }
   ],
   "source": [
    "final_dataset['area'].describe()"
   ]
  },
  {
   "cell_type": "code",
   "execution_count": 198,
   "metadata": {},
   "outputs": [],
   "source": [
    "final_dataset['y1']=final_dataset['area']*final_dataset['TK1551 VELOCITY TO AIR CTRL PV - m3/hr']*3.6"
   ]
  },
  {
   "cell_type": "code",
   "execution_count": 202,
   "metadata": {},
   "outputs": [],
   "source": [
    "final_dataset['y1']=final_dataset['area']*final_dataset['TK1551 VELOCITY TO AIR CTRL PV - m3/hr']*3.6\n",
    "final_dataset['y2']=final_dataset['area']*final_dataset['TK1552 VELOCITY TO AIR CTRL PV - mm/s']*3.6\n",
    "final_dataset['y3']=final_dataset['area']*final_dataset['TK1553 VELOCITY TO AIR CTRL PV - mm/s']*3.6\n",
    "final_dataset['y4']=final_dataset['area']*final_dataset['TK1554 VELOCITY TO AIR CTRL PV - mm/s']*3.6\n",
    "final_dataset['y5']=final_dataset['area']*final_dataset['TK1555 VELOCITY TO AIR CTRL PV - mm/s']*3.6"
   ]
  },
  {
   "cell_type": "code",
   "execution_count": 203,
   "metadata": {},
   "outputs": [
    {
     "data": {
      "text/plain": [
       "Index(['TK1551 VELOCITY TO AIR CTRL PV - m3/hr',\n",
       "       'TK1552 VELOCITY TO AIR CTRL PV - mm/s',\n",
       "       'TK1553 VELOCITY TO AIR CTRL PV - mm/s',\n",
       "       'TK1554 VELOCITY TO AIR CTRL PV - mm/s',\n",
       "       'TK1555 VELOCITY TO AIR CTRL PV - mm/s',\n",
       "       'FGO Conc Flow Controller PV -  m3/hr', 'predicted_equation', 'Error',\n",
       "       'velocity_sum', 'area', 'y1', 'y2', 'y3', 'y4', 'y5'],\n",
       "      dtype='object')"
      ]
     },
     "execution_count": 203,
     "metadata": {},
     "output_type": "execute_result"
    }
   ],
   "source": [
    "final_dataset.columns"
   ]
  },
  {
   "cell_type": "code",
   "execution_count": 204,
   "metadata": {},
   "outputs": [],
   "source": [
    "final_dataset['sum']=final_dataset['y1']+final_dataset['y2']+final_dataset['y3']+final_dataset['y4']+final_dataset['y5']"
   ]
  },
  {
   "cell_type": "code",
   "execution_count": 205,
   "metadata": {},
   "outputs": [
    {
     "data": {
      "text/plain": [
       "<matplotlib.collections.PathCollection at 0x28008769828>"
      ]
     },
     "execution_count": 205,
     "metadata": {},
     "output_type": "execute_result"
    },
    {
     "data": {
      "image/png": "[encoded data removed]",
      "text/plain": [
       "<Figure size 1080x720 with 1 Axes>"
      ]
     },
     "metadata": {},
     "output_type": "display_data"
    }
   ],
   "source": [
    "plt.scatter(final_dataset['sum'],final_dataset['FGO Conc Flow Controller PV -  m3/hr'])"
   ]
  },
  {
   "cell_type": "code",
   "execution_count": 206,
   "metadata": {},
   "outputs": [
    {
     "data": {
      "text/plain": [
       "<matplotlib.collections.PathCollection at 0x280087c5eb8>"
      ]
     },
     "execution_count": 206,
     "metadata": {},
     "output_type": "execute_result"
    },
    {
     "data": {
      "image/png": "[encoded data removed]",
      "text/plain": [
       "<Figure size 1080x720 with 1 Axes>"
      ]
     },
     "metadata": {},
     "output_type": "display_data"
    }
   ],
   "source": [
    "plt.scatter(final_dataset['y1'],final_dataset['FGO Conc Flow Controller PV -  m3/hr'])"
   ]
  },
  {
   "cell_type": "code",
   "execution_count": 214,
   "metadata": {},
   "outputs": [
    {
     "data": {
      "text/plain": [
       "43.21961119551299"
      ]
     },
     "execution_count": 214,
     "metadata": {},
     "output_type": "execute_result"
    }
   ],
   "source": [
    "(final_dataset['y1'].mean()/final_dataset['FGO Conc Flow Controller PV -  m3/hr'].mean())*100"
   ]
  },
  {
   "cell_type": "code",
   "execution_count": 215,
   "metadata": {},
   "outputs": [
    {
     "data": {
      "text/plain": [
       "18.456178633364434"
      ]
     },
     "execution_count": 215,
     "metadata": {},
     "output_type": "execute_result"
    }
   ],
   "source": [
    "(final_dataset['y2'].mean()/final_dataset['FGO Conc Flow Controller PV -  m3/hr'].mean())*100"
   ]
  },
  {
   "cell_type": "code",
   "execution_count": 216,
   "metadata": {},
   "outputs": [
    {
     "data": {
      "text/plain": [
       "16.225788338394395"
      ]
     },
     "execution_count": 216,
     "metadata": {},
     "output_type": "execute_result"
    }
   ],
   "source": [
    "(final_dataset['y3'].mean()/final_dataset['FGO Conc Flow Controller PV -  m3/hr'].mean())*100"
   ]
  },
  {
   "cell_type": "code",
   "execution_count": 217,
   "metadata": {},
   "outputs": [
    {
     "data": {
      "text/plain": [
       "11.49914335741435"
      ]
     },
     "execution_count": 217,
     "metadata": {},
     "output_type": "execute_result"
    }
   ],
   "source": [
    "(final_dataset['y4'].mean()/final_dataset['FGO Conc Flow Controller PV -  m3/hr'].mean())*100"
   ]
  },
  {
   "cell_type": "code",
   "execution_count": 218,
   "metadata": {},
   "outputs": [
    {
     "data": {
      "text/plain": [
       "11.468410776587149"
      ]
     },
     "execution_count": 218,
     "metadata": {},
     "output_type": "execute_result"
    }
   ],
   "source": [
    "(final_dataset['y5'].mean()/final_dataset['FGO Conc Flow Controller PV -  m3/hr'].mean())*100"
   ]
  },
  {
   "cell_type": "code",
   "execution_count": null,
   "metadata": {},
   "outputs": [],
   "source": []
  },
  {
   "cell_type": "markdown",
   "metadata": {},
   "source": [
    "# Total Optimization"
   ]
  },
  {
   "cell_type": "code",
   "execution_count": 51,
   "metadata": {},
   "outputs": [],
   "source": [
    "total=data[['FGO TK1551 Level Ctr PV - mm', 'FGO TK1552 Level Ctr PV - mm',\n",
    "       'FGO TK1553 Level Ctr PV - mm', 'FGO TK1554 Level Ctr PV - mm',\n",
    "       'FGO TK1555 Level Ctr PV - mm', 'TK1551 Air Blower Flow Loop PV - m3/h',\n",
    "       'TK1552 Air Blower Flow Loop PV - m3/h',\n",
    "       'TK1553 Air Blower Flow Loop PV - m3/h',\n",
    "       'TK1554 Air Blower Flow Loop PV - m3/h',\n",
    "       'TK1555 Air Blower Flow Loop PV - m3/h',\n",
    "       'TK1551 VELOCITY TO AIR CTRL PV - m3/hr',\n",
    "       'TK1552 VELOCITY TO AIR CTRL PV - mm/s',\n",
    "       'TK1553 VELOCITY TO AIR CTRL PV - mm/s',\n",
    "       'TK1554 VELOCITY TO AIR CTRL PV - mm/s',\n",
    "       'TK1555 VELOCITY TO AIR CTRL PV - mm/s',\n",
    "       'TK1552 Froth Bubble Diameter - mm',\n",
    "       'TK1553 Froth Bubble Diameter - mm']]"
   ]
  },
  {
   "cell_type": "code",
   "execution_count": 52,
   "metadata": {},
   "outputs": [
    {
     "data": {
      "text/html": [
       "<table class=\"simpletable\">\n",
       "<caption>OLS Regression Results</caption>\n",
       "<tr>\n",
       "  <th>Dep. Variable:</th>    <td>FGO Conc Flow Controller PV -  m3/hr</td> <th>  R-squared (uncentered):</th>      <td>   0.939</td> \n",
       "</tr>\n",
       "<tr>\n",
       "  <th>Model:</th>                             <td>OLS</td>                 <th>  Adj. R-squared (uncentered):</th> <td>   0.938</td> \n",
       "</tr>\n",
       "<tr>\n",
       "  <th>Method:</th>                       <td>Least Squares</td>            <th>  F-statistic:       </th>          <td>   4138.</td> \n",
       "</tr>\n",
       "<tr>\n",
       "  <th>Date:</th>                       <td>Tue, 21 Jan 2020</td>           <th>  Prob (F-statistic):</th>           <td>  0.00</td>  \n",
       "</tr>\n",
       "<tr>\n",
       "  <th>Time:</th>                           <td>13:58:40</td>               <th>  Log-Likelihood:    </th>          <td> -30855.</td> \n",
       "</tr>\n",
       "<tr>\n",
       "  <th>No. Observations:</th>                <td>  4615</td>                <th>  AIC:               </th>          <td>6.174e+04</td>\n",
       "</tr>\n",
       "<tr>\n",
       "  <th>Df Residuals:</th>                    <td>  4598</td>                <th>  BIC:               </th>          <td>6.185e+04</td>\n",
       "</tr>\n",
       "<tr>\n",
       "  <th>Df Model:</th>                        <td>    17</td>                <th>                     </th>              <td> </td>    \n",
       "</tr>\n",
       "<tr>\n",
       "  <th>Covariance Type:</th>                <td>nonrobust</td>              <th>                     </th>              <td> </td>    \n",
       "</tr>\n",
       "</table>\n",
       "<table class=\"simpletable\">\n",
       "<tr>\n",
       "                     <td></td>                       <th>coef</th>     <th>std err</th>      <th>t</th>      <th>P>|t|</th>  <th>[0.025</th>    <th>0.975]</th>  \n",
       "</tr>\n",
       "<tr>\n",
       "  <th>FGO TK1551 Level Ctr PV - mm</th>           <td>   -0.3083</td> <td>    0.068</td> <td>   -4.562</td> <td> 0.000</td> <td>   -0.441</td> <td>   -0.176</td>\n",
       "</tr>\n",
       "<tr>\n",
       "  <th>FGO TK1552 Level Ctr PV - mm</th>           <td>   -0.2356</td> <td>    0.081</td> <td>   -2.920</td> <td> 0.004</td> <td>   -0.394</td> <td>   -0.077</td>\n",
       "</tr>\n",
       "<tr>\n",
       "  <th>FGO TK1553 Level Ctr PV - mm</th>           <td>    0.6779</td> <td>    0.062</td> <td>   10.983</td> <td> 0.000</td> <td>    0.557</td> <td>    0.799</td>\n",
       "</tr>\n",
       "<tr>\n",
       "  <th>FGO TK1554 Level Ctr PV - mm</th>           <td>   -0.1130</td> <td>    0.061</td> <td>   -1.844</td> <td> 0.065</td> <td>   -0.233</td> <td>    0.007</td>\n",
       "</tr>\n",
       "<tr>\n",
       "  <th>FGO TK1555 Level Ctr PV - mm</th>           <td>   -0.6672</td> <td>    0.056</td> <td>  -11.823</td> <td> 0.000</td> <td>   -0.778</td> <td>   -0.557</td>\n",
       "</tr>\n",
       "<tr>\n",
       "  <th>TK1551 Air Blower Flow Loop PV - m3/h</th>  <td>    0.5395</td> <td>    0.032</td> <td>   16.840</td> <td> 0.000</td> <td>    0.477</td> <td>    0.602</td>\n",
       "</tr>\n",
       "<tr>\n",
       "  <th>TK1552 Air Blower Flow Loop PV - m3/h</th>  <td>   -0.3449</td> <td>    0.028</td> <td>  -12.369</td> <td> 0.000</td> <td>   -0.400</td> <td>   -0.290</td>\n",
       "</tr>\n",
       "<tr>\n",
       "  <th>TK1553 Air Blower Flow Loop PV - m3/h</th>  <td>    0.4458</td> <td>    0.040</td> <td>   11.156</td> <td> 0.000</td> <td>    0.367</td> <td>    0.524</td>\n",
       "</tr>\n",
       "<tr>\n",
       "  <th>TK1554 Air Blower Flow Loop PV - m3/h</th>  <td>   -0.4553</td> <td>    0.032</td> <td>  -14.039</td> <td> 0.000</td> <td>   -0.519</td> <td>   -0.392</td>\n",
       "</tr>\n",
       "<tr>\n",
       "  <th>TK1555 Air Blower Flow Loop PV - m3/h</th>  <td>    0.3107</td> <td>    0.027</td> <td>   11.401</td> <td> 0.000</td> <td>    0.257</td> <td>    0.364</td>\n",
       "</tr>\n",
       "<tr>\n",
       "  <th>TK1551 VELOCITY TO AIR CTRL PV - m3/hr</th> <td>    1.6044</td> <td>    0.140</td> <td>   11.442</td> <td> 0.000</td> <td>    1.330</td> <td>    1.879</td>\n",
       "</tr>\n",
       "<tr>\n",
       "  <th>TK1552 VELOCITY TO AIR CTRL PV - mm/s</th>  <td>    0.6368</td> <td>    0.194</td> <td>    3.279</td> <td> 0.001</td> <td>    0.256</td> <td>    1.018</td>\n",
       "</tr>\n",
       "<tr>\n",
       "  <th>TK1553 VELOCITY TO AIR CTRL PV - mm/s</th>  <td>    1.1760</td> <td>    0.210</td> <td>    5.597</td> <td> 0.000</td> <td>    0.764</td> <td>    1.588</td>\n",
       "</tr>\n",
       "<tr>\n",
       "  <th>TK1554 VELOCITY TO AIR CTRL PV - mm/s</th>  <td>    4.7016</td> <td>    0.248</td> <td>   18.965</td> <td> 0.000</td> <td>    4.216</td> <td>    5.188</td>\n",
       "</tr>\n",
       "<tr>\n",
       "  <th>TK1555 VELOCITY TO AIR CTRL PV - mm/s</th>  <td>    0.6673</td> <td>    0.228</td> <td>    2.926</td> <td> 0.003</td> <td>    0.220</td> <td>    1.114</td>\n",
       "</tr>\n",
       "<tr>\n",
       "  <th>TK1552 Froth Bubble Diameter - mm</th>      <td>   -3.1959</td> <td>    0.794</td> <td>   -4.026</td> <td> 0.000</td> <td>   -4.752</td> <td>   -1.640</td>\n",
       "</tr>\n",
       "<tr>\n",
       "  <th>TK1553 Froth Bubble Diameter - mm</th>      <td>   -7.8354</td> <td>    0.910</td> <td>   -8.611</td> <td> 0.000</td> <td>   -9.619</td> <td>   -6.052</td>\n",
       "</tr>\n",
       "</table>\n",
       "<table class=\"simpletable\">\n",
       "<tr>\n",
       "  <th>Omnibus:</th>       <td>37.942</td> <th>  Durbin-Watson:     </th> <td>   0.445</td>\n",
       "</tr>\n",
       "<tr>\n",
       "  <th>Prob(Omnibus):</th> <td> 0.000</td> <th>  Jarque-Bera (JB):  </th> <td>  48.942</td>\n",
       "</tr>\n",
       "<tr>\n",
       "  <th>Skew:</th>          <td> 0.127</td> <th>  Prob(JB):          </th> <td>2.36e-11</td>\n",
       "</tr>\n",
       "<tr>\n",
       "  <th>Kurtosis:</th>      <td> 3.436</td> <th>  Cond. No.          </th> <td>    625.</td>\n",
       "</tr>\n",
       "</table><br/><br/>Warnings:<br/>[1] Standard Errors assume that the covariance matrix of the errors is correctly specified."
      ],
      "text/plain": [
       "<class 'statsmodels.iolib.summary.Summary'>\n",
       "\"\"\"\n",
       "                                          OLS Regression Results                                         \n",
       "=========================================================================================================\n",
       "Dep. Variable:     FGO Conc Flow Controller PV -  m3/hr   R-squared (uncentered):                   0.939\n",
       "Model:                                              OLS   Adj. R-squared (uncentered):              0.938\n",
       "Method:                                   Least Squares   F-statistic:                              4138.\n",
       "Date:                                  Tue, 21 Jan 2020   Prob (F-statistic):                        0.00\n",
       "Time:                                          13:58:40   Log-Likelihood:                         -30855.\n",
       "No. Observations:                                  4615   AIC:                                  6.174e+04\n",
       "Df Residuals:                                      4598   BIC:                                  6.185e+04\n",
       "Df Model:                                            17                                                  \n",
       "Covariance Type:                              nonrobust                                                  \n",
       "==========================================================================================================\n",
       "                                             coef    std err          t      P>|t|      [0.025      0.975]\n",
       "----------------------------------------------------------------------------------------------------------\n",
       "FGO TK1551 Level Ctr PV - mm              -0.3083      0.068     -4.562      0.000      -0.441      -0.176\n",
       "FGO TK1552 Level Ctr PV - mm              -0.2356      0.081     -2.920      0.004      -0.394      -0.077\n",
       "FGO TK1553 Level Ctr PV - mm               0.6779      0.062     10.983      0.000       0.557       0.799\n",
       "FGO TK1554 Level Ctr PV - mm              -0.1130      0.061     -1.844      0.065      -0.233       0.007\n",
       "FGO TK1555 Level Ctr PV - mm              -0.6672      0.056    -11.823      0.000      -0.778      -0.557\n",
       "TK1551 Air Blower Flow Loop PV - m3/h      0.5395      0.032     16.840      0.000       0.477       0.602\n",
       "TK1552 Air Blower Flow Loop PV - m3/h     -0.3449      0.028    -12.369      0.000      -0.400      -0.290\n",
       "TK1553 Air Blower Flow Loop PV - m3/h      0.4458      0.040     11.156      0.000       0.367       0.524\n",
       "TK1554 Air Blower Flow Loop PV - m3/h     -0.4553      0.032    -14.039      0.000      -0.519      -0.392\n",
       "TK1555 Air Blower Flow Loop PV - m3/h      0.3107      0.027     11.401      0.000       0.257       0.364\n",
       "TK1551 VELOCITY TO AIR CTRL PV - m3/hr     1.6044      0.140     11.442      0.000       1.330       1.879\n",
       "TK1552 VELOCITY TO AIR CTRL PV - mm/s      0.6368      0.194      3.279      0.001       0.256       1.018\n",
       "TK1553 VELOCITY TO AIR CTRL PV - mm/s      1.1760      0.210      5.597      0.000       0.764       1.588\n",
       "TK1554 VELOCITY TO AIR CTRL PV - mm/s      4.7016      0.248     18.965      0.000       4.216       5.188\n",
       "TK1555 VELOCITY TO AIR CTRL PV - mm/s      0.6673      0.228      2.926      0.003       0.220       1.114\n",
       "TK1552 Froth Bubble Diameter - mm         -3.1959      0.794     -4.026      0.000      -4.752      -1.640\n",
       "TK1553 Froth Bubble Diameter - mm         -7.8354      0.910     -8.611      0.000      -9.619      -6.052\n",
       "==============================================================================\n",
       "Omnibus:                       37.942   Durbin-Watson:                   0.445\n",
       "Prob(Omnibus):                  0.000   Jarque-Bera (JB):               48.942\n",
       "Skew:                           0.127   Prob(JB):                     2.36e-11\n",
       "Kurtosis:                       3.436   Cond. No.                         625.\n",
       "==============================================================================\n",
       "\n",
       "Warnings:\n",
       "[1] Standard Errors assume that the covariance matrix of the errors is correctly specified.\n",
       "\"\"\""
      ]
     },
     "execution_count": 52,
     "metadata": {},
     "output_type": "execute_result"
    }
   ],
   "source": [
    "result11 = sm.OLS(y,total,missing='drop').fit()\n",
    "result11.summary()"
   ]
  },
  {
   "cell_type": "code",
   "execution_count": 53,
   "metadata": {},
   "outputs": [],
   "source": [
    "total_1=data[['FGO TK1551 Level Ctr PV - mm', 'FGO TK1552 Level Ctr PV - mm',\n",
    "       'FGO TK1553 Level Ctr PV - mm',\n",
    "       'FGO TK1555 Level Ctr PV - mm', 'TK1551 Air Blower Flow Loop PV - m3/h',\n",
    "       'TK1552 Air Blower Flow Loop PV - m3/h',\n",
    "       'TK1553 Air Blower Flow Loop PV - m3/h',\n",
    "       'TK1554 Air Blower Flow Loop PV - m3/h',\n",
    "       'TK1555 Air Blower Flow Loop PV - m3/h',\n",
    "       'TK1551 VELOCITY TO AIR CTRL PV - m3/hr',\n",
    "       'TK1552 VELOCITY TO AIR CTRL PV - mm/s',\n",
    "       'TK1553 VELOCITY TO AIR CTRL PV - mm/s',\n",
    "       'TK1554 VELOCITY TO AIR CTRL PV - mm/s',\n",
    "       'TK1555 VELOCITY TO AIR CTRL PV - mm/s',\n",
    "       'TK1552 Froth Bubble Diameter - mm',\n",
    "       'TK1553 Froth Bubble Diameter - mm']]"
   ]
  },
  {
   "cell_type": "code",
   "execution_count": 54,
   "metadata": {},
   "outputs": [
    {
     "data": {
      "text/html": [
       "<table class=\"simpletable\">\n",
       "<caption>OLS Regression Results</caption>\n",
       "<tr>\n",
       "  <th>Dep. Variable:</th>    <td>FGO Conc Flow Controller PV -  m3/hr</td> <th>  R-squared (uncentered):</th>      <td>   0.939</td> \n",
       "</tr>\n",
       "<tr>\n",
       "  <th>Model:</th>                             <td>OLS</td>                 <th>  Adj. R-squared (uncentered):</th> <td>   0.938</td> \n",
       "</tr>\n",
       "<tr>\n",
       "  <th>Method:</th>                       <td>Least Squares</td>            <th>  F-statistic:       </th>          <td>   4394.</td> \n",
       "</tr>\n",
       "<tr>\n",
       "  <th>Date:</th>                       <td>Tue, 21 Jan 2020</td>           <th>  Prob (F-statistic):</th>           <td>  0.00</td>  \n",
       "</tr>\n",
       "<tr>\n",
       "  <th>Time:</th>                           <td>13:59:40</td>               <th>  Log-Likelihood:    </th>          <td> -30857.</td> \n",
       "</tr>\n",
       "<tr>\n",
       "  <th>No. Observations:</th>                <td>  4615</td>                <th>  AIC:               </th>          <td>6.175e+04</td>\n",
       "</tr>\n",
       "<tr>\n",
       "  <th>Df Residuals:</th>                    <td>  4599</td>                <th>  BIC:               </th>          <td>6.185e+04</td>\n",
       "</tr>\n",
       "<tr>\n",
       "  <th>Df Model:</th>                        <td>    16</td>                <th>                     </th>              <td> </td>    \n",
       "</tr>\n",
       "<tr>\n",
       "  <th>Covariance Type:</th>                <td>nonrobust</td>              <th>                     </th>              <td> </td>    \n",
       "</tr>\n",
       "</table>\n",
       "<table class=\"simpletable\">\n",
       "<tr>\n",
       "                     <td></td>                       <th>coef</th>     <th>std err</th>      <th>t</th>      <th>P>|t|</th>  <th>[0.025</th>    <th>0.975]</th>  \n",
       "</tr>\n",
       "<tr>\n",
       "  <th>FGO TK1551 Level Ctr PV - mm</th>           <td>   -0.3169</td> <td>    0.067</td> <td>   -4.700</td> <td> 0.000</td> <td>   -0.449</td> <td>   -0.185</td>\n",
       "</tr>\n",
       "<tr>\n",
       "  <th>FGO TK1552 Level Ctr PV - mm</th>           <td>   -0.2762</td> <td>    0.078</td> <td>   -3.558</td> <td> 0.000</td> <td>   -0.428</td> <td>   -0.124</td>\n",
       "</tr>\n",
       "<tr>\n",
       "  <th>FGO TK1553 Level Ctr PV - mm</th>           <td>    0.6622</td> <td>    0.061</td> <td>   10.829</td> <td> 0.000</td> <td>    0.542</td> <td>    0.782</td>\n",
       "</tr>\n",
       "<tr>\n",
       "  <th>FGO TK1555 Level Ctr PV - mm</th>           <td>   -0.6969</td> <td>    0.054</td> <td>  -12.885</td> <td> 0.000</td> <td>   -0.803</td> <td>   -0.591</td>\n",
       "</tr>\n",
       "<tr>\n",
       "  <th>TK1551 Air Blower Flow Loop PV - m3/h</th>  <td>    0.5416</td> <td>    0.032</td> <td>   16.910</td> <td> 0.000</td> <td>    0.479</td> <td>    0.604</td>\n",
       "</tr>\n",
       "<tr>\n",
       "  <th>TK1552 Air Blower Flow Loop PV - m3/h</th>  <td>   -0.3518</td> <td>    0.028</td> <td>  -12.726</td> <td> 0.000</td> <td>   -0.406</td> <td>   -0.298</td>\n",
       "</tr>\n",
       "<tr>\n",
       "  <th>TK1553 Air Blower Flow Loop PV - m3/h</th>  <td>    0.4488</td> <td>    0.040</td> <td>   11.236</td> <td> 0.000</td> <td>    0.370</td> <td>    0.527</td>\n",
       "</tr>\n",
       "<tr>\n",
       "  <th>TK1554 Air Blower Flow Loop PV - m3/h</th>  <td>   -0.4534</td> <td>    0.032</td> <td>  -13.985</td> <td> 0.000</td> <td>   -0.517</td> <td>   -0.390</td>\n",
       "</tr>\n",
       "<tr>\n",
       "  <th>TK1555 Air Blower Flow Loop PV - m3/h</th>  <td>    0.3076</td> <td>    0.027</td> <td>   11.304</td> <td> 0.000</td> <td>    0.254</td> <td>    0.361</td>\n",
       "</tr>\n",
       "<tr>\n",
       "  <th>TK1551 VELOCITY TO AIR CTRL PV - m3/hr</th> <td>    1.6149</td> <td>    0.140</td> <td>   11.524</td> <td> 0.000</td> <td>    1.340</td> <td>    1.890</td>\n",
       "</tr>\n",
       "<tr>\n",
       "  <th>TK1552 VELOCITY TO AIR CTRL PV - mm/s</th>  <td>    0.6382</td> <td>    0.194</td> <td>    3.285</td> <td> 0.001</td> <td>    0.257</td> <td>    1.019</td>\n",
       "</tr>\n",
       "<tr>\n",
       "  <th>TK1553 VELOCITY TO AIR CTRL PV - mm/s</th>  <td>    1.1507</td> <td>    0.210</td> <td>    5.487</td> <td> 0.000</td> <td>    0.740</td> <td>    1.562</td>\n",
       "</tr>\n",
       "<tr>\n",
       "  <th>TK1554 VELOCITY TO AIR CTRL PV - mm/s</th>  <td>    4.7394</td> <td>    0.247</td> <td>   19.178</td> <td> 0.000</td> <td>    4.255</td> <td>    5.224</td>\n",
       "</tr>\n",
       "<tr>\n",
       "  <th>TK1555 VELOCITY TO AIR CTRL PV - mm/s</th>  <td>    0.6309</td> <td>    0.227</td> <td>    2.776</td> <td> 0.006</td> <td>    0.185</td> <td>    1.076</td>\n",
       "</tr>\n",
       "<tr>\n",
       "  <th>TK1552 Froth Bubble Diameter - mm</th>      <td>   -3.3455</td> <td>    0.790</td> <td>   -4.235</td> <td> 0.000</td> <td>   -4.894</td> <td>   -1.797</td>\n",
       "</tr>\n",
       "<tr>\n",
       "  <th>TK1553 Froth Bubble Diameter - mm</th>      <td>   -7.8205</td> <td>    0.910</td> <td>   -8.593</td> <td> 0.000</td> <td>   -9.605</td> <td>   -6.036</td>\n",
       "</tr>\n",
       "</table>\n",
       "<table class=\"simpletable\">\n",
       "<tr>\n",
       "  <th>Omnibus:</th>       <td>39.131</td> <th>  Durbin-Watson:     </th> <td>   0.445</td>\n",
       "</tr>\n",
       "<tr>\n",
       "  <th>Prob(Omnibus):</th> <td> 0.000</td> <th>  Jarque-Bera (JB):  </th> <td>  50.213</td>\n",
       "</tr>\n",
       "<tr>\n",
       "  <th>Skew:</th>          <td> 0.132</td> <th>  Prob(JB):          </th> <td>1.25e-11</td>\n",
       "</tr>\n",
       "<tr>\n",
       "  <th>Kurtosis:</th>      <td> 3.437</td> <th>  Cond. No.          </th> <td>    619.</td>\n",
       "</tr>\n",
       "</table><br/><br/>Warnings:<br/>[1] Standard Errors assume that the covariance matrix of the errors is correctly specified."
      ],
      "text/plain": [
       "<class 'statsmodels.iolib.summary.Summary'>\n",
       "\"\"\"\n",
       "                                          OLS Regression Results                                         \n",
       "=========================================================================================================\n",
       "Dep. Variable:     FGO Conc Flow Controller PV -  m3/hr   R-squared (uncentered):                   0.939\n",
       "Model:                                              OLS   Adj. R-squared (uncentered):              0.938\n",
       "Method:                                   Least Squares   F-statistic:                              4394.\n",
       "Date:                                  Tue, 21 Jan 2020   Prob (F-statistic):                        0.00\n",
       "Time:                                          13:59:40   Log-Likelihood:                         -30857.\n",
       "No. Observations:                                  4615   AIC:                                  6.175e+04\n",
       "Df Residuals:                                      4599   BIC:                                  6.185e+04\n",
       "Df Model:                                            16                                                  \n",
       "Covariance Type:                              nonrobust                                                  \n",
       "==========================================================================================================\n",
       "                                             coef    std err          t      P>|t|      [0.025      0.975]\n",
       "----------------------------------------------------------------------------------------------------------\n",
       "FGO TK1551 Level Ctr PV - mm              -0.3169      0.067     -4.700      0.000      -0.449      -0.185\n",
       "FGO TK1552 Level Ctr PV - mm              -0.2762      0.078     -3.558      0.000      -0.428      -0.124\n",
       "FGO TK1553 Level Ctr PV - mm               0.6622      0.061     10.829      0.000       0.542       0.782\n",
       "FGO TK1555 Level Ctr PV - mm              -0.6969      0.054    -12.885      0.000      -0.803      -0.591\n",
       "TK1551 Air Blower Flow Loop PV - m3/h      0.5416      0.032     16.910      0.000       0.479       0.604\n",
       "TK1552 Air Blower Flow Loop PV - m3/h     -0.3518      0.028    -12.726      0.000      -0.406      -0.298\n",
       "TK1553 Air Blower Flow Loop PV - m3/h      0.4488      0.040     11.236      0.000       0.370       0.527\n",
       "TK1554 Air Blower Flow Loop PV - m3/h     -0.4534      0.032    -13.985      0.000      -0.517      -0.390\n",
       "TK1555 Air Blower Flow Loop PV - m3/h      0.3076      0.027     11.304      0.000       0.254       0.361\n",
       "TK1551 VELOCITY TO AIR CTRL PV - m3/hr     1.6149      0.140     11.524      0.000       1.340       1.890\n",
       "TK1552 VELOCITY TO AIR CTRL PV - mm/s      0.6382      0.194      3.285      0.001       0.257       1.019\n",
       "TK1553 VELOCITY TO AIR CTRL PV - mm/s      1.1507      0.210      5.487      0.000       0.740       1.562\n",
       "TK1554 VELOCITY TO AIR CTRL PV - mm/s      4.7394      0.247     19.178      0.000       4.255       5.224\n",
       "TK1555 VELOCITY TO AIR CTRL PV - mm/s      0.6309      0.227      2.776      0.006       0.185       1.076\n",
       "TK1552 Froth Bubble Diameter - mm         -3.3455      0.790     -4.235      0.000      -4.894      -1.797\n",
       "TK1553 Froth Bubble Diameter - mm         -7.8205      0.910     -8.593      0.000      -9.605      -6.036\n",
       "==============================================================================\n",
       "Omnibus:                       39.131   Durbin-Watson:                   0.445\n",
       "Prob(Omnibus):                  0.000   Jarque-Bera (JB):               50.213\n",
       "Skew:                           0.132   Prob(JB):                     1.25e-11\n",
       "Kurtosis:                       3.437   Cond. No.                         619.\n",
       "==============================================================================\n",
       "\n",
       "Warnings:\n",
       "[1] Standard Errors assume that the covariance matrix of the errors is correctly specified.\n",
       "\"\"\""
      ]
     },
     "execution_count": 54,
     "metadata": {},
     "output_type": "execute_result"
    }
   ],
   "source": [
    "result12 = sm.OLS(y,total_1,missing='drop').fit()\n",
    "result12.summary()"
   ]
  },
  {
   "cell_type": "markdown",
   "metadata": {},
   "source": [
    "# Categorisation"
   ]
  },
  {
   "cell_type": "markdown",
   "metadata": {},
   "source": [
    "# Level Indicator"
   ]
  },
  {
   "cell_type": "code",
   "execution_count": 55,
   "metadata": {},
   "outputs": [],
   "source": [
    "lic=data[['FGO TK1551 Level Ctr PV - mm', 'FGO TK1552 Level Ctr PV - mm',\n",
    "       'FGO TK1553 Level Ctr PV - mm',\n",
    "       'FGO TK1555 Level Ctr PV - mm']]"
   ]
  },
  {
   "cell_type": "code",
   "execution_count": 57,
   "metadata": {},
   "outputs": [
    {
     "data": {
      "text/html": [
       "<table class=\"simpletable\">\n",
       "<caption>OLS Regression Results</caption>\n",
       "<tr>\n",
       "  <th>Dep. Variable:</th>    <td>FGO Conc Flow Controller PV -  m3/hr</td> <th>  R-squared (uncentered):</th>      <td>   0.810</td> \n",
       "</tr>\n",
       "<tr>\n",
       "  <th>Model:</th>                             <td>OLS</td>                 <th>  Adj. R-squared (uncentered):</th> <td>   0.810</td> \n",
       "</tr>\n",
       "<tr>\n",
       "  <th>Method:</th>                       <td>Least Squares</td>            <th>  F-statistic:       </th>          <td>   7287.</td> \n",
       "</tr>\n",
       "<tr>\n",
       "  <th>Date:</th>                       <td>Tue, 21 Jan 2020</td>           <th>  Prob (F-statistic):</th>           <td>  0.00</td>  \n",
       "</tr>\n",
       "<tr>\n",
       "  <th>Time:</th>                           <td>14:11:21</td>               <th>  Log-Likelihood:    </th>          <td> -49280.</td> \n",
       "</tr>\n",
       "<tr>\n",
       "  <th>No. Observations:</th>                <td>  6827</td>                <th>  AIC:               </th>          <td>9.857e+04</td>\n",
       "</tr>\n",
       "<tr>\n",
       "  <th>Df Residuals:</th>                    <td>  6823</td>                <th>  BIC:               </th>          <td>9.860e+04</td>\n",
       "</tr>\n",
       "<tr>\n",
       "  <th>Df Model:</th>                        <td>     4</td>                <th>                     </th>              <td> </td>    \n",
       "</tr>\n",
       "<tr>\n",
       "  <th>Covariance Type:</th>                <td>nonrobust</td>              <th>                     </th>              <td> </td>    \n",
       "</tr>\n",
       "</table>\n",
       "<table class=\"simpletable\">\n",
       "<tr>\n",
       "                <td></td>                  <th>coef</th>     <th>std err</th>      <th>t</th>      <th>P>|t|</th>  <th>[0.025</th>    <th>0.975]</th>  \n",
       "</tr>\n",
       "<tr>\n",
       "  <th>FGO TK1551 Level Ctr PV - mm</th> <td>    0.0149</td> <td>    0.073</td> <td>    0.205</td> <td> 0.838</td> <td>   -0.127</td> <td>    0.157</td>\n",
       "</tr>\n",
       "<tr>\n",
       "  <th>FGO TK1552 Level Ctr PV - mm</th> <td>    2.8539</td> <td>    0.084</td> <td>   33.879</td> <td> 0.000</td> <td>    2.689</td> <td>    3.019</td>\n",
       "</tr>\n",
       "<tr>\n",
       "  <th>FGO TK1553 Level Ctr PV - mm</th> <td>    0.7227</td> <td>    0.086</td> <td>    8.431</td> <td> 0.000</td> <td>    0.555</td> <td>    0.891</td>\n",
       "</tr>\n",
       "<tr>\n",
       "  <th>FGO TK1555 Level Ctr PV - mm</th> <td>   -1.3797</td> <td>    0.070</td> <td>  -19.691</td> <td> 0.000</td> <td>   -1.517</td> <td>   -1.242</td>\n",
       "</tr>\n",
       "</table>\n",
       "<table class=\"simpletable\">\n",
       "<tr>\n",
       "  <th>Omnibus:</th>       <td>160.421</td> <th>  Durbin-Watson:     </th> <td>   0.301</td>\n",
       "</tr>\n",
       "<tr>\n",
       "  <th>Prob(Omnibus):</th> <td> 0.000</td>  <th>  Jarque-Bera (JB):  </th> <td> 104.140</td>\n",
       "</tr>\n",
       "<tr>\n",
       "  <th>Skew:</th>          <td> 0.174</td>  <th>  Prob(JB):          </th> <td>2.43e-23</td>\n",
       "</tr>\n",
       "<tr>\n",
       "  <th>Kurtosis:</th>      <td> 2.505</td>  <th>  Cond. No.          </th> <td>    12.1</td>\n",
       "</tr>\n",
       "</table><br/><br/>Warnings:<br/>[1] Standard Errors assume that the covariance matrix of the errors is correctly specified."
      ],
      "text/plain": [
       "<class 'statsmodels.iolib.summary.Summary'>\n",
       "\"\"\"\n",
       "                                          OLS Regression Results                                         \n",
       "=========================================================================================================\n",
       "Dep. Variable:     FGO Conc Flow Controller PV -  m3/hr   R-squared (uncentered):                   0.810\n",
       "Model:                                              OLS   Adj. R-squared (uncentered):              0.810\n",
       "Method:                                   Least Squares   F-statistic:                              7287.\n",
       "Date:                                  Tue, 21 Jan 2020   Prob (F-statistic):                        0.00\n",
       "Time:                                          14:11:21   Log-Likelihood:                         -49280.\n",
       "No. Observations:                                  6827   AIC:                                  9.857e+04\n",
       "Df Residuals:                                      6823   BIC:                                  9.860e+04\n",
       "Df Model:                                             4                                                  \n",
       "Covariance Type:                              nonrobust                                                  \n",
       "================================================================================================\n",
       "                                   coef    std err          t      P>|t|      [0.025      0.975]\n",
       "------------------------------------------------------------------------------------------------\n",
       "FGO TK1551 Level Ctr PV - mm     0.0149      0.073      0.205      0.838      -0.127       0.157\n",
       "FGO TK1552 Level Ctr PV - mm     2.8539      0.084     33.879      0.000       2.689       3.019\n",
       "FGO TK1553 Level Ctr PV - mm     0.7227      0.086      8.431      0.000       0.555       0.891\n",
       "FGO TK1555 Level Ctr PV - mm    -1.3797      0.070    -19.691      0.000      -1.517      -1.242\n",
       "==============================================================================\n",
       "Omnibus:                      160.421   Durbin-Watson:                   0.301\n",
       "Prob(Omnibus):                  0.000   Jarque-Bera (JB):              104.140\n",
       "Skew:                           0.174   Prob(JB):                     2.43e-23\n",
       "Kurtosis:                       2.505   Cond. No.                         12.1\n",
       "==============================================================================\n",
       "\n",
       "Warnings:\n",
       "[1] Standard Errors assume that the covariance matrix of the errors is correctly specified.\n",
       "\"\"\""
      ]
     },
     "execution_count": 57,
     "metadata": {},
     "output_type": "execute_result"
    }
   ],
   "source": [
    "result13 = sm.OLS(y,lic,missing='drop').fit()\n",
    "result13.summary()"
   ]
  },
  {
   "cell_type": "code",
   "execution_count": 58,
   "metadata": {},
   "outputs": [],
   "source": [
    "lic_1=data[['FGO TK1552 Level Ctr PV - mm',\n",
    "       'FGO TK1553 Level Ctr PV - mm',\n",
    "       'FGO TK1555 Level Ctr PV - mm']]"
   ]
  },
  {
   "cell_type": "code",
   "execution_count": 59,
   "metadata": {},
   "outputs": [
    {
     "data": {
      "text/html": [
       "<table class=\"simpletable\">\n",
       "<caption>OLS Regression Results</caption>\n",
       "<tr>\n",
       "  <th>Dep. Variable:</th>    <td>FGO Conc Flow Controller PV -  m3/hr</td> <th>  R-squared (uncentered):</th>      <td>   0.810</td> \n",
       "</tr>\n",
       "<tr>\n",
       "  <th>Model:</th>                             <td>OLS</td>                 <th>  Adj. R-squared (uncentered):</th> <td>   0.810</td> \n",
       "</tr>\n",
       "<tr>\n",
       "  <th>Method:</th>                       <td>Least Squares</td>            <th>  F-statistic:       </th>          <td>   9718.</td> \n",
       "</tr>\n",
       "<tr>\n",
       "  <th>Date:</th>                       <td>Tue, 21 Jan 2020</td>           <th>  Prob (F-statistic):</th>           <td>  0.00</td>  \n",
       "</tr>\n",
       "<tr>\n",
       "  <th>Time:</th>                           <td>14:12:03</td>               <th>  Log-Likelihood:    </th>          <td> -49280.</td> \n",
       "</tr>\n",
       "<tr>\n",
       "  <th>No. Observations:</th>                <td>  6827</td>                <th>  AIC:               </th>          <td>9.857e+04</td>\n",
       "</tr>\n",
       "<tr>\n",
       "  <th>Df Residuals:</th>                    <td>  6824</td>                <th>  BIC:               </th>          <td>9.859e+04</td>\n",
       "</tr>\n",
       "<tr>\n",
       "  <th>Df Model:</th>                        <td>     3</td>                <th>                     </th>              <td> </td>    \n",
       "</tr>\n",
       "<tr>\n",
       "  <th>Covariance Type:</th>                <td>nonrobust</td>              <th>                     </th>              <td> </td>    \n",
       "</tr>\n",
       "</table>\n",
       "<table class=\"simpletable\">\n",
       "<tr>\n",
       "                <td></td>                  <th>coef</th>     <th>std err</th>      <th>t</th>      <th>P>|t|</th>  <th>[0.025</th>    <th>0.975]</th>  \n",
       "</tr>\n",
       "<tr>\n",
       "  <th>FGO TK1552 Level Ctr PV - mm</th> <td>    2.8554</td> <td>    0.084</td> <td>   34.012</td> <td> 0.000</td> <td>    2.691</td> <td>    3.020</td>\n",
       "</tr>\n",
       "<tr>\n",
       "  <th>FGO TK1553 Level Ctr PV - mm</th> <td>    0.7253</td> <td>    0.085</td> <td>    8.561</td> <td> 0.000</td> <td>    0.559</td> <td>    0.891</td>\n",
       "</tr>\n",
       "<tr>\n",
       "  <th>FGO TK1555 Level Ctr PV - mm</th> <td>   -1.3726</td> <td>    0.061</td> <td>  -22.517</td> <td> 0.000</td> <td>   -1.492</td> <td>   -1.253</td>\n",
       "</tr>\n",
       "</table>\n",
       "<table class=\"simpletable\">\n",
       "<tr>\n",
       "  <th>Omnibus:</th>       <td>163.391</td> <th>  Durbin-Watson:     </th> <td>   0.301</td>\n",
       "</tr>\n",
       "<tr>\n",
       "  <th>Prob(Omnibus):</th> <td> 0.000</td>  <th>  Jarque-Bera (JB):  </th> <td> 105.692</td>\n",
       "</tr>\n",
       "<tr>\n",
       "  <th>Skew:</th>          <td> 0.175</td>  <th>  Prob(JB):          </th> <td>1.12e-23</td>\n",
       "</tr>\n",
       "<tr>\n",
       "  <th>Kurtosis:</th>      <td> 2.502</td>  <th>  Cond. No.          </th> <td>    11.2</td>\n",
       "</tr>\n",
       "</table><br/><br/>Warnings:<br/>[1] Standard Errors assume that the covariance matrix of the errors is correctly specified."
      ],
      "text/plain": [
       "<class 'statsmodels.iolib.summary.Summary'>\n",
       "\"\"\"\n",
       "                                          OLS Regression Results                                         \n",
       "=========================================================================================================\n",
       "Dep. Variable:     FGO Conc Flow Controller PV -  m3/hr   R-squared (uncentered):                   0.810\n",
       "Model:                                              OLS   Adj. R-squared (uncentered):              0.810\n",
       "Method:                                   Least Squares   F-statistic:                              9718.\n",
       "Date:                                  Tue, 21 Jan 2020   Prob (F-statistic):                        0.00\n",
       "Time:                                          14:12:03   Log-Likelihood:                         -49280.\n",
       "No. Observations:                                  6827   AIC:                                  9.857e+04\n",
       "Df Residuals:                                      6824   BIC:                                  9.859e+04\n",
       "Df Model:                                             3                                                  \n",
       "Covariance Type:                              nonrobust                                                  \n",
       "================================================================================================\n",
       "                                   coef    std err          t      P>|t|      [0.025      0.975]\n",
       "------------------------------------------------------------------------------------------------\n",
       "FGO TK1552 Level Ctr PV - mm     2.8554      0.084     34.012      0.000       2.691       3.020\n",
       "FGO TK1553 Level Ctr PV - mm     0.7253      0.085      8.561      0.000       0.559       0.891\n",
       "FGO TK1555 Level Ctr PV - mm    -1.3726      0.061    -22.517      0.000      -1.492      -1.253\n",
       "==============================================================================\n",
       "Omnibus:                      163.391   Durbin-Watson:                   0.301\n",
       "Prob(Omnibus):                  0.000   Jarque-Bera (JB):              105.692\n",
       "Skew:                           0.175   Prob(JB):                     1.12e-23\n",
       "Kurtosis:                       2.502   Cond. No.                         11.2\n",
       "==============================================================================\n",
       "\n",
       "Warnings:\n",
       "[1] Standard Errors assume that the covariance matrix of the errors is correctly specified.\n",
       "\"\"\""
      ]
     },
     "execution_count": 59,
     "metadata": {},
     "output_type": "execute_result"
    }
   ],
   "source": [
    "result14 = sm.OLS(y,lic_1,missing='drop').fit()\n",
    "result14.summary()"
   ]
  },
  {
   "cell_type": "markdown",
   "metadata": {},
   "source": [
    "# Air Blower"
   ]
  },
  {
   "cell_type": "code",
   "execution_count": 60,
   "metadata": {},
   "outputs": [],
   "source": [
    "aic=data[['TK1551 Air Blower Flow Loop PV - m3/h',\n",
    "       'TK1552 Air Blower Flow Loop PV - m3/h',\n",
    "       'TK1553 Air Blower Flow Loop PV - m3/h',\n",
    "       'TK1554 Air Blower Flow Loop PV - m3/h',\n",
    "       'TK1555 Air Blower Flow Loop PV - m3/h']]"
   ]
  },
  {
   "cell_type": "code",
   "execution_count": 61,
   "metadata": {},
   "outputs": [
    {
     "data": {
      "text/html": [
       "<table class=\"simpletable\">\n",
       "<caption>OLS Regression Results</caption>\n",
       "<tr>\n",
       "  <th>Dep. Variable:</th>    <td>FGO Conc Flow Controller PV -  m3/hr</td> <th>  R-squared (uncentered):</th>      <td>   0.882</td> \n",
       "</tr>\n",
       "<tr>\n",
       "  <th>Model:</th>                             <td>OLS</td>                 <th>  Adj. R-squared (uncentered):</th> <td>   0.882</td> \n",
       "</tr>\n",
       "<tr>\n",
       "  <th>Method:</th>                       <td>Least Squares</td>            <th>  F-statistic:       </th>          <td>1.013e+04</td>\n",
       "</tr>\n",
       "<tr>\n",
       "  <th>Date:</th>                       <td>Tue, 21 Jan 2020</td>           <th>  Prob (F-statistic):</th>           <td>  0.00</td>  \n",
       "</tr>\n",
       "<tr>\n",
       "  <th>Time:</th>                           <td>14:13:30</td>               <th>  Log-Likelihood:    </th>          <td> -47169.</td> \n",
       "</tr>\n",
       "<tr>\n",
       "  <th>No. Observations:</th>                <td>  6755</td>                <th>  AIC:               </th>          <td>9.435e+04</td>\n",
       "</tr>\n",
       "<tr>\n",
       "  <th>Df Residuals:</th>                    <td>  6750</td>                <th>  BIC:               </th>          <td>9.438e+04</td>\n",
       "</tr>\n",
       "<tr>\n",
       "  <th>Df Model:</th>                        <td>     5</td>                <th>                     </th>              <td> </td>    \n",
       "</tr>\n",
       "<tr>\n",
       "  <th>Covariance Type:</th>                <td>nonrobust</td>              <th>                     </th>              <td> </td>    \n",
       "</tr>\n",
       "</table>\n",
       "<table class=\"simpletable\">\n",
       "<tr>\n",
       "                    <td></td>                       <th>coef</th>     <th>std err</th>      <th>t</th>      <th>P>|t|</th>  <th>[0.025</th>    <th>0.975]</th>  \n",
       "</tr>\n",
       "<tr>\n",
       "  <th>TK1551 Air Blower Flow Loop PV - m3/h</th> <td>    0.5708</td> <td>    0.033</td> <td>   17.312</td> <td> 0.000</td> <td>    0.506</td> <td>    0.635</td>\n",
       "</tr>\n",
       "<tr>\n",
       "  <th>TK1552 Air Blower Flow Loop PV - m3/h</th> <td>   -0.0099</td> <td>    0.026</td> <td>   -0.379</td> <td> 0.705</td> <td>   -0.061</td> <td>    0.041</td>\n",
       "</tr>\n",
       "<tr>\n",
       "  <th>TK1553 Air Blower Flow Loop PV - m3/h</th> <td>    0.5539</td> <td>    0.037</td> <td>   14.953</td> <td> 0.000</td> <td>    0.481</td> <td>    0.627</td>\n",
       "</tr>\n",
       "<tr>\n",
       "  <th>TK1554 Air Blower Flow Loop PV - m3/h</th> <td>   -0.4884</td> <td>    0.034</td> <td>  -14.176</td> <td> 0.000</td> <td>   -0.556</td> <td>   -0.421</td>\n",
       "</tr>\n",
       "<tr>\n",
       "  <th>TK1555 Air Blower Flow Loop PV - m3/h</th> <td>    0.3515</td> <td>    0.029</td> <td>   12.287</td> <td> 0.000</td> <td>    0.295</td> <td>    0.408</td>\n",
       "</tr>\n",
       "</table>\n",
       "<table class=\"simpletable\">\n",
       "<tr>\n",
       "  <th>Omnibus:</th>       <td>68.667</td> <th>  Durbin-Watson:     </th> <td>   0.381</td>\n",
       "</tr>\n",
       "<tr>\n",
       "  <th>Prob(Omnibus):</th> <td> 0.000</td> <th>  Jarque-Bera (JB):  </th> <td>  61.611</td>\n",
       "</tr>\n",
       "<tr>\n",
       "  <th>Skew:</th>          <td>-0.187</td> <th>  Prob(JB):          </th> <td>4.18e-14</td>\n",
       "</tr>\n",
       "<tr>\n",
       "  <th>Kurtosis:</th>      <td> 2.719</td> <th>  Cond. No.          </th> <td>    24.0</td>\n",
       "</tr>\n",
       "</table><br/><br/>Warnings:<br/>[1] Standard Errors assume that the covariance matrix of the errors is correctly specified."
      ],
      "text/plain": [
       "<class 'statsmodels.iolib.summary.Summary'>\n",
       "\"\"\"\n",
       "                                          OLS Regression Results                                         \n",
       "=========================================================================================================\n",
       "Dep. Variable:     FGO Conc Flow Controller PV -  m3/hr   R-squared (uncentered):                   0.882\n",
       "Model:                                              OLS   Adj. R-squared (uncentered):              0.882\n",
       "Method:                                   Least Squares   F-statistic:                          1.013e+04\n",
       "Date:                                  Tue, 21 Jan 2020   Prob (F-statistic):                        0.00\n",
       "Time:                                          14:13:30   Log-Likelihood:                         -47169.\n",
       "No. Observations:                                  6755   AIC:                                  9.435e+04\n",
       "Df Residuals:                                      6750   BIC:                                  9.438e+04\n",
       "Df Model:                                             5                                                  \n",
       "Covariance Type:                              nonrobust                                                  \n",
       "=========================================================================================================\n",
       "                                            coef    std err          t      P>|t|      [0.025      0.975]\n",
       "---------------------------------------------------------------------------------------------------------\n",
       "TK1551 Air Blower Flow Loop PV - m3/h     0.5708      0.033     17.312      0.000       0.506       0.635\n",
       "TK1552 Air Blower Flow Loop PV - m3/h    -0.0099      0.026     -0.379      0.705      -0.061       0.041\n",
       "TK1553 Air Blower Flow Loop PV - m3/h     0.5539      0.037     14.953      0.000       0.481       0.627\n",
       "TK1554 Air Blower Flow Loop PV - m3/h    -0.4884      0.034    -14.176      0.000      -0.556      -0.421\n",
       "TK1555 Air Blower Flow Loop PV - m3/h     0.3515      0.029     12.287      0.000       0.295       0.408\n",
       "==============================================================================\n",
       "Omnibus:                       68.667   Durbin-Watson:                   0.381\n",
       "Prob(Omnibus):                  0.000   Jarque-Bera (JB):               61.611\n",
       "Skew:                          -0.187   Prob(JB):                     4.18e-14\n",
       "Kurtosis:                       2.719   Cond. No.                         24.0\n",
       "==============================================================================\n",
       "\n",
       "Warnings:\n",
       "[1] Standard Errors assume that the covariance matrix of the errors is correctly specified.\n",
       "\"\"\""
      ]
     },
     "execution_count": 61,
     "metadata": {},
     "output_type": "execute_result"
    }
   ],
   "source": [
    "result15 = sm.OLS(y,aic,missing='drop').fit()\n",
    "result15.summary()"
   ]
  },
  {
   "cell_type": "code",
   "execution_count": 64,
   "metadata": {},
   "outputs": [],
   "source": [
    "aic_1=data[['TK1551 Air Blower Flow Loop PV - m3/h',\n",
    "       'TK1553 Air Blower Flow Loop PV - m3/h',\n",
    "       'TK1554 Air Blower Flow Loop PV - m3/h',\n",
    "       'TK1555 Air Blower Flow Loop PV - m3/h']]"
   ]
  },
  {
   "cell_type": "code",
   "execution_count": 65,
   "metadata": {},
   "outputs": [
    {
     "data": {
      "text/html": [
       "<table class=\"simpletable\">\n",
       "<caption>OLS Regression Results</caption>\n",
       "<tr>\n",
       "  <th>Dep. Variable:</th>    <td>FGO Conc Flow Controller PV -  m3/hr</td> <th>  R-squared (uncentered):</th>      <td>   0.882</td> \n",
       "</tr>\n",
       "<tr>\n",
       "  <th>Model:</th>                             <td>OLS</td>                 <th>  Adj. R-squared (uncentered):</th> <td>   0.882</td> \n",
       "</tr>\n",
       "<tr>\n",
       "  <th>Method:</th>                       <td>Least Squares</td>            <th>  F-statistic:       </th>          <td>1.266e+04</td>\n",
       "</tr>\n",
       "<tr>\n",
       "  <th>Date:</th>                       <td>Tue, 21 Jan 2020</td>           <th>  Prob (F-statistic):</th>           <td>  0.00</td>  \n",
       "</tr>\n",
       "<tr>\n",
       "  <th>Time:</th>                           <td>14:14:16</td>               <th>  Log-Likelihood:    </th>          <td> -47169.</td> \n",
       "</tr>\n",
       "<tr>\n",
       "  <th>No. Observations:</th>                <td>  6755</td>                <th>  AIC:               </th>          <td>9.435e+04</td>\n",
       "</tr>\n",
       "<tr>\n",
       "  <th>Df Residuals:</th>                    <td>  6751</td>                <th>  BIC:               </th>          <td>9.437e+04</td>\n",
       "</tr>\n",
       "<tr>\n",
       "  <th>Df Model:</th>                        <td>     4</td>                <th>                     </th>              <td> </td>    \n",
       "</tr>\n",
       "<tr>\n",
       "  <th>Covariance Type:</th>                <td>nonrobust</td>              <th>                     </th>              <td> </td>    \n",
       "</tr>\n",
       "</table>\n",
       "<table class=\"simpletable\">\n",
       "<tr>\n",
       "                    <td></td>                       <th>coef</th>     <th>std err</th>      <th>t</th>      <th>P>|t|</th>  <th>[0.025</th>    <th>0.975]</th>  \n",
       "</tr>\n",
       "<tr>\n",
       "  <th>TK1551 Air Blower Flow Loop PV - m3/h</th> <td>    0.5673</td> <td>    0.032</td> <td>   17.922</td> <td> 0.000</td> <td>    0.505</td> <td>    0.629</td>\n",
       "</tr>\n",
       "<tr>\n",
       "  <th>TK1553 Air Blower Flow Loop PV - m3/h</th> <td>    0.5482</td> <td>    0.034</td> <td>   16.214</td> <td> 0.000</td> <td>    0.482</td> <td>    0.614</td>\n",
       "</tr>\n",
       "<tr>\n",
       "  <th>TK1554 Air Blower Flow Loop PV - m3/h</th> <td>   -0.4875</td> <td>    0.034</td> <td>  -14.182</td> <td> 0.000</td> <td>   -0.555</td> <td>   -0.420</td>\n",
       "</tr>\n",
       "<tr>\n",
       "  <th>TK1555 Air Blower Flow Loop PV - m3/h</th> <td>    0.3510</td> <td>    0.029</td> <td>   12.284</td> <td> 0.000</td> <td>    0.295</td> <td>    0.407</td>\n",
       "</tr>\n",
       "</table>\n",
       "<table class=\"simpletable\">\n",
       "<tr>\n",
       "  <th>Omnibus:</th>       <td>67.294</td> <th>  Durbin-Watson:     </th> <td>   0.381</td>\n",
       "</tr>\n",
       "<tr>\n",
       "  <th>Prob(Omnibus):</th> <td> 0.000</td> <th>  Jarque-Bera (JB):  </th> <td>  60.728</td>\n",
       "</tr>\n",
       "<tr>\n",
       "  <th>Skew:</th>          <td>-0.187</td> <th>  Prob(JB):          </th> <td>6.50e-14</td>\n",
       "</tr>\n",
       "<tr>\n",
       "  <th>Kurtosis:</th>      <td> 2.725</td> <th>  Cond. No.          </th> <td>    21.3</td>\n",
       "</tr>\n",
       "</table><br/><br/>Warnings:<br/>[1] Standard Errors assume that the covariance matrix of the errors is correctly specified."
      ],
      "text/plain": [
       "<class 'statsmodels.iolib.summary.Summary'>\n",
       "\"\"\"\n",
       "                                          OLS Regression Results                                         \n",
       "=========================================================================================================\n",
       "Dep. Variable:     FGO Conc Flow Controller PV -  m3/hr   R-squared (uncentered):                   0.882\n",
       "Model:                                              OLS   Adj. R-squared (uncentered):              0.882\n",
       "Method:                                   Least Squares   F-statistic:                          1.266e+04\n",
       "Date:                                  Tue, 21 Jan 2020   Prob (F-statistic):                        0.00\n",
       "Time:                                          14:14:16   Log-Likelihood:                         -47169.\n",
       "No. Observations:                                  6755   AIC:                                  9.435e+04\n",
       "Df Residuals:                                      6751   BIC:                                  9.437e+04\n",
       "Df Model:                                             4                                                  \n",
       "Covariance Type:                              nonrobust                                                  \n",
       "=========================================================================================================\n",
       "                                            coef    std err          t      P>|t|      [0.025      0.975]\n",
       "---------------------------------------------------------------------------------------------------------\n",
       "TK1551 Air Blower Flow Loop PV - m3/h     0.5673      0.032     17.922      0.000       0.505       0.629\n",
       "TK1553 Air Blower Flow Loop PV - m3/h     0.5482      0.034     16.214      0.000       0.482       0.614\n",
       "TK1554 Air Blower Flow Loop PV - m3/h    -0.4875      0.034    -14.182      0.000      -0.555      -0.420\n",
       "TK1555 Air Blower Flow Loop PV - m3/h     0.3510      0.029     12.284      0.000       0.295       0.407\n",
       "==============================================================================\n",
       "Omnibus:                       67.294   Durbin-Watson:                   0.381\n",
       "Prob(Omnibus):                  0.000   Jarque-Bera (JB):               60.728\n",
       "Skew:                          -0.187   Prob(JB):                     6.50e-14\n",
       "Kurtosis:                       2.725   Cond. No.                         21.3\n",
       "==============================================================================\n",
       "\n",
       "Warnings:\n",
       "[1] Standard Errors assume that the covariance matrix of the errors is correctly specified.\n",
       "\"\"\""
      ]
     },
     "execution_count": 65,
     "metadata": {},
     "output_type": "execute_result"
    }
   ],
   "source": [
    "result16 = sm.OLS(y,aic_1,missing='drop').fit()\n",
    "result16.summary()"
   ]
  },
  {
   "cell_type": "markdown",
   "metadata": {},
   "source": [
    "# Velocity to Aircontrol"
   ]
  },
  {
   "cell_type": "code",
   "execution_count": 66,
   "metadata": {},
   "outputs": [],
   "source": [
    "vac=data[['TK1551 VELOCITY TO AIR CTRL PV - m3/hr',\n",
    "       'TK1552 VELOCITY TO AIR CTRL PV - mm/s',\n",
    "       'TK1553 VELOCITY TO AIR CTRL PV - mm/s',\n",
    "       'TK1554 VELOCITY TO AIR CTRL PV - mm/s',\n",
    "       'TK1555 VELOCITY TO AIR CTRL PV - mm/s']]"
   ]
  },
  {
   "cell_type": "code",
   "execution_count": 67,
   "metadata": {},
   "outputs": [
    {
     "data": {
      "text/html": [
       "<table class=\"simpletable\">\n",
       "<caption>OLS Regression Results</caption>\n",
       "<tr>\n",
       "  <th>Dep. Variable:</th>    <td>FGO Conc Flow Controller PV -  m3/hr</td> <th>  R-squared (uncentered):</th>      <td>   0.921</td> \n",
       "</tr>\n",
       "<tr>\n",
       "  <th>Model:</th>                             <td>OLS</td>                 <th>  Adj. R-squared (uncentered):</th> <td>   0.921</td> \n",
       "</tr>\n",
       "<tr>\n",
       "  <th>Method:</th>                       <td>Least Squares</td>            <th>  F-statistic:       </th>          <td>1.174e+04</td>\n",
       "</tr>\n",
       "<tr>\n",
       "  <th>Date:</th>                       <td>Tue, 21 Jan 2020</td>           <th>  Prob (F-statistic):</th>           <td>  0.00</td>  \n",
       "</tr>\n",
       "<tr>\n",
       "  <th>Time:</th>                           <td>14:16:41</td>               <th>  Log-Likelihood:    </th>          <td> -34311.</td> \n",
       "</tr>\n",
       "<tr>\n",
       "  <th>No. Observations:</th>                <td>  5038</td>                <th>  AIC:               </th>          <td>6.863e+04</td>\n",
       "</tr>\n",
       "<tr>\n",
       "  <th>Df Residuals:</th>                    <td>  5033</td>                <th>  BIC:               </th>          <td>6.866e+04</td>\n",
       "</tr>\n",
       "<tr>\n",
       "  <th>Df Model:</th>                        <td>     5</td>                <th>                     </th>              <td> </td>    \n",
       "</tr>\n",
       "<tr>\n",
       "  <th>Covariance Type:</th>                <td>nonrobust</td>              <th>                     </th>              <td> </td>    \n",
       "</tr>\n",
       "</table>\n",
       "<table class=\"simpletable\">\n",
       "<tr>\n",
       "                     <td></td>                       <th>coef</th>     <th>std err</th>      <th>t</th>      <th>P>|t|</th>  <th>[0.025</th>    <th>0.975]</th>  \n",
       "</tr>\n",
       "<tr>\n",
       "  <th>TK1551 VELOCITY TO AIR CTRL PV - m3/hr</th> <td>    1.6489</td> <td>    0.136</td> <td>   12.162</td> <td> 0.000</td> <td>    1.383</td> <td>    1.915</td>\n",
       "</tr>\n",
       "<tr>\n",
       "  <th>TK1552 VELOCITY TO AIR CTRL PV - mm/s</th>  <td>    0.3939</td> <td>    0.172</td> <td>    2.287</td> <td> 0.022</td> <td>    0.056</td> <td>    0.732</td>\n",
       "</tr>\n",
       "<tr>\n",
       "  <th>TK1553 VELOCITY TO AIR CTRL PV - mm/s</th>  <td>    2.3923</td> <td>    0.183</td> <td>   13.084</td> <td> 0.000</td> <td>    2.034</td> <td>    2.751</td>\n",
       "</tr>\n",
       "<tr>\n",
       "  <th>TK1554 VELOCITY TO AIR CTRL PV - mm/s</th>  <td>    3.5247</td> <td>    0.248</td> <td>   14.216</td> <td> 0.000</td> <td>    3.039</td> <td>    4.011</td>\n",
       "</tr>\n",
       "<tr>\n",
       "  <th>TK1555 VELOCITY TO AIR CTRL PV - mm/s</th>  <td>    2.2652</td> <td>    0.209</td> <td>   10.856</td> <td> 0.000</td> <td>    1.856</td> <td>    2.674</td>\n",
       "</tr>\n",
       "</table>\n",
       "<table class=\"simpletable\">\n",
       "<tr>\n",
       "  <th>Omnibus:</th>       <td>32.620</td> <th>  Durbin-Watson:     </th> <td>   0.347</td>\n",
       "</tr>\n",
       "<tr>\n",
       "  <th>Prob(Omnibus):</th> <td> 0.000</td> <th>  Jarque-Bera (JB):  </th> <td>  39.876</td>\n",
       "</tr>\n",
       "<tr>\n",
       "  <th>Skew:</th>          <td> 0.119</td> <th>  Prob(JB):          </th> <td>2.19e-09</td>\n",
       "</tr>\n",
       "<tr>\n",
       "  <th>Kurtosis:</th>      <td> 3.365</td> <th>  Cond. No.          </th> <td>    17.0</td>\n",
       "</tr>\n",
       "</table><br/><br/>Warnings:<br/>[1] Standard Errors assume that the covariance matrix of the errors is correctly specified."
      ],
      "text/plain": [
       "<class 'statsmodels.iolib.summary.Summary'>\n",
       "\"\"\"\n",
       "                                          OLS Regression Results                                         \n",
       "=========================================================================================================\n",
       "Dep. Variable:     FGO Conc Flow Controller PV -  m3/hr   R-squared (uncentered):                   0.921\n",
       "Model:                                              OLS   Adj. R-squared (uncentered):              0.921\n",
       "Method:                                   Least Squares   F-statistic:                          1.174e+04\n",
       "Date:                                  Tue, 21 Jan 2020   Prob (F-statistic):                        0.00\n",
       "Time:                                          14:16:41   Log-Likelihood:                         -34311.\n",
       "No. Observations:                                  5038   AIC:                                  6.863e+04\n",
       "Df Residuals:                                      5033   BIC:                                  6.866e+04\n",
       "Df Model:                                             5                                                  \n",
       "Covariance Type:                              nonrobust                                                  \n",
       "==========================================================================================================\n",
       "                                             coef    std err          t      P>|t|      [0.025      0.975]\n",
       "----------------------------------------------------------------------------------------------------------\n",
       "TK1551 VELOCITY TO AIR CTRL PV - m3/hr     1.6489      0.136     12.162      0.000       1.383       1.915\n",
       "TK1552 VELOCITY TO AIR CTRL PV - mm/s      0.3939      0.172      2.287      0.022       0.056       0.732\n",
       "TK1553 VELOCITY TO AIR CTRL PV - mm/s      2.3923      0.183     13.084      0.000       2.034       2.751\n",
       "TK1554 VELOCITY TO AIR CTRL PV - mm/s      3.5247      0.248     14.216      0.000       3.039       4.011\n",
       "TK1555 VELOCITY TO AIR CTRL PV - mm/s      2.2652      0.209     10.856      0.000       1.856       2.674\n",
       "==============================================================================\n",
       "Omnibus:                       32.620   Durbin-Watson:                   0.347\n",
       "Prob(Omnibus):                  0.000   Jarque-Bera (JB):               39.876\n",
       "Skew:                           0.119   Prob(JB):                     2.19e-09\n",
       "Kurtosis:                       3.365   Cond. No.                         17.0\n",
       "==============================================================================\n",
       "\n",
       "Warnings:\n",
       "[1] Standard Errors assume that the covariance matrix of the errors is correctly specified.\n",
       "\"\"\""
      ]
     },
     "execution_count": 67,
     "metadata": {},
     "output_type": "execute_result"
    }
   ],
   "source": [
    "result17 = sm.OLS(y,vac,missing='drop').fit()\n",
    "result17.summary()"
   ]
  },
  {
   "cell_type": "markdown",
   "metadata": {},
   "source": [
    "# Bubble Diameter"
   ]
  },
  {
   "cell_type": "code",
   "execution_count": 68,
   "metadata": {},
   "outputs": [],
   "source": [
    "bud=data[['TK1552 Froth Bubble Diameter - mm',\n",
    "       'TK1553 Froth Bubble Diameter - mm']]"
   ]
  },
  {
   "cell_type": "code",
   "execution_count": 69,
   "metadata": {},
   "outputs": [
    {
     "data": {
      "text/html": [
       "<table class=\"simpletable\">\n",
       "<caption>OLS Regression Results</caption>\n",
       "<tr>\n",
       "  <th>Dep. Variable:</th>    <td>FGO Conc Flow Controller PV -  m3/hr</td> <th>  R-squared (uncentered):</th>      <td>   0.828</td> \n",
       "</tr>\n",
       "<tr>\n",
       "  <th>Model:</th>                             <td>OLS</td>                 <th>  Adj. R-squared (uncentered):</th> <td>   0.828</td> \n",
       "</tr>\n",
       "<tr>\n",
       "  <th>Method:</th>                       <td>Least Squares</td>            <th>  F-statistic:       </th>          <td>1.372e+04</td>\n",
       "</tr>\n",
       "<tr>\n",
       "  <th>Date:</th>                       <td>Tue, 21 Jan 2020</td>           <th>  Prob (F-statistic):</th>           <td>  0.00</td>  \n",
       "</tr>\n",
       "<tr>\n",
       "  <th>Time:</th>                           <td>14:17:40</td>               <th>  Log-Likelihood:    </th>          <td> -40733.</td> \n",
       "</tr>\n",
       "<tr>\n",
       "  <th>No. Observations:</th>                <td>  5681</td>                <th>  AIC:               </th>          <td>8.147e+04</td>\n",
       "</tr>\n",
       "<tr>\n",
       "  <th>Df Residuals:</th>                    <td>  5679</td>                <th>  BIC:               </th>          <td>8.148e+04</td>\n",
       "</tr>\n",
       "<tr>\n",
       "  <th>Df Model:</th>                        <td>     2</td>                <th>                     </th>              <td> </td>    \n",
       "</tr>\n",
       "<tr>\n",
       "  <th>Covariance Type:</th>                <td>nonrobust</td>              <th>                     </th>              <td> </td>    \n",
       "</tr>\n",
       "</table>\n",
       "<table class=\"simpletable\">\n",
       "<tr>\n",
       "                  <td></td>                     <th>coef</th>     <th>std err</th>      <th>t</th>      <th>P>|t|</th>  <th>[0.025</th>    <th>0.975]</th>  \n",
       "</tr>\n",
       "<tr>\n",
       "  <th>TK1552 Froth Bubble Diameter - mm</th> <td>   23.1925</td> <td>    0.957</td> <td>   24.238</td> <td> 0.000</td> <td>   21.317</td> <td>   25.068</td>\n",
       "</tr>\n",
       "<tr>\n",
       "  <th>TK1553 Froth Bubble Diameter - mm</th> <td>   13.3595</td> <td>    1.093</td> <td>   12.226</td> <td> 0.000</td> <td>   11.217</td> <td>   15.502</td>\n",
       "</tr>\n",
       "</table>\n",
       "<table class=\"simpletable\">\n",
       "<tr>\n",
       "  <th>Omnibus:</th>       <td>82.717</td> <th>  Durbin-Watson:     </th> <td>   0.393</td>\n",
       "</tr>\n",
       "<tr>\n",
       "  <th>Prob(Omnibus):</th> <td> 0.000</td> <th>  Jarque-Bera (JB):  </th> <td>  49.798</td>\n",
       "</tr>\n",
       "<tr>\n",
       "  <th>Skew:</th>          <td>-0.047</td> <th>  Prob(JB):          </th> <td>1.54e-11</td>\n",
       "</tr>\n",
       "<tr>\n",
       "  <th>Kurtosis:</th>      <td> 2.551</td> <th>  Cond. No.          </th> <td>    9.11</td>\n",
       "</tr>\n",
       "</table><br/><br/>Warnings:<br/>[1] Standard Errors assume that the covariance matrix of the errors is correctly specified."
      ],
      "text/plain": [
       "<class 'statsmodels.iolib.summary.Summary'>\n",
       "\"\"\"\n",
       "                                          OLS Regression Results                                         \n",
       "=========================================================================================================\n",
       "Dep. Variable:     FGO Conc Flow Controller PV -  m3/hr   R-squared (uncentered):                   0.828\n",
       "Model:                                              OLS   Adj. R-squared (uncentered):              0.828\n",
       "Method:                                   Least Squares   F-statistic:                          1.372e+04\n",
       "Date:                                  Tue, 21 Jan 2020   Prob (F-statistic):                        0.00\n",
       "Time:                                          14:17:40   Log-Likelihood:                         -40733.\n",
       "No. Observations:                                  5681   AIC:                                  8.147e+04\n",
       "Df Residuals:                                      5679   BIC:                                  8.148e+04\n",
       "Df Model:                                             2                                                  \n",
       "Covariance Type:                              nonrobust                                                  \n",
       "=====================================================================================================\n",
       "                                        coef    std err          t      P>|t|      [0.025      0.975]\n",
       "-----------------------------------------------------------------------------------------------------\n",
       "TK1552 Froth Bubble Diameter - mm    23.1925      0.957     24.238      0.000      21.317      25.068\n",
       "TK1553 Froth Bubble Diameter - mm    13.3595      1.093     12.226      0.000      11.217      15.502\n",
       "==============================================================================\n",
       "Omnibus:                       82.717   Durbin-Watson:                   0.393\n",
       "Prob(Omnibus):                  0.000   Jarque-Bera (JB):               49.798\n",
       "Skew:                          -0.047   Prob(JB):                     1.54e-11\n",
       "Kurtosis:                       2.551   Cond. No.                         9.11\n",
       "==============================================================================\n",
       "\n",
       "Warnings:\n",
       "[1] Standard Errors assume that the covariance matrix of the errors is correctly specified.\n",
       "\"\"\""
      ]
     },
     "execution_count": 69,
     "metadata": {},
     "output_type": "execute_result"
    }
   ],
   "source": [
    "result18 = sm.OLS(y,bud,missing='drop').fit()\n",
    "result18.summary()"
   ]
  },
  {
   "cell_type": "code",
   "execution_count": 70,
   "metadata": {},
   "outputs": [],
   "source": [
    "final=data[['FGO TK1552 Level Ctr PV - mm',\n",
    "       'FGO TK1553 Level Ctr PV - mm',\n",
    "       'FGO TK1555 Level Ctr PV - mm',\n",
    "       'TK1551 Air Blower Flow Loop PV - m3/h',\n",
    "       'TK1553 Air Blower Flow Loop PV - m3/h',\n",
    "       'TK1554 Air Blower Flow Loop PV - m3/h',\n",
    "       'TK1555 Air Blower Flow Loop PV - m3/h',\n",
    "       'TK1551 VELOCITY TO AIR CTRL PV - m3/hr',\n",
    "       'TK1552 VELOCITY TO AIR CTRL PV - mm/s',\n",
    "       'TK1553 VELOCITY TO AIR CTRL PV - mm/s',\n",
    "       'TK1554 VELOCITY TO AIR CTRL PV - mm/s',\n",
    "       'TK1555 VELOCITY TO AIR CTRL PV - mm/s',\n",
    "       'TK1552 Froth Bubble Diameter - mm',\n",
    "       'TK1553 Froth Bubble Diameter - mm']]"
   ]
  },
  {
   "cell_type": "code",
   "execution_count": 72,
   "metadata": {},
   "outputs": [
    {
     "data": {
      "text/html": [
       "<table class=\"simpletable\">\n",
       "<caption>OLS Regression Results</caption>\n",
       "<tr>\n",
       "  <th>Dep. Variable:</th>    <td>FGO Conc Flow Controller PV -  m3/hr</td> <th>  R-squared (uncentered):</th>      <td>   0.936</td> \n",
       "</tr>\n",
       "<tr>\n",
       "  <th>Model:</th>                             <td>OLS</td>                 <th>  Adj. R-squared (uncentered):</th> <td>   0.936</td> \n",
       "</tr>\n",
       "<tr>\n",
       "  <th>Method:</th>                       <td>Least Squares</td>            <th>  F-statistic:       </th>          <td>   4809.</td> \n",
       "</tr>\n",
       "<tr>\n",
       "  <th>Date:</th>                       <td>Tue, 21 Jan 2020</td>           <th>  Prob (F-statistic):</th>           <td>  0.00</td>  \n",
       "</tr>\n",
       "<tr>\n",
       "  <th>Time:</th>                           <td>14:19:20</td>               <th>  Log-Likelihood:    </th>          <td> -30952.</td> \n",
       "</tr>\n",
       "<tr>\n",
       "  <th>No. Observations:</th>                <td>  4615</td>                <th>  AIC:               </th>          <td>6.193e+04</td>\n",
       "</tr>\n",
       "<tr>\n",
       "  <th>Df Residuals:</th>                    <td>  4601</td>                <th>  BIC:               </th>          <td>6.202e+04</td>\n",
       "</tr>\n",
       "<tr>\n",
       "  <th>Df Model:</th>                        <td>    14</td>                <th>                     </th>              <td> </td>    \n",
       "</tr>\n",
       "<tr>\n",
       "  <th>Covariance Type:</th>                <td>nonrobust</td>              <th>                     </th>              <td> </td>    \n",
       "</tr>\n",
       "</table>\n",
       "<table class=\"simpletable\">\n",
       "<tr>\n",
       "                     <td></td>                       <th>coef</th>     <th>std err</th>      <th>t</th>      <th>P>|t|</th>  <th>[0.025</th>    <th>0.975]</th>  \n",
       "</tr>\n",
       "<tr>\n",
       "  <th>FGO TK1552 Level Ctr PV - mm</th>           <td>   -0.1813</td> <td>    0.078</td> <td>   -2.331</td> <td> 0.020</td> <td>   -0.334</td> <td>   -0.029</td>\n",
       "</tr>\n",
       "<tr>\n",
       "  <th>FGO TK1553 Level Ctr PV - mm</th>           <td>    0.6795</td> <td>    0.061</td> <td>   11.095</td> <td> 0.000</td> <td>    0.559</td> <td>    0.800</td>\n",
       "</tr>\n",
       "<tr>\n",
       "  <th>FGO TK1555 Level Ctr PV - mm</th>           <td>   -0.7479</td> <td>    0.053</td> <td>  -14.224</td> <td> 0.000</td> <td>   -0.851</td> <td>   -0.645</td>\n",
       "</tr>\n",
       "<tr>\n",
       "  <th>TK1551 Air Blower Flow Loop PV - m3/h</th>  <td>    0.4063</td> <td>    0.031</td> <td>   13.054</td> <td> 0.000</td> <td>    0.345</td> <td>    0.467</td>\n",
       "</tr>\n",
       "<tr>\n",
       "  <th>TK1553 Air Blower Flow Loop PV - m3/h</th>  <td>    0.2387</td> <td>    0.037</td> <td>    6.493</td> <td> 0.000</td> <td>    0.167</td> <td>    0.311</td>\n",
       "</tr>\n",
       "<tr>\n",
       "  <th>TK1554 Air Blower Flow Loop PV - m3/h</th>  <td>   -0.4099</td> <td>    0.032</td> <td>  -12.614</td> <td> 0.000</td> <td>   -0.474</td> <td>   -0.346</td>\n",
       "</tr>\n",
       "<tr>\n",
       "  <th>TK1555 Air Blower Flow Loop PV - m3/h</th>  <td>    0.2549</td> <td>    0.027</td> <td>    9.415</td> <td> 0.000</td> <td>    0.202</td> <td>    0.308</td>\n",
       "</tr>\n",
       "<tr>\n",
       "  <th>TK1551 VELOCITY TO AIR CTRL PV - m3/hr</th> <td>    0.9806</td> <td>    0.134</td> <td>    7.308</td> <td> 0.000</td> <td>    0.718</td> <td>    1.244</td>\n",
       "</tr>\n",
       "<tr>\n",
       "  <th>TK1552 VELOCITY TO AIR CTRL PV - mm/s</th>  <td>    0.8651</td> <td>    0.197</td> <td>    4.389</td> <td> 0.000</td> <td>    0.479</td> <td>    1.252</td>\n",
       "</tr>\n",
       "<tr>\n",
       "  <th>TK1553 VELOCITY TO AIR CTRL PV - mm/s</th>  <td>    1.3017</td> <td>    0.214</td> <td>    6.092</td> <td> 0.000</td> <td>    0.883</td> <td>    1.721</td>\n",
       "</tr>\n",
       "<tr>\n",
       "  <th>TK1554 VELOCITY TO AIR CTRL PV - mm/s</th>  <td>    4.3469</td> <td>    0.250</td> <td>   17.419</td> <td> 0.000</td> <td>    3.858</td> <td>    4.836</td>\n",
       "</tr>\n",
       "<tr>\n",
       "  <th>TK1555 VELOCITY TO AIR CTRL PV - mm/s</th>  <td>    0.9227</td> <td>    0.228</td> <td>    4.039</td> <td> 0.000</td> <td>    0.475</td> <td>    1.371</td>\n",
       "</tr>\n",
       "<tr>\n",
       "  <th>TK1552 Froth Bubble Diameter - mm</th>      <td>   -4.0601</td> <td>    0.803</td> <td>   -5.059</td> <td> 0.000</td> <td>   -5.633</td> <td>   -2.487</td>\n",
       "</tr>\n",
       "<tr>\n",
       "  <th>TK1553 Froth Bubble Diameter - mm</th>      <td>   -7.2448</td> <td>    0.927</td> <td>   -7.817</td> <td> 0.000</td> <td>   -9.062</td> <td>   -5.428</td>\n",
       "</tr>\n",
       "</table>\n",
       "<table class=\"simpletable\">\n",
       "<tr>\n",
       "  <th>Omnibus:</th>       <td>17.673</td> <th>  Durbin-Watson:     </th> <td>   0.426</td>\n",
       "</tr>\n",
       "<tr>\n",
       "  <th>Prob(Omnibus):</th> <td> 0.000</td> <th>  Jarque-Bera (JB):  </th> <td>  21.512</td>\n",
       "</tr>\n",
       "<tr>\n",
       "  <th>Skew:</th>          <td> 0.069</td> <th>  Prob(JB):          </th> <td>2.13e-05</td>\n",
       "</tr>\n",
       "<tr>\n",
       "  <th>Kurtosis:</th>      <td> 3.305</td> <th>  Cond. No.          </th> <td>    560.</td>\n",
       "</tr>\n",
       "</table><br/><br/>Warnings:<br/>[1] Standard Errors assume that the covariance matrix of the errors is correctly specified."
      ],
      "text/plain": [
       "<class 'statsmodels.iolib.summary.Summary'>\n",
       "\"\"\"\n",
       "                                          OLS Regression Results                                         \n",
       "=========================================================================================================\n",
       "Dep. Variable:     FGO Conc Flow Controller PV -  m3/hr   R-squared (uncentered):                   0.936\n",
       "Model:                                              OLS   Adj. R-squared (uncentered):              0.936\n",
       "Method:                                   Least Squares   F-statistic:                              4809.\n",
       "Date:                                  Tue, 21 Jan 2020   Prob (F-statistic):                        0.00\n",
       "Time:                                          14:19:20   Log-Likelihood:                         -30952.\n",
       "No. Observations:                                  4615   AIC:                                  6.193e+04\n",
       "Df Residuals:                                      4601   BIC:                                  6.202e+04\n",
       "Df Model:                                            14                                                  \n",
       "Covariance Type:                              nonrobust                                                  \n",
       "==========================================================================================================\n",
       "                                             coef    std err          t      P>|t|      [0.025      0.975]\n",
       "----------------------------------------------------------------------------------------------------------\n",
       "FGO TK1552 Level Ctr PV - mm              -0.1813      0.078     -2.331      0.020      -0.334      -0.029\n",
       "FGO TK1553 Level Ctr PV - mm               0.6795      0.061     11.095      0.000       0.559       0.800\n",
       "FGO TK1555 Level Ctr PV - mm              -0.7479      0.053    -14.224      0.000      -0.851      -0.645\n",
       "TK1551 Air Blower Flow Loop PV - m3/h      0.4063      0.031     13.054      0.000       0.345       0.467\n",
       "TK1553 Air Blower Flow Loop PV - m3/h      0.2387      0.037      6.493      0.000       0.167       0.311\n",
       "TK1554 Air Blower Flow Loop PV - m3/h     -0.4099      0.032    -12.614      0.000      -0.474      -0.346\n",
       "TK1555 Air Blower Flow Loop PV - m3/h      0.2549      0.027      9.415      0.000       0.202       0.308\n",
       "TK1551 VELOCITY TO AIR CTRL PV - m3/hr     0.9806      0.134      7.308      0.000       0.718       1.244\n",
       "TK1552 VELOCITY TO AIR CTRL PV - mm/s      0.8651      0.197      4.389      0.000       0.479       1.252\n",
       "TK1553 VELOCITY TO AIR CTRL PV - mm/s      1.3017      0.214      6.092      0.000       0.883       1.721\n",
       "TK1554 VELOCITY TO AIR CTRL PV - mm/s      4.3469      0.250     17.419      0.000       3.858       4.836\n",
       "TK1555 VELOCITY TO AIR CTRL PV - mm/s      0.9227      0.228      4.039      0.000       0.475       1.371\n",
       "TK1552 Froth Bubble Diameter - mm         -4.0601      0.803     -5.059      0.000      -5.633      -2.487\n",
       "TK1553 Froth Bubble Diameter - mm         -7.2448      0.927     -7.817      0.000      -9.062      -5.428\n",
       "==============================================================================\n",
       "Omnibus:                       17.673   Durbin-Watson:                   0.426\n",
       "Prob(Omnibus):                  0.000   Jarque-Bera (JB):               21.512\n",
       "Skew:                           0.069   Prob(JB):                     2.13e-05\n",
       "Kurtosis:                       3.305   Cond. No.                         560.\n",
       "==============================================================================\n",
       "\n",
       "Warnings:\n",
       "[1] Standard Errors assume that the covariance matrix of the errors is correctly specified.\n",
       "\"\"\""
      ]
     },
     "execution_count": 72,
     "metadata": {},
     "output_type": "execute_result"
    }
   ],
   "source": [
    "result19 = sm.OLS(y,final,missing='drop').fit()\n",
    "result19.summary()"
   ]
  },
  {
   "cell_type": "code",
   "execution_count": null,
   "metadata": {},
   "outputs": [],
   "source": []
  }
 ],
 "metadata": {
  "kernelspec": {
   "display_name": "Python 3",
   "language": "python",
   "name": "python3"
  },
  "language_info": {
   "codemirror_mode": {
    "name": "ipython",
    "version": 3
   },
   "file_extension": ".py",
   "mimetype": "text/x-python",
   "name": "python",
   "nbconvert_exporter": "python",
   "pygments_lexer": "ipython3",
   "version": "3.7.3"
  }
 },
 "nbformat": 4,
 "nbformat_minor": 2
}
